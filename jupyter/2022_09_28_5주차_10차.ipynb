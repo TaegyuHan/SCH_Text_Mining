{
 "cells": [
  {
   "cell_type": "markdown",
   "source": [
    "# SCH 빅데이터 공학과 3학년-2학기 텍스트 마이닝\n",
    "날짜 : 2022-09-28 수요일 15:00 5주 10차시\n",
    "교수 : 문지훈\n",
    "학생 : 한태규"
   ],
   "metadata": {
    "collapsed": false,
    "pycharm": {
     "name": "#%% md\n"
    }
   }
  },
  {
   "cell_type": "markdown",
   "source": [
    "# 텍스트 데이터 전처리(4)\n",
    "\n",
    "## 같은 어근 동일화 중요성\n",
    "\n",
    "- 다르게 생긴 단어라 할지라도 같은 의미인 단어들이 존재\n",
    "- 의미는 같지만, 형태가 조금씩 다른 단어들의 경우에 전처리하지 않고 분석하게 된다면?\n",
    "    > 컴퓨터는 제각각 다른 단어로 인식하고 분석함\n",
    "- 분석전 어근 동일화 (Stemming) 과정을 통해 동일한 의미의 단어들을 같은 형태로 동일해야 함.\n",
    "\n",
    "- 엔그램(N-gram)\n",
    "    - N번 연이어 등장하는 단어들의 연쇄\n",
    "    - 일반적으로 **영어**에만 적용\n",
    "        > 영어가 가진 특수한 성격으로 인해 필요한 전처리\n",
    "\n",
    "- 품사 분석을 수행하기 위한 **JAVA 환경 설치와 환경변수를 추가**할 수 있다.\n",
    "- KoNLPy 패키지를 통해 한국어 텍스트 데이터의 품사를 분석할 수 있다.\n",
    "    - Hannanum\n",
    "    - Kkma,\n",
    "    - Okt\n",
    "\n",
    "- NLTK 라이브러리를 통해 영어 **텍스트 데이터**의 **품사를 분석**할 수 있다."
   ],
   "metadata": {
    "collapsed": false,
    "pycharm": {
     "name": "#%% md\n"
    }
   }
  },
  {
   "cell_type": "markdown",
   "source": [
    "# 1. 품사분석(2)\n",
    "\n",
    "- Hannaum\n",
    "- Kkma\n",
    "- Twiter -> Okt"
   ],
   "metadata": {
    "collapsed": false,
    "pycharm": {
     "name": "#%% md\n"
    }
   }
  },
  {
   "cell_type": "code",
   "execution_count": 7,
   "outputs": [
    {
     "ename": "ModuleNotFoundError",
     "evalue": "No module named 'konlpy'",
     "output_type": "error",
     "traceback": [
      "\u001B[1;31m---------------------------------------------------------------------------\u001B[0m",
      "\u001B[1;31mModuleNotFoundError\u001B[0m                       Traceback (most recent call last)",
      "Input \u001B[1;32mIn [7]\u001B[0m, in \u001B[0;36m<cell line: 2>\u001B[1;34m()\u001B[0m\n\u001B[0;32m      1\u001B[0m \u001B[38;5;28;01mimport\u001B[39;00m \u001B[38;5;21;01mos\u001B[39;00m\n\u001B[1;32m----> 2\u001B[0m \u001B[38;5;28;01mfrom\u001B[39;00m \u001B[38;5;21;01mkonlpy\u001B[39;00m \u001B[38;5;28;01mimport\u001B[39;00m utils\n\u001B[0;32m      5\u001B[0m javadir \u001B[38;5;241m=\u001B[39m \u001B[38;5;124m'\u001B[39m\u001B[38;5;132;01m%s\u001B[39;00m\u001B[38;5;132;01m%s\u001B[39;00m\u001B[38;5;124mjava\u001B[39m\u001B[38;5;124m'\u001B[39m \u001B[38;5;241m%\u001B[39m (utils\u001B[38;5;241m.\u001B[39minstallpath, os\u001B[38;5;241m.\u001B[39msep)\n\u001B[0;32m      6\u001B[0m args \u001B[38;5;241m=\u001B[39m [javadir, os\u001B[38;5;241m.\u001B[39msep]\n",
      "\u001B[1;31mModuleNotFoundError\u001B[0m: No module named 'konlpy'"
     ]
    }
   ],
   "source": [
    "import os\n",
    "from konlpy import utils\n",
    "\n",
    "\n",
    "javadir = '%s%sjava' % (utils.installpath, os.sep)\n",
    "args = [javadir, os.sep]\n",
    "folder_suffix = ['{0}{1}open-korean-text-2.1.0.jar']\n",
    "classpath = [f.format(*args) for f in folder_suffix]\n",
    "\n",
    "print('javadir  : {}'.format(javadir))\n",
    "print('os.sep   : {}'.format(os.sep))\n",
    "print('classpath: {}'.format(classpath[0]))"
   ],
   "metadata": {
    "collapsed": false,
    "pycharm": {
     "name": "#%%\n"
    }
   }
  },
  {
   "cell_type": "code",
   "execution_count": 2,
   "outputs": [
    {
     "ename": "AttributeError",
     "evalue": "Java package 'kr.lucypark.okt' is not valid",
     "output_type": "error",
     "traceback": [
      "\u001B[1;31m---------------------------------------------------------------------------\u001B[0m",
      "\u001B[1;31mAttributeError\u001B[0m                            Traceback (most recent call last)",
      "Cell \u001B[1;32mIn [2], line 2\u001B[0m\n\u001B[0;32m      1\u001B[0m \u001B[38;5;28;01mfrom\u001B[39;00m \u001B[38;5;21;01mkonlpy\u001B[39;00m\u001B[38;5;21;01m.\u001B[39;00m\u001B[38;5;21;01mtag\u001B[39;00m \u001B[38;5;28;01mimport\u001B[39;00m Okt\n\u001B[1;32m----> 2\u001B[0m okt \u001B[38;5;241m=\u001B[39m \u001B[43mOkt\u001B[49m\u001B[43m(\u001B[49m\u001B[43m)\u001B[49m\n",
      "File \u001B[1;32m~\\Desktop\\텍스트 마이닝\\venv\\lib\\site-packages\\konlpy\\tag\\_okt.py:54\u001B[0m, in \u001B[0;36mOkt.__init__\u001B[1;34m(self, jvmpath, max_heap_size)\u001B[0m\n\u001B[0;32m     51\u001B[0m     jvm\u001B[38;5;241m.\u001B[39minit_jvm(jvmpath, max_heap_size)\n\u001B[0;32m     53\u001B[0m oktJavaPackage \u001B[38;5;241m=\u001B[39m jpype\u001B[38;5;241m.\u001B[39mJPackage(\u001B[38;5;124m'\u001B[39m\u001B[38;5;124mkr.lucypark.okt\u001B[39m\u001B[38;5;124m'\u001B[39m)\n\u001B[1;32m---> 54\u001B[0m OktInterfaceJavaClass \u001B[38;5;241m=\u001B[39m \u001B[43moktJavaPackage\u001B[49m\u001B[38;5;241;43m.\u001B[39;49m\u001B[43mOktInterface\u001B[49m\n\u001B[0;32m     55\u001B[0m \u001B[38;5;28mself\u001B[39m\u001B[38;5;241m.\u001B[39mjki \u001B[38;5;241m=\u001B[39m OktInterfaceJavaClass()\n\u001B[0;32m     56\u001B[0m \u001B[38;5;28mself\u001B[39m\u001B[38;5;241m.\u001B[39mtagset \u001B[38;5;241m=\u001B[39m utils\u001B[38;5;241m.\u001B[39mread_json(\u001B[38;5;124m'\u001B[39m\u001B[38;5;132;01m%s\u001B[39;00m\u001B[38;5;124m/data/tagset/twitter.json\u001B[39m\u001B[38;5;124m'\u001B[39m \u001B[38;5;241m%\u001B[39m utils\u001B[38;5;241m.\u001B[39minstallpath)\n",
      "\u001B[1;31mAttributeError\u001B[0m: Java package 'kr.lucypark.okt' is not valid"
     ]
    }
   ],
   "source": [
    "from konlpy.tag import Okt\n",
    "okt = Okt()"
   ],
   "metadata": {
    "collapsed": false,
    "pycharm": {
     "name": "#%%\n"
    }
   }
  },
  {
   "cell_type": "code",
   "execution_count": null,
   "outputs": [],
   "source": [],
   "metadata": {
    "collapsed": false,
    "pycharm": {
     "name": "#%%\n"
    }
   }
  }
 ],
 "metadata": {
  "kernelspec": {
   "display_name": "Python 3",
   "language": "python",
   "name": "python3"
  },
  "language_info": {
   "codemirror_mode": {
    "name": "ipython",
    "version": 2
   },
   "file_extension": ".py",
   "mimetype": "text/x-python",
   "name": "python",
   "nbconvert_exporter": "python",
   "pygments_lexer": "ipython2",
   "version": "2.7.6"
  }
 },
 "nbformat": 4,
 "nbformat_minor": 0
}