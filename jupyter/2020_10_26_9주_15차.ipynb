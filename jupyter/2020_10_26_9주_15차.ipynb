{
 "cells": [
  {
   "cell_type": "code",
   "execution_count": 1,
   "metadata": {
    "collapsed": true,
    "pycharm": {
     "name": "#%%\n"
    }
   },
   "outputs": [],
   "source": [
    "# 토픽 모델링(Topic Modeling)을 이용하여 문서의 토픽을 추론할 수 있다.\n",
    "\n",
    "# 토픽 모델링(Topic Modeling)\n",
    "# 구조화되지 않은 대량의 텍스트로부터 숨겨져 있는 주제 구조를 발견하기 위한 통계적 추론 알고리즘\n",
    "# 맥락과 관련된 단서들을 이용하여 의미를 가진 단어들을 클러스터링하여 주제를 추론하는 모델\n",
    "# 비지도학습으로 문서를 하나 또는 그 이상의 토픽으로 할당\n",
    "\n",
    "# 하나의 문서에는 여러 가지 토픽이 혼합\n",
    "# 하나의 토픽에는 여러 개의 단어가 포함\n",
    "# 문서에 사용한 각각의 단어는 각각의 토픽에 포함\n",
    "# 문서 안에 있는 단어로 잠재 주제를 만들어 문서별로 어떤 내용으로 구성되었는지 표현\n",
    "\n",
    "# 토픽 모델링 시각화\n",
    "# > 토픽 모델링 결과를 간단히 표로 정리하는 것도 좋지만 다양한 시각적 효과와 함께 제시하면 더욱더 효과적임\n",
    "\n",
    "# LDA(Latent Dirichlet Allocaton)\n",
    "# 텍스트 마이닝 분석에서 가장 많이 활용되는 토픽 모델링 기법\n",
    "# 단어의 교환성 가정\n",
    "# > 교환성 : 단어들의 순서는 상관하지 않고 오로지 단어들의 유무만이 중요하다고 가정\n",
    "# 단어의 순서를 무시할 경우, 문서는 단순히 그 안에 포함하는 단어들의 빈도수만을 가지고 표혀할 수 있음\n",
    "# 단어와 문서들의 교환성을 포함하는 혼합 모형\n",
    "\n",
    "# LDA에서 각각의 문서는 여러 개의 주제를 포함\n",
    "# 돈의 속성 책을 추천한다.\n",
    "\n",
    "# LDA의 계산과정을 시험문제로 출제할 예정이다.\n"
   ]
  },
  {
   "cell_type": "code",
   "execution_count": 21,
   "outputs": [],
   "source": [
    "import random\n",
    "\n",
    "# LDA 코드를 작성해보자.\n",
    "# - 관련 라이브러리 불러오기\n",
    "from nltk.corpus import stopwords\n",
    "from nltk.stem.porter import PorterStemmer\n",
    "from gensim import corpora, models\n",
    "import gensim\n",
    "from nltk.tokenize import RegexpTokenizer\n",
    "\n",
    "import random\n",
    "random.seed(10)"
   ],
   "metadata": {
    "collapsed": false,
    "pycharm": {
     "name": "#%%\n"
    }
   }
  },
  {
   "cell_type": "code",
   "execution_count": 22,
   "outputs": [],
   "source": [
    "tokenizer = RegexpTokenizer(\"[\\w]+\")\n",
    "stop_words = stopwords.words(\"english\")\n",
    "p_stemmer = PorterStemmer()"
   ],
   "metadata": {
    "collapsed": false,
    "pycharm": {
     "name": "#%%\n"
    }
   }
  },
  {
   "cell_type": "code",
   "execution_count": 23,
   "outputs": [],
   "source": [
    "# LDA 기반의 토픽 모델링\n",
    "doc_a = \"Brocolliis good to eat. My brother likes to eat good broccoli, but not my mother.\"\n",
    "\n",
    "doc_b = \"My mother spends a lot of time driving my brother around to baseball practice.\"\n",
    "\n",
    "doc_c = \"Some health experts suggest that driving may cause increased tension and blood pressure.\"\n",
    "\n",
    "doc_d = \"I often feel pressure to perform well at school, but my mother never seems to drive my brother to do better.\"\n",
    "\n",
    "doc_e = \"Health professionals say that broccoli is good for your health.\"\n",
    "\n",
    "doc_f = \"Big data is a term used to refer to data sets that are too large or complex for traditional data-processing application software to adequately deal with.\"\n",
    "\n",
    "doc_g = \"Data with many cases offer greater statistical power, while data with higher complexity may lead to a higher false discovery rate.\"\n",
    "\n",
    "doc_h = \"Big data was originally associated with three key concepts: volume, variety, and velocity.\"\n",
    "\n",
    "doc_i = \"A 2016 definition states that 'Big data represents the information assets characterized by such a high volume, velocity and variety to require specific technology and analytical methods for its transformation into value.\"\n",
    "\n",
    "doc_j = \"Data must be processed with advanced tools to reveal meaningful information.\""
   ],
   "metadata": {
    "collapsed": false,
    "pycharm": {
     "name": "#%%\n"
    }
   }
  },
  {
   "cell_type": "code",
   "execution_count": 24,
   "outputs": [
    {
     "data": {
      "text/plain": "[['brocollii',\n  'good',\n  'eat',\n  'brother',\n  'like',\n  'eat',\n  'good',\n  'broccoli',\n  'mother'],\n ['mother',\n  'spend',\n  'lot',\n  'time',\n  'drive',\n  'brother',\n  'around',\n  'basebal',\n  'practic'],\n ['health',\n  'expert',\n  'suggest',\n  'drive',\n  'may',\n  'caus',\n  'increas',\n  'tension',\n  'blood',\n  'pressur'],\n ['often',\n  'feel',\n  'pressur',\n  'perform',\n  'well',\n  'school',\n  'mother',\n  'never',\n  'seem',\n  'drive',\n  'brother',\n  'better'],\n ['health', 'profession', 'say', 'broccoli', 'good', 'health'],\n ['big',\n  'data',\n  'term',\n  'use',\n  'refer',\n  'data',\n  'set',\n  'larg',\n  'complex',\n  'tradit',\n  'data',\n  'process',\n  'applic',\n  'softwar',\n  'adequ',\n  'deal'],\n ['data',\n  'mani',\n  'case',\n  'offer',\n  'greater',\n  'statist',\n  'power',\n  'data',\n  'higher',\n  'complex',\n  'may',\n  'lead',\n  'higher',\n  'fals',\n  'discoveri',\n  'rate'],\n ['big',\n  'data',\n  'origin',\n  'associ',\n  'three',\n  'key',\n  'concept',\n  'volum',\n  'varieti',\n  'veloc'],\n ['2016',\n  'definit',\n  'state',\n  'big',\n  'data',\n  'repres',\n  'inform',\n  'asset',\n  'character',\n  'high',\n  'volum',\n  'veloc',\n  'varieti',\n  'requir',\n  'specif',\n  'technolog',\n  'analyt',\n  'method',\n  'transform',\n  'valu'],\n ['data', 'must', 'process', 'advanc', 'tool', 'reveal', 'meaning', 'inform']]"
     },
     "execution_count": 24,
     "metadata": {},
     "output_type": "execute_result"
    }
   ],
   "source": [
    "# for loop 문으로 빈 리스트 texts에 문서별 단어들을 입력하면, 문서별 단어들은 소문자로 변환한 후 토크나이징, 불용어 제거, 엉근 추출과정으로 전처리\n",
    "\n",
    "doc_set= [doc_a, doc_b, doc_c, doc_d, doc_e, doc_f, doc_g, doc_h, doc_i, doc_j]\n",
    "texts = []\n",
    "\n",
    "for w in doc_set:\n",
    "    raw = w.lower()\n",
    "    tokens = tokenizer.tokenize(raw)\n",
    "    stopped_tokens =[i for i in tokens if not i in stop_words]\n",
    "    stemmed_tokens = [p_stemmer.stem(i) for i in stopped_tokens]\n",
    "    texts.append(stemmed_tokens)\n",
    "\n",
    "texts"
   ],
   "metadata": {
    "collapsed": false,
    "pycharm": {
     "name": "#%%\n"
    }
   }
  },
  {
   "cell_type": "code",
   "execution_count": 25,
   "outputs": [
    {
     "data": {
      "text/plain": "[[(0, 1), (1, 1), (2, 1), (3, 2), (4, 2), (5, 1), (6, 1)],\n [(2, 1), (6, 1), (7, 1), (8, 1), (9, 1), (10, 1), (11, 1), (12, 1), (13, 1)],\n [(9, 1),\n  (14, 1),\n  (15, 1),\n  (16, 1),\n  (17, 1),\n  (18, 1),\n  (19, 1),\n  (20, 1),\n  (21, 1),\n  (22, 1)],\n [(2, 1),\n  (6, 1),\n  (9, 1),\n  (20, 1),\n  (23, 1),\n  (24, 1),\n  (25, 1),\n  (26, 1),\n  (27, 1),\n  (28, 1),\n  (29, 1),\n  (30, 1)],\n [(0, 1), (4, 1), (17, 2), (31, 1), (32, 1)],\n [(33, 1),\n  (34, 1),\n  (35, 1),\n  (36, 1),\n  (37, 3),\n  (38, 1),\n  (39, 1),\n  (40, 1),\n  (41, 1),\n  (42, 1),\n  (43, 1),\n  (44, 1),\n  (45, 1),\n  (46, 1)],\n [(19, 1),\n  (36, 1),\n  (37, 2),\n  (47, 1),\n  (48, 1),\n  (49, 1),\n  (50, 1),\n  (51, 2),\n  (52, 1),\n  (53, 1),\n  (54, 1),\n  (55, 1),\n  (56, 1),\n  (57, 1)],\n [(35, 1),\n  (37, 1),\n  (58, 1),\n  (59, 1),\n  (60, 1),\n  (61, 1),\n  (62, 1),\n  (63, 1),\n  (64, 1),\n  (65, 1)],\n [(35, 1),\n  (37, 1),\n  (63, 1),\n  (64, 1),\n  (65, 1),\n  (66, 1),\n  (67, 1),\n  (68, 1),\n  (69, 1),\n  (70, 1),\n  (71, 1),\n  (72, 1),\n  (73, 1),\n  (74, 1),\n  (75, 1),\n  (76, 1),\n  (77, 1),\n  (78, 1),\n  (79, 1),\n  (80, 1)],\n [(37, 1), (40, 1), (72, 1), (81, 1), (82, 1), (83, 1), (84, 1), (85, 1)]]"
     },
     "execution_count": 25,
     "metadata": {},
     "output_type": "execute_result"
    }
   ],
   "source": [
    "# 문서-단어 매트릭스를 형성\n",
    "dictionary = corpora.Dictionary(texts)\n",
    "corpus = [dictionary.doc2bow(text) for text in texts]\n",
    "corpus"
   ],
   "metadata": {
    "collapsed": false,
    "pycharm": {
     "name": "#%%\n"
    }
   }
  },
  {
   "cell_type": "code",
   "execution_count": 26,
   "outputs": [
    {
     "data": {
      "text/plain": "[(0,\n  '0.043*\"drive\" + 0.029*\"data\" + 0.029*\"mother\" + 0.028*\"brother\" + 0.028*\"pressur\"'),\n (1,\n  '0.050*\"good\" + 0.035*\"eat\" + 0.035*\"health\" + 0.035*\"broccoli\" + 0.025*\"brother\"'),\n (2,\n  '0.086*\"data\" + 0.036*\"higher\" + 0.036*\"complex\" + 0.023*\"big\" + 0.021*\"may\"')]"
     },
     "execution_count": 26,
     "metadata": {},
     "output_type": "execute_result"
    }
   ],
   "source": [
    "# 토픽 개수를 3으로 지정하여 LDA 모델 구성 및 토픽별 출력 단어들을 5개로 지정하여 출력\n",
    "ldamodel = gensim.models.ldamodel.LdaModel(corpus, num_topics=3, id2word=dictionary)\n",
    "ldamodel.print_topics(num_words=5)"
   ],
   "metadata": {
    "collapsed": false,
    "pycharm": {
     "name": "#%%\n"
    }
   }
  },
  {
   "cell_type": "code",
   "execution_count": 27,
   "outputs": [
    {
     "data": {
      "text/plain": "[(0, 0.034876235), (1, 0.93162006), (2, 0.03350368)]"
     },
     "execution_count": 27,
     "metadata": {},
     "output_type": "execute_result"
    }
   ],
   "source": [
    "ldamodel.get_document_topics(corpus)[0]"
   ],
   "metadata": {
    "collapsed": false,
    "pycharm": {
     "name": "#%%\n"
    }
   }
  },
  {
   "cell_type": "code",
   "execution_count": 28,
   "outputs": [],
   "source": [
    "# LDA 토픽 개수 지정 - Perplexity\n",
    "# Perplexity : 정보학에서 혼란도를 의미하여 특정 확률 모델이 실제로 관측되느느 값을 얼마나 잘 예측 하는 지 평가할 때 사용\n",
    "\n",
    "# 토픽 모델링도 문헌 집합 내 용어 출현 횟수를 바탕으로 문헌 내 주제 출현 확률과 주제 내 용어 출현 확률을 계산하는 확률 모델이므로 Perplexity가 사용될 수 있음\n",
    "\n",
    "# 토픽 개수가 증가할수록 Perplexity는 감소하는 경향을 보임\n",
    "\n",
    "# 특정 토픽 개수 지점을 지나면 더이상 Perplexity는 감소하지 않고 수렵하는 지점이 등장\n",
    "# > 이때의 Perplexity를 해당 모델의 최종 Perplexity로 결정\n",
    "\n",
    "# Perplexity가 작으면 작을수록 해당 토픽 모델은 실제 문헌 결과를 잘 반영한다는 뜻으로 해석\n",
    "\n",
    "# Topic Coherence : 실제로 사람이 해석하기에 적합한 평가 척도를 만들기 위해서 제시된 척도\n",
    "\n",
    "# 토픽 모델링 결과로 나온 주제들에 관해 각각의 주제에서 상위 N개의 단어들을 추출\n",
    "\n",
    "# 모델링이 잘되었을 수록 한 주제 안에는 의미론적으로 유사한 단어가 주로 형성됨\n",
    "\n",
    "# > 상위 단어 간의 유사도를 통해 평균을 계산하면 실제로 해당 주제가 의미론적으로 일치하는 단어들끼리 형성되었는지를 파악할 수 있음"
   ],
   "metadata": {
    "collapsed": false,
    "pycharm": {
     "name": "#%%\n"
    }
   }
  },
  {
   "cell_type": "code",
   "execution_count": 29,
   "outputs": [
    {
     "name": "stdout",
     "output_type": "stream",
     "text": [
      "\n",
      "Perplexity -4.9954835346032835\n",
      "\n",
      "Coherence Score:  0.4165323804568623\n"
     ]
    }
   ],
   "source": [
    "from gensim.models import CoherenceModel\n",
    "\n",
    "print(\"\\nPerplexity\", ldamodel.log_perplexity(corpus))\n",
    "coherence_model_lda = CoherenceModel(model=ldamodel, texts=texts, dictionary=dictionary, topn=10)\n",
    "coherence_lda = coherence_model_lda.get_coherence()\n",
    "print(\"\\nCoherence Score: \", coherence_lda)"
   ],
   "metadata": {
    "collapsed": false,
    "pycharm": {
     "name": "#%%\n"
    }
   }
  },
  {
   "cell_type": "code",
   "execution_count": 30,
   "outputs": [
    {
     "data": {
      "text/plain": "<Figure size 640x480 with 1 Axes>",
      "image/png": "[encoded data removed]"
     },
     "metadata": {},
     "output_type": "display_data"
    }
   ],
   "source": [
    "from matplotlib import pyplot as plt\n",
    "\n",
    "perplexity_value = []\n",
    "for i in range(2, 10):\n",
    "    ldamoel = gensim.models.ldamodel.LdaModel(corpus, num_topics=i, id2word=dictionary)\n",
    "    perplexity_value.append(ldamoel.log_perplexity(corpus))\n",
    "\n",
    "x = range(2, 10)\n",
    "plt.plot(x, perplexity_value)\n",
    "plt.xlabel(\"Number of topics\")\n",
    "plt.ylabel(\"Perplexity score\")\n",
    "plt.show()"
   ],
   "metadata": {
    "collapsed": false,
    "pycharm": {
     "name": "#%%\n"
    }
   }
  },
  {
   "cell_type": "code",
   "execution_count": 31,
   "outputs": [
    {
     "data": {
      "text/plain": "[0.41108210115568217,\n 0.32437551809404,\n 0.4190765432454241,\n 0.43367389661418876,\n 0.4830484714614174,\n 0.48036794817466133,\n 0.44626579711771003,\n 0.49709711252523714]"
     },
     "execution_count": 31,
     "metadata": {},
     "output_type": "execute_result"
    }
   ],
   "source": [
    "coherence_values = []\n",
    "for i in range(2, 10):\n",
    "    ldamoel = gensim.models.ldamodel.LdaModel(corpus, num_topics=i, id2word=dictionary)\n",
    "    coherence_model_lda = CoherenceModel(model=ldamoel, texts=texts)\n",
    "    coherence_lda = coherence_model_lda.get_coherence()\n",
    "    coherence_values.append(coherence_lda)\n",
    "\n",
    "coherence_values"
   ],
   "metadata": {
    "collapsed": false,
    "pycharm": {
     "name": "#%%\n"
    }
   }
  },
  {
   "cell_type": "code",
   "execution_count": 32,
   "outputs": [
    {
     "data": {
      "text/plain": "<Figure size 640x480 with 1 Axes>",
      "image/png": "[encoded data removed]"
     },
     "metadata": {},
     "output_type": "display_data"
    }
   ],
   "source": [
    "x = range(2, 10)\n",
    "plt.plot(x, coherence_values)\n",
    "plt.xlabel(\"Number of topics\")\n",
    "plt.ylabel(\"Perplexity score\")\n",
    "plt.show()"
   ],
   "metadata": {
    "collapsed": false,
    "pycharm": {
     "name": "#%%\n"
    }
   }
  }
 ],
 "metadata": {
  "kernelspec": {
   "display_name": "Python 3",
   "language": "python",
   "name": "python3"
  },
  "language_info": {
   "codemirror_mode": {
    "name": "ipython",
    "version": 2
   },
   "file_extension": ".py",
   "mimetype": "text/x-python",
   "name": "python",
   "nbconvert_exporter": "python",
   "pygments_lexer": "ipython2",
   "version": "2.7.6"
  }
 },
 "nbformat": 4,
 "nbformat_minor": 0
}