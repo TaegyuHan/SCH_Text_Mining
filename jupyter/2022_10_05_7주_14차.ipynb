{
 "cells": [
  {
   "cell_type": "code",
   "execution_count": 28,
   "metadata": {
    "collapsed": true,
    "pycharm": {
     "name": "#%%\n"
    }
   },
   "outputs": [],
   "source": [
    "# 계층적 군집 분석 코드를 작성해보자\n",
    "import pandas as pd\n",
    "from konlpy.tag import Hannanum\n",
    "from sklearn.feature_extraction.text import CountVectorizer\n",
    "import numpy as np\n",
    "import matplotlib.pyplot as plt\n",
    "from sklearn.cluster import AgglomerativeClustering\n",
    "import scipy.cluster.hierarchy as shc\n",
    "hannanum = Hannanum()"
   ]
  },
  {
   "cell_type": "code",
   "execution_count": 29,
   "outputs": [
    {
     "data": {
      "text/plain": "    검색어                                               기사내용\n0  유한양행  유한양행은 얀센 바이오테크(Janssen Biotech Inc)와 EGFR표적 항암...\n1  유한양행  유한양행이 1조4000억원 규모의 기술이전 계약 체결 소식에 가격제한폭까지 치솟았다...\n2  유한양행  유한양행이 다국적 제약사 얀센에 기술수출했다는 소식에 주가가 5일 장 초반 상한가를...\n3  유한양행  유한양행은 얀센 바이오테크((Janssen Biotech, Inc.)와 EGFR(상...\n4  유한양행  유한양행이 1조4000억원 규모 기술 수출 소식에 가격제한폭까지 치솟았다. 유한양행...",
      "text/html": "<div>\n<style scoped>\n    .dataframe tbody tr th:only-of-type {\n        vertical-align: middle;\n    }\n\n    .dataframe tbody tr th {\n        vertical-align: top;\n    }\n\n    .dataframe thead th {\n        text-align: right;\n    }\n</style>\n<table border=\"1\" class=\"dataframe\">\n  <thead>\n    <tr style=\"text-align: right;\">\n      <th></th>\n      <th>검색어</th>\n      <th>기사내용</th>\n    </tr>\n  </thead>\n  <tbody>\n    <tr>\n      <th>0</th>\n      <td>유한양행</td>\n      <td>유한양행은 얀센 바이오테크(Janssen Biotech Inc)와 EGFR표적 항암...</td>\n    </tr>\n    <tr>\n      <th>1</th>\n      <td>유한양행</td>\n      <td>유한양행이 1조4000억원 규모의 기술이전 계약 체결 소식에 가격제한폭까지 치솟았다...</td>\n    </tr>\n    <tr>\n      <th>2</th>\n      <td>유한양행</td>\n      <td>유한양행이 다국적 제약사 얀센에 기술수출했다는 소식에 주가가 5일 장 초반 상한가를...</td>\n    </tr>\n    <tr>\n      <th>3</th>\n      <td>유한양행</td>\n      <td>유한양행은 얀센 바이오테크((Janssen Biotech, Inc.)와 EGFR(상...</td>\n    </tr>\n    <tr>\n      <th>4</th>\n      <td>유한양행</td>\n      <td>유한양행이 1조4000억원 규모 기술 수출 소식에 가격제한폭까지 치솟았다. 유한양행...</td>\n    </tr>\n  </tbody>\n</table>\n</div>"
     },
     "execution_count": 29,
     "metadata": {},
     "output_type": "execute_result"
    }
   ],
   "source": [
    "# 데이터 불러오기\n",
    "data = pd.read_csv(\n",
    "    \"../data/군집분석데이터.csv\",\n",
    "    engine=\"python\",\n",
    "    encoding=\"euc-kr\"\n",
    ")\n",
    "data.head()"
   ],
   "metadata": {
    "collapsed": false,
    "pycharm": {
     "name": "#%%\n"
    }
   }
  },
  {
   "cell_type": "code",
   "execution_count": 30,
   "outputs": [
    {
     "data": {
      "text/plain": "<15x113 sparse matrix of type '<class 'numpy.int64'>'\n\twith 123 stored elements in Compressed Sparse Row format>"
     },
     "execution_count": 30,
     "metadata": {},
     "output_type": "execute_result"
    }
   ],
   "source": [
    "# 계층적 군집 분석의 코드를 작성해보자!\n",
    "docs = [hannanum.nouns(i) for i in data[\"기사내용\"]]\n",
    "docs = list(map(lambda x:\"\".join(x), docs))\n",
    "\n",
    "vec = CountVectorizer()\n",
    "x = vec.fit_transform(docs)\n",
    "x"
   ],
   "metadata": {
    "collapsed": false,
    "pycharm": {
     "name": "#%%\n"
    }
   }
  },
  {
   "cell_type": "code",
   "execution_count": 7,
   "outputs": [
    {
     "name": "stderr",
     "output_type": "stream",
     "text": [
      "C:\\Users\\student\\AppData\\Local\\Programs\\Python\\Python38\\lib\\site-packages\\sklearn\\utils\\deprecation.py:87: FutureWarning: Function get_feature_names is deprecated; get_feature_names is deprecated in 1.0 and will be removed in 1.2. Please use get_feature_names_out instead.\n",
      "  warnings.warn(msg, category=FutureWarning)\n"
     ]
    },
    {
     "data": {
      "text/plain": "    12억500달러기술수출규모12억5500달러  12억5500만달러  1군발암물질분류라돈방사선때문미국환경보호국  \\\n0                         0           0                       0   \n1                         0           1                       0   \n2                         1           0                       0   \n3                         0           0                       0   \n4                         0           1                       0   \n5                         0           0                       0   \n6                         0           0                       1   \n7                         0           0                       0   \n8                         0           0                       0   \n9                         0           0                       0   \n10                        0           0                       0   \n11                        0           0                       0   \n12                        0           0                       0   \n13                        0           0                       0   \n14                        0           0                       0   \n\n    1라운드통과기분소감이축음기버블버블가왕대적하기마지막대결축음기박정현미아폭발적성량가창력열창이승환천일선곡버블버블이승환리깨끗음색모두빠져들투표결과축음기승리가면버블버블정체가수라디달콤한러브송장인라디는이미지축음기도전가왕왕밤빵첫번가왕방어전무대그선택곡이적그가왕답게첫소절특유허스키목소리노래청중단탄성무대김현철장점곡이었다  \\\n0                                                   0                                                                                                                       \n1                                                   0                                                                                                                       \n2                                                   0                                                                                                                       \n3                                                   0                                                                                                                       \n4                                                   0                                                                                                                       \n5                                                   0                                                                                                                       \n6                                                   0                                                                                                                       \n7                                                   0                                                                                                                       \n8                                                   0                                                                                                                       \n9                                                   0                                                                                                                       \n10                                                  1                                                                                                                       \n11                                                  0                                                                                                                       \n12                                                  0                                                                                                                       \n13                                                  0                                                                                                                       \n14                                                  0                                                                                                                       \n\n    29  2일발족원안위  4일방송  \\\n0    0        0     0   \n1    1        0     0   \n2    1        0     0   \n3    0        0     0   \n4    2        0     0   \n5    0        0     0   \n6    0        1     0   \n7    0        0     0   \n8    0        0     0   \n9    0        0     0   \n10   0        0     0   \n11   0        0     0   \n12   0        0     1   \n13   0        0     0   \n14   0        0     0   \n\n    5000만얀센한국제외전세계레이저티닙개발제조상업화독점적권리국내개발상업화권리유한양행유유한양행얀센내년레이저티닙단일요법병용요법글로벌임상시험공동진행계획레이저티닙경구용3세대상피세포성장인자수용체타이로신인산화효소  \\\n0                                                   0                                                                \n1                                                   0                                                                \n2                                                   0                                                                \n3                                                   0                                                                \n4                                                   1                                                                \n5                                                   0                                                                \n6                                                   0                                                                \n7                                                   0                                                                \n8                                                   0                                                                \n9                                                   0                                                                \n10                                                  0                                                                \n11                                                  0                                                                \n12                                                  0                                                                \n13                                                  0                                                                \n14                                                  0                                                                \n\n    5000이번계약얀센전세계레이저티닙개발제조상업화독점적권리국내개발상업화권리유한양행유유한양행얀센바이오텍내년레이저티닙단일요법병용요법글로벌임상시험공동진행예정유한양행개발허가상업화성공단계별마일스톤기술료12억500달러  \\\n0                                                   0                                                                   \n1                                                   1                                                                   \n2                                                   0                                                                   \n3                                                   0                                                                   \n4                                                   0                                                                   \n5                                                   0                                                                   \n6                                                   0                                                                   \n7                                                   0                                                                   \n8                                                   0                                                                   \n9                                                   0                                                                   \n10                                                  0                                                                   \n11                                                  0                                                                   \n12                                                  0                                                                   \n13                                                  0                                                                   \n14                                                  0                                                                   \n\n    520bq  ...  출연주목데뷔2005년  \\\n0       0  ...            0   \n1       0  ...            0   \n2       0  ...            0   \n3       0  ...            0   \n4       0  ...            0   \n5       0  ...            0   \n6       0  ...            0   \n7       0  ...            0   \n8       0  ...            0   \n9       1  ...            0   \n10      0  ...            0   \n11      0  ...            1   \n12      0  ...            0   \n13      0  ...            0   \n14      0  ...            0   \n\n    침대매트리스이온수매트라돈검출소식가정곳곳라돈검출우려불식이라돈측정기사용주민대구경우대구시8월가정용라돈측정기대대여료1천원대구시당시가정용라돈측정기50대구입8개구청군청신분증지참신청서작성사용료1천원선납한뒤1박2일간수라돈측정기벽  \\\n0                                                   0                                                                         \n1                                                   0                                                                         \n2                                                   0                                                                         \n3                                                   0                                                                         \n4                                                   0                                                                         \n5                                                   1                                                                         \n6                                                   0                                                                         \n7                                                   0                                                                         \n8                                                   0                                                                         \n9                                                   0                                                                         \n10                                                  0                                                                         \n11                                                  0                                                                         \n12                                                  0                                                                         \n13                                                  0                                                                         \n14                                                  0                                                                         \n\n    침대생리대마스크등라돈검출발암물질  \\\n0                   0   \n1                   0   \n2                   0   \n3                   0   \n4                   0   \n5                   0   \n6                   1   \n7                   0   \n8                   0   \n9                   0   \n10                  0   \n11                  0   \n12                  0   \n13                  0   \n14                  0   \n\n    트렌디한음색안정감평가투표결과축음기승리가면조커정체워너원이대휘이날판정단미주이대휘정체알아맞춰눈길김성주그소감이대휘사람들아이돌저가수능력것2라운드에서북극곰버블버블대결무대북금곰빅마마폭발적북극곰무대버블버블무대크러쉬감미북극곰매력무대카버블버블무대이승환것극찬대결결과버블버블60표승리복면북극곰정체감성발라더이기찬그3년재출연결정한이유  \\\n0                                                   0                                                                                                                              \n1                                                   0                                                                                                                              \n2                                                   0                                                                                                                              \n3                                                   0                                                                                                                              \n4                                                   0                                                                                                                              \n5                                                   0                                                                                                                              \n6                                                   0                                                                                                                              \n7                                                   0                                                                                                                              \n8                                                   0                                                                                                                              \n9                                                   0                                                                                                                              \n10                                                  1                                                                                                                              \n11                                                  0                                                                                                                              \n12                                                  0                                                                                                                              \n13                                                  0                                                                                                                              \n14                                                  0                                                                                                                              \n\n    폐암  프로젝트명yh25448  \\\n0    0             0   \n1    0             1   \n2    0             0   \n3    0             0   \n4    0             0   \n5    0             0   \n6    1             0   \n7    0             0   \n8    0             0   \n9    0             0   \n10   0             0   \n11   0             0   \n12   0             0   \n13   0             0   \n14   0             0   \n\n    하이젠온수매트라돈온수매트언급온라인커뮤니티하이젠온수매트구매후아이기침골자게시물업로드시선글쓴이라돈아이대측정결과하이젠온수매트라돈16  \\\n0                                                   0                       \n1                                                   0                       \n2                                                   0                       \n3                                                   0                       \n4                                                   0                       \n5                                                   0                       \n6                                                   0                       \n7                                                   1                       \n8                                                   0                       \n9                                                   0                       \n10                                                  0                       \n11                                                  0                       \n12                                                  0                       \n13                                                  0                       \n14                                                  0                       \n\n    한달동안측정정상수치때문문제않는다  한미약품사노피기술이전계약체결이후2번계약규모말  \\\n0                   0                         0   \n1                   0                         0   \n2                   0                         1   \n3                   0                         0   \n4                   0                         0   \n5                   0                         0   \n6                   0                         0   \n7                   0                         0   \n8                   0                         0   \n9                   1                         0   \n10                  0                         0   \n11                  0                         0   \n12                  0                         0   \n13                  0                         0   \n14                  0                         0   \n\n    한화약1조3416억원계약금5000만달러개발허가매출단계별마일스톤12억500만달러수령예정경상기술료순매출액책정유한양행관계자기술이전계약수익식임상시험허가등성공여부수미실현가능성  \n0                                                   1                                             \n1                                                   0                                             \n2                                                   0                                             \n3                                                   0                                             \n4                                                   0                                             \n5                                                   0                                             \n6                                                   0                                             \n7                                                   0                                             \n8                                                   0                                             \n9                                                   0                                             \n10                                                  0                                             \n11                                                  0                                             \n12                                                  0                                             \n13                                                  0                                             \n14                                                  0                                             \n\n[15 rows x 113 columns]",
      "text/html": "<div>\n<style scoped>\n    .dataframe tbody tr th:only-of-type {\n        vertical-align: middle;\n    }\n\n    .dataframe tbody tr th {\n        vertical-align: top;\n    }\n\n    .dataframe thead th {\n        text-align: right;\n    }\n</style>\n<table border=\"1\" class=\"dataframe\">\n  <thead>\n    <tr style=\"text-align: right;\">\n      <th></th>\n      <th>12억500달러기술수출규모12억5500달러</th>\n      <th>12억5500만달러</th>\n      <th>1군발암물질분류라돈방사선때문미국환경보호국</th>\n      <th>1라운드통과기분소감이축음기버블버블가왕대적하기마지막대결축음기박정현미아폭발적성량가창력열창이승환천일선곡버블버블이승환리깨끗음색모두빠져들투표결과축음기승리가면버블버블정체가수라디달콤한러브송장인라디는이미지축음기도전가왕왕밤빵첫번가왕방어전무대그선택곡이적그가왕답게첫소절특유허스키목소리노래청중단탄성무대김현철장점곡이었다</th>\n      <th>29</th>\n      <th>2일발족원안위</th>\n      <th>4일방송</th>\n      <th>5000만얀센한국제외전세계레이저티닙개발제조상업화독점적권리국내개발상업화권리유한양행유유한양행얀센내년레이저티닙단일요법병용요법글로벌임상시험공동진행계획레이저티닙경구용3세대상피세포성장인자수용체타이로신인산화효소</th>\n      <th>5000이번계약얀센전세계레이저티닙개발제조상업화독점적권리국내개발상업화권리유한양행유유한양행얀센바이오텍내년레이저티닙단일요법병용요법글로벌임상시험공동진행예정유한양행개발허가상업화성공단계별마일스톤기술료12억500달러</th>\n      <th>520bq</th>\n      <th>...</th>\n      <th>출연주목데뷔2005년</th>\n      <th>침대매트리스이온수매트라돈검출소식가정곳곳라돈검출우려불식이라돈측정기사용주민대구경우대구시8월가정용라돈측정기대대여료1천원대구시당시가정용라돈측정기50대구입8개구청군청신분증지참신청서작성사용료1천원선납한뒤1박2일간수라돈측정기벽</th>\n      <th>침대생리대마스크등라돈검출발암물질</th>\n      <th>트렌디한음색안정감평가투표결과축음기승리가면조커정체워너원이대휘이날판정단미주이대휘정체알아맞춰눈길김성주그소감이대휘사람들아이돌저가수능력것2라운드에서북극곰버블버블대결무대북금곰빅마마폭발적북극곰무대버블버블무대크러쉬감미북극곰매력무대카버블버블무대이승환것극찬대결결과버블버블60표승리복면북극곰정체감성발라더이기찬그3년재출연결정한이유</th>\n      <th>폐암</th>\n      <th>프로젝트명yh25448</th>\n      <th>하이젠온수매트라돈온수매트언급온라인커뮤니티하이젠온수매트구매후아이기침골자게시물업로드시선글쓴이라돈아이대측정결과하이젠온수매트라돈16</th>\n      <th>한달동안측정정상수치때문문제않는다</th>\n      <th>한미약품사노피기술이전계약체결이후2번계약규모말</th>\n      <th>한화약1조3416억원계약금5000만달러개발허가매출단계별마일스톤12억500만달러수령예정경상기술료순매출액책정유한양행관계자기술이전계약수익식임상시험허가등성공여부수미실현가능성</th>\n    </tr>\n  </thead>\n  <tbody>\n    <tr>\n      <th>0</th>\n      <td>0</td>\n      <td>0</td>\n      <td>0</td>\n      <td>0</td>\n      <td>0</td>\n      <td>0</td>\n      <td>0</td>\n      <td>0</td>\n      <td>0</td>\n      <td>0</td>\n      <td>...</td>\n      <td>0</td>\n      <td>0</td>\n      <td>0</td>\n      <td>0</td>\n      <td>0</td>\n      <td>0</td>\n      <td>0</td>\n      <td>0</td>\n      <td>0</td>\n      <td>1</td>\n    </tr>\n    <tr>\n      <th>1</th>\n      <td>0</td>\n      <td>1</td>\n      <td>0</td>\n      <td>0</td>\n      <td>1</td>\n      <td>0</td>\n      <td>0</td>\n      <td>0</td>\n      <td>1</td>\n      <td>0</td>\n      <td>...</td>\n      <td>0</td>\n      <td>0</td>\n      <td>0</td>\n      <td>0</td>\n      <td>0</td>\n      <td>1</td>\n      <td>0</td>\n      <td>0</td>\n      <td>0</td>\n      <td>0</td>\n    </tr>\n    <tr>\n      <th>2</th>\n      <td>1</td>\n      <td>0</td>\n      <td>0</td>\n      <td>0</td>\n      <td>1</td>\n      <td>0</td>\n      <td>0</td>\n      <td>0</td>\n      <td>0</td>\n      <td>0</td>\n      <td>...</td>\n      <td>0</td>\n      <td>0</td>\n      <td>0</td>\n      <td>0</td>\n      <td>0</td>\n      <td>0</td>\n      <td>0</td>\n      <td>0</td>\n      <td>1</td>\n      <td>0</td>\n    </tr>\n    <tr>\n      <th>3</th>\n      <td>0</td>\n      <td>0</td>\n      <td>0</td>\n      <td>0</td>\n      <td>0</td>\n      <td>0</td>\n      <td>0</td>\n      <td>0</td>\n      <td>0</td>\n      <td>0</td>\n      <td>...</td>\n      <td>0</td>\n      <td>0</td>\n      <td>0</td>\n      <td>0</td>\n      <td>0</td>\n      <td>0</td>\n      <td>0</td>\n      <td>0</td>\n      <td>0</td>\n      <td>0</td>\n    </tr>\n    <tr>\n      <th>4</th>\n      <td>0</td>\n      <td>1</td>\n      <td>0</td>\n      <td>0</td>\n      <td>2</td>\n      <td>0</td>\n      <td>0</td>\n      <td>1</td>\n      <td>0</td>\n      <td>0</td>\n      <td>...</td>\n      <td>0</td>\n      <td>0</td>\n      <td>0</td>\n      <td>0</td>\n      <td>0</td>\n      <td>0</td>\n      <td>0</td>\n      <td>0</td>\n      <td>0</td>\n      <td>0</td>\n    </tr>\n    <tr>\n      <th>5</th>\n      <td>0</td>\n      <td>0</td>\n      <td>0</td>\n      <td>0</td>\n      <td>0</td>\n      <td>0</td>\n      <td>0</td>\n      <td>0</td>\n      <td>0</td>\n      <td>0</td>\n      <td>...</td>\n      <td>0</td>\n      <td>1</td>\n      <td>0</td>\n      <td>0</td>\n      <td>0</td>\n      <td>0</td>\n      <td>0</td>\n      <td>0</td>\n      <td>0</td>\n      <td>0</td>\n    </tr>\n    <tr>\n      <th>6</th>\n      <td>0</td>\n      <td>0</td>\n      <td>1</td>\n      <td>0</td>\n      <td>0</td>\n      <td>1</td>\n      <td>0</td>\n      <td>0</td>\n      <td>0</td>\n      <td>0</td>\n      <td>...</td>\n      <td>0</td>\n      <td>0</td>\n      <td>1</td>\n      <td>0</td>\n      <td>1</td>\n      <td>0</td>\n      <td>0</td>\n      <td>0</td>\n      <td>0</td>\n      <td>0</td>\n    </tr>\n    <tr>\n      <th>7</th>\n      <td>0</td>\n      <td>0</td>\n      <td>0</td>\n      <td>0</td>\n      <td>0</td>\n      <td>0</td>\n      <td>0</td>\n      <td>0</td>\n      <td>0</td>\n      <td>0</td>\n      <td>...</td>\n      <td>0</td>\n      <td>0</td>\n      <td>0</td>\n      <td>0</td>\n      <td>0</td>\n      <td>0</td>\n      <td>1</td>\n      <td>0</td>\n      <td>0</td>\n      <td>0</td>\n    </tr>\n    <tr>\n      <th>8</th>\n      <td>0</td>\n      <td>0</td>\n      <td>0</td>\n      <td>0</td>\n      <td>0</td>\n      <td>0</td>\n      <td>0</td>\n      <td>0</td>\n      <td>0</td>\n      <td>0</td>\n      <td>...</td>\n      <td>0</td>\n      <td>0</td>\n      <td>0</td>\n      <td>0</td>\n      <td>0</td>\n      <td>0</td>\n      <td>0</td>\n      <td>0</td>\n      <td>0</td>\n      <td>0</td>\n    </tr>\n    <tr>\n      <th>9</th>\n      <td>0</td>\n      <td>0</td>\n      <td>0</td>\n      <td>0</td>\n      <td>0</td>\n      <td>0</td>\n      <td>0</td>\n      <td>0</td>\n      <td>0</td>\n      <td>1</td>\n      <td>...</td>\n      <td>0</td>\n      <td>0</td>\n      <td>0</td>\n      <td>0</td>\n      <td>0</td>\n      <td>0</td>\n      <td>0</td>\n      <td>1</td>\n      <td>0</td>\n      <td>0</td>\n    </tr>\n    <tr>\n      <th>10</th>\n      <td>0</td>\n      <td>0</td>\n      <td>0</td>\n      <td>1</td>\n      <td>0</td>\n      <td>0</td>\n      <td>0</td>\n      <td>0</td>\n      <td>0</td>\n      <td>0</td>\n      <td>...</td>\n      <td>0</td>\n      <td>0</td>\n      <td>0</td>\n      <td>1</td>\n      <td>0</td>\n      <td>0</td>\n      <td>0</td>\n      <td>0</td>\n      <td>0</td>\n      <td>0</td>\n    </tr>\n    <tr>\n      <th>11</th>\n      <td>0</td>\n      <td>0</td>\n      <td>0</td>\n      <td>0</td>\n      <td>0</td>\n      <td>0</td>\n      <td>0</td>\n      <td>0</td>\n      <td>0</td>\n      <td>0</td>\n      <td>...</td>\n      <td>1</td>\n      <td>0</td>\n      <td>0</td>\n      <td>0</td>\n      <td>0</td>\n      <td>0</td>\n      <td>0</td>\n      <td>0</td>\n      <td>0</td>\n      <td>0</td>\n    </tr>\n    <tr>\n      <th>12</th>\n      <td>0</td>\n      <td>0</td>\n      <td>0</td>\n      <td>0</td>\n      <td>0</td>\n      <td>0</td>\n      <td>1</td>\n      <td>0</td>\n      <td>0</td>\n      <td>0</td>\n      <td>...</td>\n      <td>0</td>\n      <td>0</td>\n      <td>0</td>\n      <td>0</td>\n      <td>0</td>\n      <td>0</td>\n      <td>0</td>\n      <td>0</td>\n      <td>0</td>\n      <td>0</td>\n    </tr>\n    <tr>\n      <th>13</th>\n      <td>0</td>\n      <td>0</td>\n      <td>0</td>\n      <td>0</td>\n      <td>0</td>\n      <td>0</td>\n      <td>0</td>\n      <td>0</td>\n      <td>0</td>\n      <td>0</td>\n      <td>...</td>\n      <td>0</td>\n      <td>0</td>\n      <td>0</td>\n      <td>0</td>\n      <td>0</td>\n      <td>0</td>\n      <td>0</td>\n      <td>0</td>\n      <td>0</td>\n      <td>0</td>\n    </tr>\n    <tr>\n      <th>14</th>\n      <td>0</td>\n      <td>0</td>\n      <td>0</td>\n      <td>0</td>\n      <td>0</td>\n      <td>0</td>\n      <td>0</td>\n      <td>0</td>\n      <td>0</td>\n      <td>0</td>\n      <td>...</td>\n      <td>0</td>\n      <td>0</td>\n      <td>0</td>\n      <td>0</td>\n      <td>0</td>\n      <td>0</td>\n      <td>0</td>\n      <td>0</td>\n      <td>0</td>\n      <td>0</td>\n    </tr>\n  </tbody>\n</table>\n<p>15 rows × 113 columns</p>\n</div>"
     },
     "execution_count": 7,
     "metadata": {},
     "output_type": "execute_result"
    }
   ],
   "source": [
    "df = pd.DataFrame(x.toarray(),\n",
    "                  columns=vec.get_feature_names())\n",
    "df"
   ],
   "metadata": {
    "collapsed": false,
    "pycharm": {
     "name": "#%%\n"
    }
   }
  },
  {
   "cell_type": "code",
   "execution_count": 8,
   "outputs": [
    {
     "data": {
      "text/plain": "array([0, 0, 0, 0, 0, 0, 0, 0, 0, 0, 1, 1, 2, 1, 1], dtype=int64)"
     },
     "execution_count": 8,
     "metadata": {},
     "output_type": "execute_result"
    }
   ],
   "source": [
    "# ward 거리\n",
    "# - 두 군집이 하바쳐졌을 때의 오차 제곱합의 증가분에 기반을 두어 측정\n",
    "# - 이상치(Outlier)나 잡음(Noise)에 덜 만감하여 비슷한 크기의 군집끼리 묶어주는 경향이 있음\n",
    "\n",
    "cluster = AgglomerativeClustering(n_clusters=3,\n",
    "                                  linkage=\"ward\")\n",
    "cluster.fit_predict(df)"
   ],
   "metadata": {
    "collapsed": false,
    "pycharm": {
     "name": "#%%\n"
    }
   }
  },
  {
   "cell_type": "code",
   "execution_count": 9,
   "outputs": [
    {
     "data": {
      "text/plain": "<Figure size 1000x700 with 1 Axes>",
      "image/png": "[encoded data removed]"
     },
     "metadata": {},
     "output_type": "display_data"
    }
   ],
   "source": [
    "from matplotlib import pyplot as plt\n",
    "\n",
    "plt.figure(figsize=(10, 7))\n",
    "plt.title(\"Cluster Dendograms\")\n",
    "dend = shc.dendrogram(shc.linkage(df, method=\"ward\"))"
   ],
   "metadata": {
    "collapsed": false,
    "pycharm": {
     "name": "#%%\n"
    }
   }
  },
  {
   "cell_type": "code",
   "execution_count": 11,
   "outputs": [],
   "source": [
    "# K-평균 군집화의 코드를 작성해보자.\n",
    "import pandas as pd\n",
    "from konlpy.tag import Hannanum\n",
    "from sklearn.feature_extraction.text import CountVectorizer\n",
    "from sklearn.cluster import KMeans\n",
    "from nltk.corpus import stopwords\n",
    "hannanum = Hannanum()"
   ],
   "metadata": {
    "collapsed": false,
    "pycharm": {
     "name": "#%%\n"
    }
   }
  },
  {
   "cell_type": "code",
   "execution_count": 12,
   "outputs": [
    {
     "data": {
      "text/plain": "    검색어                                               기사내용\n0  유한양행  유한양행은 얀센 바이오테크(Janssen Biotech Inc)와 EGFR표적 항암...\n1  유한양행  유한양행이 1조4000억원 규모의 기술이전 계약 체결 소식에 가격제한폭까지 치솟았다...\n2  유한양행  유한양행이 다국적 제약사 얀센에 기술수출했다는 소식에 주가가 5일 장 초반 상한가를...\n3  유한양행  유한양행은 얀센 바이오테크((Janssen Biotech, Inc.)와 EGFR(상...\n4  유한양행  유한양행이 1조4000억원 규모 기술 수출 소식에 가격제한폭까지 치솟았다. 유한양행...",
      "text/html": "<div>\n<style scoped>\n    .dataframe tbody tr th:only-of-type {\n        vertical-align: middle;\n    }\n\n    .dataframe tbody tr th {\n        vertical-align: top;\n    }\n\n    .dataframe thead th {\n        text-align: right;\n    }\n</style>\n<table border=\"1\" class=\"dataframe\">\n  <thead>\n    <tr style=\"text-align: right;\">\n      <th></th>\n      <th>검색어</th>\n      <th>기사내용</th>\n    </tr>\n  </thead>\n  <tbody>\n    <tr>\n      <th>0</th>\n      <td>유한양행</td>\n      <td>유한양행은 얀센 바이오테크(Janssen Biotech Inc)와 EGFR표적 항암...</td>\n    </tr>\n    <tr>\n      <th>1</th>\n      <td>유한양행</td>\n      <td>유한양행이 1조4000억원 규모의 기술이전 계약 체결 소식에 가격제한폭까지 치솟았다...</td>\n    </tr>\n    <tr>\n      <th>2</th>\n      <td>유한양행</td>\n      <td>유한양행이 다국적 제약사 얀센에 기술수출했다는 소식에 주가가 5일 장 초반 상한가를...</td>\n    </tr>\n    <tr>\n      <th>3</th>\n      <td>유한양행</td>\n      <td>유한양행은 얀센 바이오테크((Janssen Biotech, Inc.)와 EGFR(상...</td>\n    </tr>\n    <tr>\n      <th>4</th>\n      <td>유한양행</td>\n      <td>유한양행이 1조4000억원 규모 기술 수출 소식에 가격제한폭까지 치솟았다. 유한양행...</td>\n    </tr>\n  </tbody>\n</table>\n</div>"
     },
     "execution_count": 12,
     "metadata": {},
     "output_type": "execute_result"
    }
   ],
   "source": [
    "# 데이터 받기\n",
    "data = pd.read_csv(\n",
    "    \"../data/군집분석데이터.csv\",\n",
    "    engine=\"python\",\n",
    "    encoding=\"euc-kr\"\n",
    ")\n",
    "data.head()"
   ],
   "metadata": {
    "collapsed": false,
    "pycharm": {
     "name": "#%%\n"
    }
   }
  },
  {
   "cell_type": "code",
   "execution_count": 14,
   "outputs": [
    {
     "name": "stderr",
     "output_type": "stream",
     "text": [
      "C:\\Users\\student\\AppData\\Local\\Programs\\Python\\Python38\\lib\\site-packages\\sklearn\\utils\\deprecation.py:87: FutureWarning: Function get_feature_names is deprecated; get_feature_names is deprecated in 1.0 and will be removed in 1.2. Please use get_feature_names_out instead.\n",
      "  warnings.warn(msg, category=FutureWarning)\n"
     ]
    }
   ],
   "source": [
    "# 계층적 군집 분석의 코드를 작성해보자!\n",
    "docs = [hannanum.nouns(i) for i in data[\"기사내용\"]]\n",
    "docs = list(map(lambda x:\"\".join(x), docs))\n",
    "\n",
    "vec = CountVectorizer()\n",
    "x = vec.fit_transform(docs)\n",
    "\n",
    "df = pd.DataFrame(x.toarray(),\n",
    "                  columns=vec.get_feature_names())"
   ],
   "metadata": {
    "collapsed": false,
    "pycharm": {
     "name": "#%%\n"
    }
   }
  },
  {
   "cell_type": "code",
   "execution_count": 16,
   "outputs": [
    {
     "data": {
      "text/plain": "array([0, 0, 0, 0, 0, 0, 0, 0, 0, 0, 1, 1, 2, 1, 0])"
     },
     "execution_count": 16,
     "metadata": {},
     "output_type": "execute_result"
    }
   ],
   "source": [
    "kmeans = KMeans(n_clusters=3).fit(df)\n",
    "kmeans.labels_"
   ],
   "metadata": {
    "collapsed": false,
    "pycharm": {
     "name": "#%%\n"
    }
   }
  },
  {
   "cell_type": "code",
   "execution_count": 18,
   "outputs": [
    {
     "data": {
      "text/plain": "         PC1       PC2\n0  -0.783533 -0.349263\n1  -1.350473  1.409434\n2  -1.020920  0.242409\n3  -0.761331 -0.326918\n4  -1.614895  2.679351\n5  -0.784221 -0.351033\n6  -1.087269 -1.221280\n7  -0.784221 -0.351033\n8  -0.809284 -0.381215\n9  -1.001285 -0.787459\n10  2.427848  0.428300\n11  2.516813  0.484431\n12  0.465432 -2.010301\n13  3.430683  0.456482\n14  1.156655  0.078095",
      "text/html": "<div>\n<style scoped>\n    .dataframe tbody tr th:only-of-type {\n        vertical-align: middle;\n    }\n\n    .dataframe tbody tr th {\n        vertical-align: top;\n    }\n\n    .dataframe thead th {\n        text-align: right;\n    }\n</style>\n<table border=\"1\" class=\"dataframe\">\n  <thead>\n    <tr style=\"text-align: right;\">\n      <th></th>\n      <th>PC1</th>\n      <th>PC2</th>\n    </tr>\n  </thead>\n  <tbody>\n    <tr>\n      <th>0</th>\n      <td>-0.783533</td>\n      <td>-0.349263</td>\n    </tr>\n    <tr>\n      <th>1</th>\n      <td>-1.350473</td>\n      <td>1.409434</td>\n    </tr>\n    <tr>\n      <th>2</th>\n      <td>-1.020920</td>\n      <td>0.242409</td>\n    </tr>\n    <tr>\n      <th>3</th>\n      <td>-0.761331</td>\n      <td>-0.326918</td>\n    </tr>\n    <tr>\n      <th>4</th>\n      <td>-1.614895</td>\n      <td>2.679351</td>\n    </tr>\n    <tr>\n      <th>5</th>\n      <td>-0.784221</td>\n      <td>-0.351033</td>\n    </tr>\n    <tr>\n      <th>6</th>\n      <td>-1.087269</td>\n      <td>-1.221280</td>\n    </tr>\n    <tr>\n      <th>7</th>\n      <td>-0.784221</td>\n      <td>-0.351033</td>\n    </tr>\n    <tr>\n      <th>8</th>\n      <td>-0.809284</td>\n      <td>-0.381215</td>\n    </tr>\n    <tr>\n      <th>9</th>\n      <td>-1.001285</td>\n      <td>-0.787459</td>\n    </tr>\n    <tr>\n      <th>10</th>\n      <td>2.427848</td>\n      <td>0.428300</td>\n    </tr>\n    <tr>\n      <th>11</th>\n      <td>2.516813</td>\n      <td>0.484431</td>\n    </tr>\n    <tr>\n      <th>12</th>\n      <td>0.465432</td>\n      <td>-2.010301</td>\n    </tr>\n    <tr>\n      <th>13</th>\n      <td>3.430683</td>\n      <td>0.456482</td>\n    </tr>\n    <tr>\n      <th>14</th>\n      <td>1.156655</td>\n      <td>0.078095</td>\n    </tr>\n  </tbody>\n</table>\n</div>"
     },
     "execution_count": 18,
     "metadata": {},
     "output_type": "execute_result"
    }
   ],
   "source": [
    "# 주성분 코드를 작성해보자.\n",
    "from sklearn.decomposition import PCA\n",
    "import matplotlib.pyplot as plt\n",
    "\n",
    "pca = PCA(n_components=2)\n",
    "principal_components = pca.fit_transform(df)\n",
    "principal_df = pd.DataFrame(\n",
    "    data=principal_components,\n",
    "    columns=[\"PC1\", \"PC2\"]\n",
    ")\n",
    "principal_df"
   ],
   "metadata": {
    "collapsed": false,
    "pycharm": {
     "name": "#%%\n"
    }
   }
  },
  {
   "cell_type": "code",
   "execution_count": 23,
   "outputs": [
    {
     "data": {
      "text/plain": "<matplotlib.legend.Legend at 0x28ff1053a60>"
     },
     "execution_count": 23,
     "metadata": {},
     "output_type": "execute_result"
    },
    {
     "data": {
      "text/plain": "<Figure size 640x480 with 1 Axes>",
      "image/png": "[encoded data removed]"
     },
     "metadata": {},
     "output_type": "display_data"
    }
   ],
   "source": [
    "principal_df.index = data[\"검색어\"]\n",
    "\n",
    "plt.scatter(principal_df.iloc[kmeans.labels_ == 0, 0],\n",
    "           principal_df.iloc[kmeans.labels_ == 0, 1],\n",
    "           s=10,\n",
    "           c=\"red\",\n",
    "           label=\"Cluster1\")\n",
    "\n",
    "plt.scatter(principal_df.iloc[kmeans.labels_ == 1, 0],\n",
    "           principal_df.iloc[kmeans.labels_ == 1, 1],\n",
    "           s=10,\n",
    "           c=\"blue\",\n",
    "           label=\"Cluster2\")\n",
    "\n",
    "plt.scatter(principal_df.iloc[kmeans.labels_ == 2, 0],\n",
    "           principal_df.iloc[kmeans.labels_ == 2, 1],\n",
    "           s=10,\n",
    "           c=\"green\",\n",
    "           label=\"Cluster3\")\n",
    "plt.legend()"
   ],
   "metadata": {
    "collapsed": false,
    "pycharm": {
     "name": "#%%\n"
    }
   }
  },
  {
   "cell_type": "code",
   "execution_count": 24,
   "outputs": [],
   "source": [
    "# K-대푯값 군집화의 코드를 작성해보자!\n",
    "import pandas as pd\n",
    "from konlpy.tag import Hannanum\n",
    "from sklearn.feature_extraction.text import CountVectorizer\n",
    "from pyclustering.cluster import kmedoids"
   ],
   "metadata": {
    "collapsed": false,
    "pycharm": {
     "name": "#%%\n"
    }
   }
  },
  {
   "cell_type": "code",
   "execution_count": 25,
   "outputs": [
    {
     "data": {
      "text/plain": "[[0, 1, 2, 3, 5, 6, 7, 8, 9, 12], [4], [10, 11, 13, 14]]"
     },
     "execution_count": 25,
     "metadata": {},
     "output_type": "execute_result"
    }
   ],
   "source": [
    "# K-대푯값 군집화의 코드를 작성해보자!\n",
    "kmedoids_insstance = kmedoids.kmedoids(\n",
    "    df.values,\n",
    "    initial_index_medoids=np.random.randint(15, size=3)\n",
    ")\n",
    "kmedoids_insstance.process()\n",
    "cluster = kmedoids_insstance.get_clusters()\n",
    "cluster"
   ],
   "metadata": {
    "collapsed": false,
    "pycharm": {
     "name": "#%%\n"
    }
   }
  }
 ],
 "metadata": {
  "kernelspec": {
   "display_name": "Python 3",
   "language": "python",
   "name": "python3"
  },
  "language_info": {
   "codemirror_mode": {
    "name": "ipython",
    "version": 2
   },
   "file_extension": ".py",
   "mimetype": "text/x-python",
   "name": "python",
   "nbconvert_exporter": "python",
   "pygments_lexer": "ipython2",
   "version": "2.7.6"
  }
 },
 "nbformat": 4,
 "nbformat_minor": 0
}