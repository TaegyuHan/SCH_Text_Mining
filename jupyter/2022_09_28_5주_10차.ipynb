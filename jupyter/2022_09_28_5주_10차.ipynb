{
 "cells": [
  {
   "cell_type": "markdown",
   "source": [
    "# SCH 빅데이터 공학과 3학년-2학기 텍스트 마이닝\n",
    "날짜 : 2022-09-28 수요일 15:00 5주 10차시\n",
    "교수 : 문지훈\n",
    "학생 : 한태규"
   ],
   "metadata": {
    "collapsed": false,
    "pycharm": {
     "name": "#%% md\n"
    }
   }
  },
  {
   "cell_type": "markdown",
   "source": [
    "# 텍스트 데이터 전처리(4)\n",
    "\n",
    "- 같은 어근 동일화의 중요성\n",
    "    - 다르게 생긴 단어라 할지라도 같은 의미인 단어들이 존재\n",
    "    - 의미는 같지만, 형태가 조금씩 다른 단어들의 경우에 전처리하지 않고 분석하게 된다면? > 컴퓨터는 제각각 다른 언어로 인식하고 분석함\n",
    "    - 분석전 어근 동일화(Stemming) 과정을 통해 동일한 의미의 단어들을 같은 형태로 동일해야함\n",
    "- 엔그램(N-gram)\n",
    "    - 일반적으로 영어에만 적용\n",
    "        - 영어가 가진 특수한 성격으로 인해 필요한 전처리\n",
    "- 품사 분석을 수행하기 위한 JAVA 환경 설치와 환경 변수를 추가할 수 있다.\n",
    "- KoNLPy 패키지를 통해 한국어 텍스트 데이터의 품사를 분석할 수 있다.\n",
    "- Hannanum\n",
    "- Kkma\n",
    "- Okt\n",
    "- NLTK 라이브러리를 통해 영어 텍스트 데이터의 품사를 분석할 수 있다."
   ],
   "metadata": {
    "collapsed": false,
    "pycharm": {
     "name": "#%% md\n"
    }
   }
  },
  {
   "cell_type": "markdown",
   "source": [
    "# 품사 분석(2)\n",
    "품사 분석 수행하기\n",
    "\n",
    "- Hannanum\n",
    "- Kkma\n",
    "- Twitter -> Okt"
   ],
   "metadata": {
    "collapsed": false,
    "pycharm": {
     "name": "#%% md\n"
    }
   }
  },
  {
   "cell_type": "code",
   "execution_count": 4,
   "outputs": [
    {
     "name": "stderr",
     "output_type": "stream",
     "text": [
      "C:\\Users\\gksxo\\.virtualenvs\\SCH_Text_Mining-a_xgbcUh\\lib\\site-packages\\konlpy\\tag\\_okt.py:17: UserWarning: \"Twitter\" has changed to \"Okt\" since KoNLPy v0.4.5.\n",
      "  warn('\"Twitter\" has changed to \"Okt\" since KoNLPy v0.4.5.')\n"
     ]
    }
   ],
   "source": [
    "# 품사 분석 수행하기\n",
    "from konlpy.tag import Twitter\n",
    "\n",
    "twitter = Twitter()"
   ],
   "metadata": {
    "collapsed": false,
    "pycharm": {
     "name": "#%%\n"
    }
   }
  },
  {
   "cell_type": "code",
   "execution_count": 5,
   "outputs": [],
   "source": [
    "# 품사 분석 수행하기\n",
    "from konlpy.tag import Hannanum\n",
    "hannanum = Hannanum()"
   ],
   "metadata": {
    "collapsed": false,
    "pycharm": {
     "name": "#%%\n"
    }
   }
  },
  {
   "cell_type": "markdown",
   "source": [
    "- JVMNot Found Exception : NO JVM shared library file (jvm.dll) found. Try setting up the JAVA_HOME enviroment variable properly.\n",
    "- 원인 : JAVA_HOME 경로에 jvm.dll 파일이 없어서 발생한 에러\n",
    "- 해결 방법 : 해당 파일을 내려받은 뒤에 환경 변수에서 설정"
   ],
   "metadata": {
    "collapsed": false,
    "pycharm": {
     "name": "#%% md\n"
    }
   }
  },
  {
   "cell_type": "code",
   "execution_count": 6,
   "outputs": [
    {
     "name": "stdout",
     "output_type": "stream",
     "text": [
      "('64bit', 'WindowsPE')\n"
     ]
    }
   ],
   "source": [
    "# 현재 파이썬 비트 확인하기\n",
    "import platform\n",
    "print(platform.architecture())"
   ],
   "metadata": {
    "collapsed": false,
    "pycharm": {
     "name": "#%%\n"
    }
   }
  },
  {
   "cell_type": "code",
   "execution_count": 9,
   "outputs": [
    {
     "name": "stdout",
     "output_type": "stream",
     "text": [
      "['유성', '이', '비', '처럼', '쏟', '아', '지', '는', '하늘', '그', '아래', '너', '와', '함께', '춤추', '고', '싶', '어', '색색', '의', '옷', '들', '과', '예쁘', 'ㄴ', '액세서리']\n",
      "['유성', '비', '하늘', '아래', '너', '색색', '옷', '액세서리']\n"
     ]
    }
   ],
   "source": [
    "# 품사 분석 수행하기\n",
    "# Hannanum 라이브러리 사용하기\n",
    "# morphs : 문장의 형태소를 끊어줌\n",
    "# nouns : 문장에서 명사만을 추출\n",
    "print(hannanum.morphs(\"유성이 비처럼 쏟아지는 하늘 그 아래 너와 함께 춤추고 싶어 색색의 옷들과 예쁜 액세서리\"))\n",
    "\n",
    "print(hannanum.nouns(\"유성이 비처럼 쏟아지는 하늘 그 아래 너와 함께 춤추고 싶어 색색의 옷들과 예쁜 액세서리\"))"
   ],
   "metadata": {
    "collapsed": false,
    "pycharm": {
     "name": "#%%\n"
    }
   }
  },
  {
   "cell_type": "code",
   "execution_count": 11,
   "outputs": [
    {
     "name": "stdout",
     "output_type": "stream",
     "text": [
      "[('유성', 'N'), ('이', 'J'), ('비', 'N'), ('처럼', 'J'), ('쏟', 'P'), ('아', 'E'), ('지', 'P'), ('는', 'E'), ('하늘', 'N'), ('그', 'M'), ('아래', 'N'), ('너', 'N'), ('와', 'J'), ('함께', 'M'), ('춤추', 'P'), ('고', 'E'), ('싶', 'P'), ('어', 'E'), ('색색', 'N'), ('의', 'J'), ('옷', 'N'), ('들', 'X'), ('과', 'J'), ('예쁘', 'P'), ('ㄴ', 'E'), ('액세서리', 'N')]\n"
     ]
    }
   ],
   "source": [
    "# 품사 분석 수행하기\n",
    "# pos : 문장이 속한 각 형태소에 품사를 태깅\n",
    "print(hannanum.pos(\"유성이 비처럼 쏟아지는 하늘 그 아래 너와 함께 춤추고 싶어 색색의 옷들과 예쁜 액세서리\"))"
   ],
   "metadata": {
    "collapsed": false,
    "pycharm": {
     "name": "#%%\n"
    }
   }
  },
  {
   "cell_type": "code",
   "execution_count": 12,
   "outputs": [
    {
     "name": "stdout",
     "output_type": "stream",
     "text": [
      "[('유성', 'NC'), ('이', 'JC'), ('비', 'NC'), ('처럼', 'JC'), ('쏟', 'PV'), ('아', 'EC'), ('지', 'PX'), ('는', 'ET'), ('하늘', 'NC'), ('그', 'MM'), ('아래', 'NC'), ('너', 'NP'), ('와', 'JC'), ('함께', 'MA'), ('춤추', 'PV'), ('고', 'EC'), ('싶', 'PX'), ('어', 'EC'), ('색색', 'NC'), ('의', 'JC'), ('옷', 'NC'), ('들', 'XS'), ('과', 'JC'), ('예쁘', 'PA'), ('ㄴ', 'ET'), ('액세서리', 'NC')]\n"
     ]
    }
   ],
   "source": [
    "# 품사 분석 수행하기\n",
    "print(hannanum.pos(\"유성이 비처럼 쏟아지는 하늘 그 아래 너와 함께 춤추고 싶어 색색의 옷들과 예쁜 액세서리\", ntags = 22))"
   ],
   "metadata": {
    "collapsed": false,
    "pycharm": {
     "name": "#%%\n"
    }
   }
  },
  {
   "cell_type": "code",
   "execution_count": 13,
   "outputs": [
    {
     "name": "stdout",
     "output_type": "stream",
     "text": [
      "['유성', '이', '비', '처럼', '쏟아지', '는', '하늘', '그', '아래', '너', '와', '함께', '춤추', '고', '싶', '어', '색색', '의', '옷', '들', '과', '예쁘', 'ㄴ', '액세서리']\n"
     ]
    }
   ],
   "source": [
    "# Kkma 라이브러리 사용하기\n",
    "from konlpy.tag import Kkma\n",
    "kkma = Kkma()\n",
    "print(kkma.morphs(\"유성이 비처럼 쏟아지는 하늘 그 아래 너와 함께 춤추고 싶어 색색의 옷들과 예쁜 액세서리\"))"
   ],
   "metadata": {
    "collapsed": false,
    "pycharm": {
     "name": "#%%\n"
    }
   }
  },
  {
   "cell_type": "code",
   "execution_count": 14,
   "outputs": [
    {
     "name": "stdout",
     "output_type": "stream",
     "text": [
      "['유성', '비', '하늘', '아래', '너', '색색', '옷', '액세서리']\n"
     ]
    }
   ],
   "source": [
    "print(kkma.nouns(\"유성이 비처럼 쏟아지는 하늘 그 아래 너와 함께 춤추고 싶어 색색의 옷들과 예쁜 액세서리\"))"
   ],
   "metadata": {
    "collapsed": false,
    "pycharm": {
     "name": "#%%\n"
    }
   }
  },
  {
   "cell_type": "code",
   "execution_count": 15,
   "outputs": [
    {
     "name": "stdout",
     "output_type": "stream",
     "text": [
      "[('유성', 'NNG'), ('이', 'JKS'), ('비', 'NNG'), ('처럼', 'JKM'), ('쏟아지', 'VV'), ('는', 'ETD'), ('하늘', 'NNG'), ('그', 'MDT'), ('아래', 'NNG'), ('너', 'NP'), ('와', 'JKM'), ('함께', 'MAG'), ('춤추', 'VV'), ('고', 'ECE'), ('싶', 'VXA'), ('어', 'ECD'), ('색색', 'NNG'), ('의', 'JKG'), ('옷', 'NNG'), ('들', 'XSN'), ('과', 'JKO'), ('예쁘', 'VA'), ('ㄴ', 'ETD'), ('액세서리', 'NNG')]\n"
     ]
    }
   ],
   "source": [
    "print(kkma.pos(\"유성이 비처럼 쏟아지는 하늘 그 아래 너와 함께 춤추고 싶어 색색의 옷들과 예쁜 액세서리\"))"
   ],
   "metadata": {
    "collapsed": false,
    "pycharm": {
     "name": "#%%\n"
    }
   }
  },
  {
   "cell_type": "code",
   "execution_count": 16,
   "outputs": [
    {
     "name": "stdout",
     "output_type": "stream",
     "text": [
      "['유성', '이', '비처럼', '쏟아지는', '하늘', '그', '아래', '너', '와', '함께', '춤추고', '싶어', '색색', '의', '옷', '들', '과', '예쁜', '액세서리']\n"
     ]
    }
   ],
   "source": [
    "# Okt 라이브러리 사용하기\n",
    "from konlpy.tag import Okt\n",
    "okt = Okt()\n",
    "print(okt.morphs(\"유성이 비처럼 쏟아지는 하늘 그 아래 너와 함께 춤추고 싶어 색색의 옷들과 예쁜 액세서리\"))"
   ],
   "metadata": {
    "collapsed": false,
    "pycharm": {
     "name": "#%%\n"
    }
   }
  },
  {
   "cell_type": "code",
   "execution_count": 17,
   "outputs": [
    {
     "name": "stdout",
     "output_type": "stream",
     "text": [
      "['유성', '비처럼', '하늘', '그', '아래', '너', '색색', '옷', '액세서리']\n"
     ]
    }
   ],
   "source": [
    "print(okt.nouns(\"유성이 비처럼 쏟아지는 하늘 그 아래 너와 함께 춤추고 싶어 색색의 옷들과 예쁜 액세서리\"))"
   ],
   "metadata": {
    "collapsed": false,
    "pycharm": {
     "name": "#%%\n"
    }
   }
  },
  {
   "cell_type": "code",
   "execution_count": 18,
   "outputs": [
    {
     "name": "stdout",
     "output_type": "stream",
     "text": [
      "[('유성', 'Noun'), ('이', 'Josa'), ('비처럼', 'Noun'), ('쏟아지는', 'Verb'), ('하늘', 'Noun'), ('그', 'Noun'), ('아래', 'Noun'), ('너', 'Noun'), ('와', 'Josa'), ('함께', 'Adverb'), ('춤추고', 'Verb'), ('싶어', 'Verb'), ('색색', 'Noun'), ('의', 'Josa'), ('옷', 'Noun'), ('들', 'Suffix'), ('과', 'Josa'), ('예쁜', 'Adjective'), ('액세서리', 'Noun')]\n"
     ]
    }
   ],
   "source": [
    "print(okt.pos(\"유성이 비처럼 쏟아지는 하늘 그 아래 너와 함께 춤추고 싶어 색색의 옷들과 예쁜 액세서리\"))"
   ],
   "metadata": {
    "collapsed": false,
    "pycharm": {
     "name": "#%%\n"
    }
   }
  },
  {
   "cell_type": "code",
   "execution_count": 19,
   "outputs": [
    {
     "name": "stdout",
     "output_type": "stream",
     "text": [
      "['유성', '비처럼', '비처럼 쏟아지는 하늘', '비처럼 쏟아지는 하늘 그', '비처럼 쏟아지는 하늘 그 아래', '비처럼 쏟아지는 하늘 그 아래 너', '색색', '색색의 옷들', '색색의 옷들과 예쁜 액세서리', '하늘', '아래', '옷들', '액세서리']\n"
     ]
    }
   ],
   "source": [
    "print(okt.phrases(\"유성이 비처럼 쏟아지는 하늘 그 아래 너와 함께 춤추고 싶어 색색의 옷들과 예쁜 액세서리\"))"
   ],
   "metadata": {
    "collapsed": false,
    "pycharm": {
     "name": "#%%\n"
    }
   }
  },
  {
   "cell_type": "code",
   "execution_count": 1,
   "outputs": [
    {
     "name": "stderr",
     "output_type": "stream",
     "text": [
      "[nltk_data] Downloading package averaged_perceptron_tagger to\n",
      "[nltk_data]     C:\\Users\\gksxo\\AppData\\Roaming\\nltk_data...\n",
      "[nltk_data]   Unzipping taggers\\averaged_perceptron_tagger.zip.\n"
     ]
    },
    {
     "data": {
      "text/plain": "True"
     },
     "execution_count": 1,
     "metadata": {},
     "output_type": "execute_result"
    }
   ],
   "source": [
    "# 영어 품사 분석하기\n",
    "# NLTK 라이브러리 이용하기\n",
    "from nltk import pos_tag\n",
    "import nltk\n",
    "nltk.download(\"averaged_perceptron_tagger\")"
   ],
   "metadata": {
    "collapsed": false,
    "pycharm": {
     "name": "#%%\n"
    }
   }
  },
  {
   "cell_type": "code",
   "execution_count": 2,
   "outputs": [
    {
     "name": "stdout",
     "output_type": "stream",
     "text": [
      "[('I', 'PRP'), ('feel', 'VBP'), ('the', 'DT'), ('disco', 'NN'), ('rhythm', 'NN'), ('in', 'IN'), ('my', 'PRP$'), ('body.', 'NN')]\n"
     ]
    }
   ],
   "source": [
    "tokens = \"I feel the disco rhythm in my body.\".split()\n",
    "tags_en = pos_tag(tokens)\n",
    "print(tags_en)"
   ],
   "metadata": {
    "collapsed": false,
    "pycharm": {
     "name": "#%%\n"
    }
   }
  }
 ],
 "metadata": {
  "kernelspec": {
   "display_name": "Python 3",
   "language": "python",
   "name": "python3"
  },
  "language_info": {
   "codemirror_mode": {
    "name": "ipython",
    "version": 2
   },
   "file_extension": ".py",
   "mimetype": "text/x-python",
   "name": "python",
   "nbconvert_exporter": "python",
   "pygments_lexer": "ipython2",
   "version": "2.7.6"
  }
 },
 "nbformat": 4,
 "nbformat_minor": 0
}