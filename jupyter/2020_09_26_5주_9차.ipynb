{
 "cells": [
  {
   "cell_type": "markdown",
   "source": [
    "# SCH 빅데이터 공학과 3학년-2학기 텍스트 마이닝\n",
    "날짜 : 2022-09-22 월요일 10:30 5주 9차시\n",
    "교수 : 문지훈\n",
    "학생 : 한태규"
   ],
   "metadata": {
    "collapsed": false,
    "pycharm": {
     "name": "#%% md\n"
    }
   }
  },
  {
   "cell_type": "markdown",
   "source": [
    "# 텍스트 정형화 과정\n",
    "\n",
    "- 원(Raw) 텍스트 데이터를 정제하거나 사전 처리하는 작업\n",
    "    - 사전 처리를 어떻게 하느냐에따라 결과가 다양함\n",
    "\n",
    "- 텍스트 데이터의 사전 처리를 수행\n",
    "    - 대소문자 통일\n",
    "    - 숫자, 문장부호, 특수문자 제거\n",
    "    - 불용어제거\n",
    "\n",
    "- 텍스트 데이터의 **사전 처리를 수행** 할 수 있다.\n",
    "    - 같은 어근 동일화, N-gram\n",
    "\n",
    "- 텍스트 데이터의 **품사 분석을 수행**할 수 있다."
   ],
   "metadata": {
    "collapsed": false,
    "pycharm": {
     "name": "#%% md\n"
    }
   }
  },
  {
   "cell_type": "markdown",
   "source": [
    "# 1. 같은 어근 동일화\n",
    "\n",
    "### 같은 어근 동일화의 중요성\n",
    "- 다르게 생긴 단어라 할지라도 같은 의미인 단어들이 존재\n",
    "- 한국어 : **어미, 조사** 등\n",
    "- 영어 : 주어의 형태, 시제에 따라 **동사의 형태**가 바뀔 수 있음 단수, 복수에 따라 '**S**'나 '**es**'가 붙는 경우도 있음\n",
    "\n",
    "\n",
    "- 의미는 같지만, 형태가 조금씩 다른 단어들의 경우에 전처리하지 않고 분석하게 된다면? > 컴퓨터는 제각각 **다른 단어로 인식하고 분석**함\n",
    "\n",
    "### 같은 어근 동일화의 중요성\n",
    "- 분석 전 어근 동일화(Stemmlng) 과정을 통해 **동일한 의미의 단어들을 같은 형태로**해야 함\n",
    "- 어근 동일화를 제공하는 라이브러리\n",
    "    - PorterStemmer (대표적인 NLTK 패키지)\n",
    "    - LancasterStemmer\n",
    "    - RegexpStemmer\n",
    "- 한국어는 **형테소 분석기**를 사용해야 함"
   ],
   "metadata": {
    "collapsed": false,
    "pycharm": {
     "name": "#%% md\n"
    }
   }
  },
  {
   "cell_type": "code",
   "execution_count": 5,
   "outputs": [
    {
     "name": "stderr",
     "output_type": "stream",
     "text": [
      "[nltk_data] Downloading package punkt to\n",
      "[nltk_data]     C:\\Users\\student\\AppData\\Roaming\\nltk_data...\n",
      "[nltk_data]   Package punkt is already up-to-date!\n"
     ]
    }
   ],
   "source": [
    "import nltk\n",
    "nltk.download(\"punkt\")\n",
    "from nltk.stem import PorterStemmer\n",
    "from nltk.tokenize import word_tokenize"
   ],
   "metadata": {
    "collapsed": false,
    "pycharm": {
     "name": "#%%\n"
    }
   }
  },
  {
   "cell_type": "code",
   "execution_count": 6,
   "outputs": [],
   "source": [
    "ps_stemmer= PorterStemmer()\n",
    "\n",
    "new_text= \"Dear Editors, Greeting, This is Jihoon Moon, the co-author of CLUS-D-21-00843R2. I am contacting you because I wonder how the process of our manuscript is going. We think all the preparations have been made for journal publication. However, it has been two months since we submitted the final revision, and we have not received any response. Could we know when we will receive the proofread or know another process for journal publication? Thank you very much for your efforts in the publication of our study. We are looking forward to hearing from you soon. Best regards, Jihoon Moon, Ph.D.\""
   ],
   "metadata": {
    "collapsed": false,
    "pycharm": {
     "name": "#%%\n"
    }
   }
  },
  {
   "cell_type": "code",
   "execution_count": 21,
   "outputs": [
    {
     "name": "stdout",
     "output_type": "stream",
     "text": [
      "dear editor , greet , thi is jihoon moon , the co-author of clus-d-21-00843r2 . i am contact you becaus i wonder how the process of our manuscript is go . we think all the prepar have been made for journal public . howev , it ha been two month sinc we submit the final revis , and we have not receiv ani respons . could we know when we will receiv the proofread or know anoth process for journal public ? thank you veri much for your effort in the public of our studi . we are look forward to hear from you soon . best regard , jihoon moon , ph.d . "
     ]
    }
   ],
   "source": [
    "# 같은 어근 동일황 예시\n",
    "words = word_tokenize(new_text)\n",
    "for w in words:\n",
    "    print(ps_stemmer.stem(w), end=\" \")"
   ],
   "metadata": {
    "collapsed": false,
    "pycharm": {
     "name": "#%%\n"
    }
   }
  },
  {
   "cell_type": "code",
   "execution_count": 14,
   "outputs": [
    {
     "name": "stdout",
     "output_type": "stream",
     "text": [
      "dear edit , greet , thi is jihoon moon , the co-author of clus-d-21-00843r2 . i am contact you becaus i wond how the process of our manuscrib is going . we think al the prep hav been mad for journ publ . howev , it has been two month sint we submit the fin revid , and we hav not receiv any respons . could we know when we wil receiv the proofread or know anoth process for journ publ ? thank you very much for yo effort in the publ of our study . we ar look forward to hear from you soon . best regard , jihoon moon , ph.d . "
     ]
    }
   ],
   "source": [
    "# 같은 어근 동일황 예시\n",
    "from nltk.stem.lancaster import LancasterStemmer\n",
    "LS_stemmer = LancasterStemmer()\n",
    "for w in words:\n",
    "    print(LS_stemmer.stem(w), end=\" \")"
   ],
   "metadata": {
    "collapsed": false,
    "pycharm": {
     "name": "#%%\n"
    }
   }
  },
  {
   "cell_type": "code",
   "execution_count": 20,
   "outputs": [
    {
     "name": "stdout",
     "output_type": "stream",
     "text": [
      "Dear Editors , Greeting , This is Jihoon Moon , the co-author of CLUS-D-21-00843R2 . I am contacting you because I wonder how the process of our manuscript is going . We think all the preparations have been made for journal publication . Hover , it has been two months since  submitted the final revision , and  have not received any response . Could  know when  will receive the proofread or know another process for journal publication ? Thank you very much for your efforts in the publication of our study . We are looking forward to hearing from you soon . Best regards , Jihoon Moon , Ph.D . "
     ]
    }
   ],
   "source": [
    "# 특정한 표현식을 일괄적으로 제거하는 역할을 수행\n",
    "from nltk.stem.regexp import RegexpStemmer\n",
    "RS_stemmer = RegexpStemmer(\"we\")\n",
    "for w in words:\n",
    "    print(RS_stemmer.stem(w), end=\" \")"
   ],
   "metadata": {
    "collapsed": false,
    "pycharm": {
     "name": "#%%\n"
    }
   }
  },
  {
   "cell_type": "markdown",
   "source": [
    "# 2. N-gram\n",
    "\n",
    "## 엔그램(N-gram)\n",
    "- N번 연이어 등장하는 단어들의 연쇄\n",
    "    - 바이그램 : **두 번** 연이어 등장\n",
    "    - 트라이그램 : **세 번** 연이어 등장\n",
    "- 트라이그램 이상은 일반적으로 활용하지 않음\n",
    "- 일반적으로 영어에만 적용\n",
    "    - 영어가 가진 특수한 성격으로 인해 필요한 전처리\n",
    "    - Republic of Korea\n",
    "    - United Kingdom\n",
    "\n",
    "- 무작정 엔그램을 적용하면 **의미 없는 단어 뭉치가 많이 발생**하여 불필요한 작업을 될 수 있음 > 연구자가 분석할 텍스트의 성격을 토대로 엔그램의 적용 여부를 결정\n",
    "\n",
    "- 바이그램(Bi-gram) 이상의 엔그램만 독자적으로 활용하는 것은 지양해야 함\n",
    "    - **유니그램(1-gram)과 혼합하여 단어들을 도출**하는 것을 권장"
   ],
   "metadata": {
    "collapsed": false,
    "pycharm": {
     "name": "#%% md\n"
    }
   }
  },
  {
   "cell_type": "code",
   "execution_count": 31,
   "outputs": [
    {
     "name": "stdout",
     "output_type": "stream",
     "text": [
      "('Dear', 'Editors,')('Editors,', 'Greeting,')('Greeting,', 'This')('This', 'is')('is', 'Jihoon')('Jihoon', 'Moon,')('Moon,', 'the')('the', 'co-author')('co-author', 'of')('of', 'CLUS-D-21-00843R2.')('CLUS-D-21-00843R2.', 'I')('I', 'am')('am', 'contacting')('contacting', 'you')('you', 'because')('because', 'I')('I', 'wonder')('wonder', 'how')('how', 'the')('the', 'process')('process', 'of')('of', 'our')('our', 'manuscript')('manuscript', 'is')('is', 'going.')('going.', 'We')('We', 'think')('think', 'all')('all', 'the')('the', 'preparations')('preparations', 'have')('have', 'been')('been', 'made')('made', 'for')('for', 'journal')('journal', 'publication.')('publication.', 'However,')('However,', 'it')('it', 'has')('has', 'been')('been', 'two')('two', 'months')('months', 'since')('since', 'we')('we', 'submitted')('submitted', 'the')('the', 'final')('final', 'revision,')('revision,', 'and')('and', 'we')('we', 'have')('have', 'not')('not', 'received')('received', 'any')('any', 'response.')('response.', 'Could')('Could', 'we')('we', 'know')('know', 'when')('when', 'we')('we', 'will')('will', 'receive')('receive', 'the')('the', 'proofread')('proofread', 'or')('or', 'know')('know', 'another')('another', 'process')('process', 'for')('for', 'journal')('journal', 'publication?')('publication?', 'Thank')('Thank', 'you')('you', 'very')('very', 'much')('much', 'for')('for', 'your')('your', 'efforts')('efforts', 'in')('in', 'the')('the', 'publication')('publication', 'of')('of', 'our')('our', 'study.')('study.', 'We')('We', 'are')('are', 'looking')('looking', 'forward')('forward', 'to')('to', 'hearing')('hearing', 'from')('from', 'you')('you', 'soon.')('soon.', 'Best')('Best', 'regards,')('regards,', 'Jihoon')('Jihoon', 'Moon,')('Moon,', 'Ph.D.')"
     ]
    }
   ],
   "source": [
    "# ngrams 라이브러리\n",
    "# ngrams 함수의 두번째 인자 n을 입력하면 엔그램 적용이 가능\n",
    "from nltk import ngrams\n",
    "grams = ngrams(new_text.split(), n=2)\n",
    "for gram in grams:\n",
    "    print(gram, end=\"\")"
   ],
   "metadata": {
    "collapsed": false,
    "pycharm": {
     "name": "#%%\n"
    }
   }
  },
  {
   "cell_type": "markdown",
   "source": [
    "# 3. 품사 분석\n",
    "\n",
    "- POS : Part-of-Speech의 약어\n",
    "- 문장을 구성하는 개별 단어는 문장안에서 고유한 문법적인 기능을 수행함\n",
    "    - 예 : 명사, 동사, 형용사 등\n",
    "\n",
    "- 품사를 분류할 때 언어마다 천차만별이고 분류 기준에 따라 하나로 묶이거나 여러 개로 세분화될 수 있음\n",
    "\n",
    "## 품사 분석(POS)들어가기\n",
    "- 언어 또는 분류 기준마다 세부적으로 다른 품사들까지 살펴볼 필요는 없음\n",
    "    - 일반적으로 모든 언어에서 명사, 동사, 형용사, 부사는 존재\n",
    "    - 텍스트 마이닝이 단어의 언어학적인 기능을 살펴보기보다 단어가 대량의 문서에서 의미에 따라 어떠한 기능을 하는지 살펴보는것\n",
    "\n",
    "## 품사 분석(POS)의 목적\n",
    "- BoW(Bag-of-Words)의 예시\n",
    "- 특정 품사만을 수집하여 분석\n",
    "    - 문서 안에 단어들을 추출하여 문자의 감정 정도를 파악 > 형용사 단어만 집중적으로 추출하면 문서의 감정 정도를 더욱 효율적으로 파악할 수 있음\n",
    "- 같은 단어라도 서로 다른 품사로 쓰인 경우\n",
    "    - Love : 동사와 명ㅇ사 모두 쓰일 수 있음\n",
    "        - 품사 분석을 통해 동ㅇ사와 명사로 나누어 분석하면 더욱 심층적인 의미를 발견할 수 있음\n",
    "- 품사별로 단어의 빈도수를 확인\n",
    "    - 특정 문서가 다른 문서에 비해 형용사가 출현한 비율이 높다면? > 해당 문서는 주관적인 논조가 많이 들어간다고 추론할 수 있음"
   ],
   "metadata": {
    "collapsed": false,
    "pycharm": {
     "name": "#%% md\n"
    }
   }
  },
  {
   "cell_type": "markdown",
   "source": [
    "# KoNLPy 패키지\n",
    "- 한국어 품사 분석에 주로 사용\n",
    "- `Kkma`\n",
    "- `Komaran`\n",
    "- `Hannaum`\n",
    "- `Twitter`\n",
    "- `Mecab`\n",
    "\n",
    "- 실행시간과 정확도와 같은 성능에 따라 사용자가 원하는 클래스를 선택\n",
    "\n",
    "- 문자의 개수가 많아지면 Kkma 클래스의 실행시간이 현저하게 늘어남을 확인\n",
    "- Kkma는 왜래어, 외국어, 방언 등의 다양한 표현을 모두 인지할 수 있어 정확도가 좋은 클래스\n",
    "- 클래스마다 정의하는 품사와 태깅 기호가 다르므로 사전에 숙지해야함"
   ],
   "metadata": {
    "collapsed": false,
    "pycharm": {
     "name": "#%% md\n"
    }
   }
  }
 ],
 "metadata": {
  "kernelspec": {
   "display_name": "Python 3",
   "language": "python",
   "name": "python3"
  },
  "language_info": {
   "codemirror_mode": {
    "name": "ipython",
    "version": 2
   },
   "file_extension": ".py",
   "mimetype": "text/x-python",
   "name": "python",
   "nbconvert_exporter": "python",
   "pygments_lexer": "ipython2",
   "version": "2.7.6"
  }
 },
 "nbformat": 4,
 "nbformat_minor": 0
}