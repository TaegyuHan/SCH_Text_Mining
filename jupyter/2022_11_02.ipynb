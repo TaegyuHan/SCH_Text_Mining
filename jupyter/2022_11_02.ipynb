{
 "cells": [
  {
   "cell_type": "markdown",
   "source": [
    "# 토픽 모델링\n",
    "- 구조화되지 않은 대량의 텍스트로부터 숨겨져 있는 주제 구조를 발견하기 위한 통계적 추론 알고리즘\n",
    "- 맥락과 관련된 단서들을 기반으로 의미를 가진 단어들을 클러스터링 하여 주제를 추론하는 모델\n",
    "- 비지도학습으로 문서를 하나 이상의 토픽으로 할당 : LDA(Latent Dirichlet Allocation)"
   ],
   "metadata": {
    "collapsed": false,
    "pycharm": {
     "name": "#%% md\n"
    }
   }
  },
  {
   "cell_type": "markdown",
   "source": [
    "- 감성 분석을 통해 텍스트의 감성 정도를 지표로 나타낼 수 있다. : 단어 사전 기반 분석, 지도 학습 기반 분석"
   ],
   "metadata": {
    "collapsed": false,
    "pycharm": {
     "name": "#%% md\n"
    }
   }
  },
  {
   "cell_type": "markdown",
   "source": [
    "# 1. 감정 분석\n",
    "\n",
    "## 감성 분석(Sentiment Analysis)\n",
    "- 텍스트에 나타난 주관성 요소를 탐지하여 긍정과 부정의 요소 및 그 정도를 판별하여 정량화 하는 작업\n",
    "- 긍정과 부정의 대상이 되는 단어 또는 개체를 추출하고 감성을 표현하는 이의 의도나 입장을 분석하는 것\n",
    "- 감성 표현을 분석함으로써 이에 나타난 의견, 평가, 태도 등의 특징정 양상을 정량화된 데이터로 제시 하는것"
   ],
   "metadata": {
    "collapsed": false,
    "pycharm": {
     "name": "#%% md\n"
    }
   }
  },
  {
   "cell_type": "markdown",
   "source": [
    "## 감성 분석\n",
    "- 궁극적인 목적 : 단순히 절대적 지표로 표현하는 것이 아니라 텍스트 간 비교 우위를 밝혀서 상대적 비교를 하는것\n",
    "- 감성 분석\n",
    "    - 단어 사전 기반 분석\n",
    "    - 지도 학습 기반 분석"
   ],
   "metadata": {
    "collapsed": false,
    "pycharm": {
     "name": "#%% md\n"
    }
   }
  },
  {
   "cell_type": "markdown",
   "source": [
    "- 단어 사전 기반 분석\n",
    "    - 어떤 단어가 어떤 감성을 전달하는 단어인지를 알려줄 수 있는 보조 정보가 필수적\n",
    "    - 감성 사전을 이용하여 각 단어의 감정 분류와 그 정도를 알 수 있어야 함\n",
    "\n",
    "- 지도학습 기반 분석\n",
    "    - 특정 단어 혹은 특정 표현이 사용된 문서가 어떤 감성을 나타내는 지를 예측할 수 있음\n",
    "    - 텍스트와 해당 텍스트의 문서별 감성 지수가 사전에 정의되어 있어야 함\n",
    "    - 텍스트의 주제나 장르 또는 맥락이 균일하고 분류 모델에 적용할 새로운 데이터도 같은 성격의 텍스트이어야 함\n",
    "        - 텍스트마다 해당 성격에 따라 서로 다른 특성을 보일 수 있음\n",
    "\n",
    "- 단어 사전 기반 감성 분석\n",
    "    - 텍스트에 쓰인 잔어의 감성 수준을 계산하고, 이를 통해 감성 정도를 계산\n",
    "    - 긍정 : good, happy, pleasuer, beautiful, etc.\n",
    "    - 부정 : bad, terrible, gloomy, sad, etc.\n",
    "- 사전 기반 감성 분석을 하기 위해서는 어떤 감성 사전을 사용할 것인지가 매우 중요하며 감성 사전에 따라 결과도 조금 다르게 나올 수 있음\n",
    "\n",
    "- AFINN\n",
    "    - Finn Aurp Nielsen이 2009 ~ 2011년에 직접 수집한 감성 어휘들에 대해 +- 5의 점수를 부여한 사전\n",
    "    - 2,477개의 감성 어휘들이 영어 사용자의 판단을 통해 부정적, 긍정적 감성 점수 부여"
   ],
   "metadata": {
    "collapsed": false,
    "pycharm": {
     "name": "#%% md\n"
    }
   }
  },
  {
   "cell_type": "markdown",
   "source": [
    "# 단어 사전 기반 감성 분석\n",
    "\n",
    "- EmoLex\n",
    "    - 단어들을 긍정과 부정으로 나눌 뿐만 아니라 분노, 공포, 기대, 신뢰, 놀람, 슬픔 기쁨 역겨움 등 8가지 감정으로도 나눌 수 있음 > 인간의 정서 정보를 더욱 풍부하게 반영\n",
    "    - 크라우드 소싱을 통해서 감성 정보를 축적하였음 > 다수의 사람이 감성 정보 코딩에 참여하였음\n",
    "    - 1만 4,182개의 감성 어휘들을 보유"
   ],
   "metadata": {
    "collapsed": false,
    "pycharm": {
     "name": "#%% md\n"
    }
   }
  },
  {
   "cell_type": "markdown",
   "source": [
    "# 단어 사전 기반 감성 분석\n",
    "\n",
    "- Bing Liu lexicon\n",
    "    - 감성 어휘들을 긍정, 부정으로만 분류하고 있으며, 따로 점수를 표기하지 않음\n",
    "    - 6,8000여 개의 감성 어휘들이 존재하며 지속적으로 업데이트를 하고 있음"
   ],
   "metadata": {
    "collapsed": false,
    "pycharm": {
     "name": "#%% md\n"
    }
   }
  },
  {
   "cell_type": "markdown",
   "source": [
    "# 단어 사전 기반 감성 분석\n",
    "- 긍정, 부정, 중립으로 단어들을 분류\n",
    "- 파이썬 NLTK 패키지에서 사용할 수 있어 간편함\n",
    "- 지속적으로 버전업을 하고 있으며, 현재 3.0버전까지 발표됨"
   ],
   "metadata": {
    "collapsed": false,
    "pycharm": {
     "name": "#%% md\n"
    }
   }
  },
  {
   "cell_type": "markdown",
   "source": [
    "# 단어 사전 기반 감성 분석\n",
    "- 한국어 감성 사전을 일반인에게 공개된 사전을 찾기가 쉽지 않음\n",
    "감성 사전이 개발자에게 사전 동의를 구한 후 사용할 수 있거나 기업의 지적 재산권으로 보호되고 있음"
   ],
   "metadata": {
    "collapsed": false,
    "pycharm": {
     "name": "#%% md\n"
    }
   }
  },
  {
   "cell_type": "code",
   "execution_count": 3,
   "outputs": [],
   "source": [
    "# 영화 리뷰(IMDB) 감성을 분석해보자!\n",
    "# 관련 라이브러리 불러오기\n",
    "\n",
    "import pandas as pd\n",
    "import glob\n",
    "from afinn import Afinn\n",
    "from nltk.corpus import stopwords\n",
    "from nltk.stem.porter import PorterStemmer\n",
    "from nltk.tokenize import RegexpTokenizer\n",
    "import numpy as np\n",
    "import matplotlib.pyplot as plt"
   ],
   "metadata": {
    "collapsed": false,
    "pycharm": {
     "name": "#%%\n"
    }
   }
  },
  {
   "cell_type": "code",
   "execution_count": 6,
   "outputs": [],
   "source": [
    "# 영화 리뷰(IMDB) 감성을 분석해보자!\n",
    "# IMDB 데이터 셋에서 긍정 학습 집합 20번째 데이터 불러온 다음, readlines 함수로 해당 데이터의 문자열을 받음\n",
    "\n",
    "pos_review = glob.glob(\"C:\\\\Users\\student\\Desktop\\텍스트 마이닝\\data\\데이터\\\\aclImdb\\\\train\\pos\\*.txt\")[20]\n",
    "\n",
    "with open(pos_review, \"r\") as f:\n",
    "    lines1 = f.readline()"
   ],
   "metadata": {
    "collapsed": false,
    "pycharm": {
     "name": "#%%\n"
    }
   }
  },
  {
   "cell_type": "code",
   "execution_count": 7,
   "outputs": [
    {
     "data": {
      "text/plain": "8.0"
     },
     "execution_count": 7,
     "metadata": {},
     "output_type": "execute_result"
    }
   ],
   "source": [
    "# Afinn()을 이용하여 감성 점수 산출\n",
    "afinn = Afinn()\n",
    "afinn.score(lines1)"
   ],
   "metadata": {
    "collapsed": false,
    "pycharm": {
     "name": "#%%\n"
    }
   }
  },
  {
   "cell_type": "code",
   "execution_count": 10,
   "outputs": [],
   "source": [
    "# 부정 데이터 셋을 같은 방식으로 감성 점수 산출\n",
    "neg_review = glob.glob(\"C:\\\\Users\\student\\Desktop\\텍스트 마이닝\\data\\데이터\\\\aclImdb\\\\train\\pos\\*.txt\")[20]\n",
    "\n",
    "with open(neg_review, \"r\") as f:\n",
    "    lines2 = f.readline()[0]"
   ],
   "metadata": {
    "collapsed": false,
    "pycharm": {
     "name": "#%%\n"
    }
   }
  },
  {
   "cell_type": "code",
   "execution_count": 22,
   "outputs": [
    {
     "name": "stdout",
     "output_type": "stream",
     "text": [
      "            0             1  2\n",
      "0       aback         anger  0\n",
      "1       aback  anticipation  0\n",
      "2       aback       disgust  0\n",
      "3       aback          fear  0\n",
      "4       aback           joy  0\n",
      "...       ...           ... ..\n",
      "141815   zoom      negative  0\n",
      "141816   zoom      positive  0\n",
      "141817   zoom       sadness  0\n",
      "141818   zoom      surprise  0\n",
      "141819   zoom         trust  0\n",
      "\n",
      "[141820 rows x 3 columns]\n"
     ]
    }
   ],
   "source": [
    "# 부정 데이터 셋을 같은 방식으로 감성 점수 산출 및 감성 사전 불러오기\n",
    "afinn.score(lines2)\n",
    "NRC = pd.read_csv(\"C:\\\\Users\\student\\Desktop\\텍스트 마이닝\\data\\데이터\\\\nrc.txt\",\n",
    "                  engine=\"python\",\n",
    "                  header=None,\n",
    "                  sep=\"\\t\")\n",
    "NRC = NRC[(NRC != 0).all(1)]\n",
    "NRC = NRC.reset_index(drop=True)  # 감성어와 감성 표현이 유의미한 라벨들만 추출"
   ],
   "metadata": {
    "collapsed": false,
    "pycharm": {
     "name": "#%%\n"
    }
   }
  },
  {
   "cell_type": "code",
   "execution_count": 24,
   "outputs": [
    {
     "data": {
      "text/plain": "RegexpTokenizer(pattern='[Ww]+', gaps=False, discard_empty=True, flags=re.UNICODE|re.MULTILINE|re.DOTALL)"
     },
     "execution_count": 24,
     "metadata": {},
     "output_type": "execute_result"
    }
   ],
   "source": [
    "# 영화 리뷰(IMDB) 감성을 분석해보자!\n",
    "tokenizer = RegexpTokenizer(\"[Ww]+\")\n",
    "stop_words = stopwords.words(\"english\")\n",
    "p_stemmer = PorterStemmer()"
   ],
   "metadata": {
    "collapsed": false,
    "pycharm": {
     "name": "#%%\n"
    }
   }
  },
  {
   "cell_type": "code",
   "execution_count": 28,
   "outputs": [
    {
     "name": "stdout",
     "output_type": "stream",
     "text": [
      "['w', 'w', 'w', 'w', 'w', 'w', 'w', 'w', 'w', 'w', 'w', 'w', 'w', 'w', 'w', 'w', 'w', 'w']\n"
     ]
    }
   ],
   "source": [
    "# 긍정 텍스트 전처리\n",
    "raw = lines1.lower()\n",
    "tokens = tokenizer.tokenize(raw)\n",
    "stopped_tokens = [i for i in tokens if not i in stop_words]\n",
    "match_words = [x for x in stopped_tokens if x in list(NRC[0])]"
   ],
   "metadata": {
    "collapsed": false,
    "pycharm": {
     "name": "#%%\n"
    }
   }
  },
  {
   "cell_type": "code",
   "execution_count": 20,
   "outputs": [],
   "source": [
    "# 감성 사전과 텍스트의 감성어들을 맵핑하기\n",
    "emotion = []\n",
    "for i in match_words:\n",
    "    temp = list(NRC.iloc[np.where(NRC[0] == i)[0], 1])\n",
    "    for j in temp:\n",
    "        emotion.append(j)"
   ],
   "metadata": {
    "collapsed": false,
    "pycharm": {
     "name": "#%%\n"
    }
   }
  },
  {
   "cell_type": "code",
   "execution_count": 21,
   "outputs": [
    {
     "name": "stderr",
     "output_type": "stream",
     "text": [
      "C:\\Users\\student\\AppData\\Local\\Temp\\ipykernel_9084\\2497877776.py:2: FutureWarning: The default dtype for empty Series will be 'object' instead of 'float64' in a future version. Specify a dtype explicitly to silence this warning.\n",
      "  sentiment_result1 = pd.Series(emotion).value_counts()\n"
     ]
    },
    {
     "data": {
      "text/plain": "Series([], dtype: int64)"
     },
     "execution_count": 21,
     "metadata": {},
     "output_type": "execute_result"
    }
   ],
   "source": [
    "# 감성 표현들의 출현 횟수를 합친 후 결과 제시하기\n",
    "sentiment_result1 = pd.Series(emotion).value_counts()\n",
    "sentiment_result1"
   ],
   "metadata": {
    "collapsed": false,
    "pycharm": {
     "name": "#%%\n"
    }
   }
  },
  {
   "cell_type": "code",
   "execution_count": 17,
   "outputs": [
    {
     "ename": "IndexError",
     "evalue": "index 0 is out of bounds for axis 0 with size 0",
     "output_type": "error",
     "traceback": [
      "\u001B[1;31m---------------------------------------------------------------------------\u001B[0m",
      "\u001B[1;31mIndexError\u001B[0m                                Traceback (most recent call last)",
      "Cell \u001B[1;32mIn [17], line 2\u001B[0m\n\u001B[0;32m      1\u001B[0m \u001B[38;5;66;03m# 감성 표현들의 출현 횟수를 합친 후 결과 제시하기\u001B[39;00m\n\u001B[1;32m----> 2\u001B[0m \u001B[43msentiment_result1\u001B[49m\u001B[38;5;241;43m.\u001B[39;49m\u001B[43mplot\u001B[49m\u001B[38;5;241;43m.\u001B[39;49m\u001B[43mbar\u001B[49m\u001B[43m(\u001B[49m\u001B[43m)\u001B[49m\n",
      "File \u001B[1;32m~\\AppData\\Local\\Programs\\Python\\Python38\\lib\\site-packages\\pandas\\plotting\\_core.py:1160\u001B[0m, in \u001B[0;36mPlotAccessor.bar\u001B[1;34m(self, x, y, **kwargs)\u001B[0m\n\u001B[0;32m   1072\u001B[0m \u001B[38;5;129m@Appender\u001B[39m(\n\u001B[0;32m   1073\u001B[0m     \u001B[38;5;124;03m\"\"\"\u001B[39;00m\n\u001B[0;32m   1074\u001B[0m \u001B[38;5;124;03m    See Also\u001B[39;00m\n\u001B[1;32m   (...)\u001B[0m\n\u001B[0;32m   1149\u001B[0m \u001B[38;5;129m@Appender\u001B[39m(_bar_or_line_doc)\n\u001B[0;32m   1150\u001B[0m \u001B[38;5;28;01mdef\u001B[39;00m \u001B[38;5;21mbar\u001B[39m(\u001B[38;5;28mself\u001B[39m, x\u001B[38;5;241m=\u001B[39m\u001B[38;5;28;01mNone\u001B[39;00m, y\u001B[38;5;241m=\u001B[39m\u001B[38;5;28;01mNone\u001B[39;00m, \u001B[38;5;241m*\u001B[39m\u001B[38;5;241m*\u001B[39mkwargs) \u001B[38;5;241m-\u001B[39m\u001B[38;5;241m>\u001B[39m PlotAccessor:\n\u001B[0;32m   1151\u001B[0m     \u001B[38;5;124;03m\"\"\"\u001B[39;00m\n\u001B[0;32m   1152\u001B[0m \u001B[38;5;124;03m    Vertical bar plot.\u001B[39;00m\n\u001B[0;32m   1153\u001B[0m \n\u001B[1;32m   (...)\u001B[0m\n\u001B[0;32m   1158\u001B[0m \u001B[38;5;124;03m    other axis represents a measured value.\u001B[39;00m\n\u001B[0;32m   1159\u001B[0m \u001B[38;5;124;03m    \"\"\"\u001B[39;00m\n\u001B[1;32m-> 1160\u001B[0m     \u001B[38;5;28;01mreturn\u001B[39;00m \u001B[38;5;28;43mself\u001B[39;49m\u001B[43m(\u001B[49m\u001B[43mkind\u001B[49m\u001B[38;5;241;43m=\u001B[39;49m\u001B[38;5;124;43m\"\u001B[39;49m\u001B[38;5;124;43mbar\u001B[39;49m\u001B[38;5;124;43m\"\u001B[39;49m\u001B[43m,\u001B[49m\u001B[43m \u001B[49m\u001B[43mx\u001B[49m\u001B[38;5;241;43m=\u001B[39;49m\u001B[43mx\u001B[49m\u001B[43m,\u001B[49m\u001B[43m \u001B[49m\u001B[43my\u001B[49m\u001B[38;5;241;43m=\u001B[39;49m\u001B[43my\u001B[49m\u001B[43m,\u001B[49m\u001B[43m \u001B[49m\u001B[38;5;241;43m*\u001B[39;49m\u001B[38;5;241;43m*\u001B[39;49m\u001B[43mkwargs\u001B[49m\u001B[43m)\u001B[49m\n",
      "File \u001B[1;32m~\\AppData\\Local\\Programs\\Python\\Python38\\lib\\site-packages\\pandas\\plotting\\_core.py:1001\u001B[0m, in \u001B[0;36mPlotAccessor.__call__\u001B[1;34m(self, *args, **kwargs)\u001B[0m\n\u001B[0;32m    998\u001B[0m             label_name \u001B[38;5;241m=\u001B[39m label_kw \u001B[38;5;129;01mor\u001B[39;00m data\u001B[38;5;241m.\u001B[39mcolumns\n\u001B[0;32m    999\u001B[0m             data\u001B[38;5;241m.\u001B[39mcolumns \u001B[38;5;241m=\u001B[39m label_name\n\u001B[1;32m-> 1001\u001B[0m \u001B[38;5;28;01mreturn\u001B[39;00m \u001B[43mplot_backend\u001B[49m\u001B[38;5;241;43m.\u001B[39;49m\u001B[43mplot\u001B[49m\u001B[43m(\u001B[49m\u001B[43mdata\u001B[49m\u001B[43m,\u001B[49m\u001B[43m \u001B[49m\u001B[43mkind\u001B[49m\u001B[38;5;241;43m=\u001B[39;49m\u001B[43mkind\u001B[49m\u001B[43m,\u001B[49m\u001B[43m \u001B[49m\u001B[38;5;241;43m*\u001B[39;49m\u001B[38;5;241;43m*\u001B[39;49m\u001B[43mkwargs\u001B[49m\u001B[43m)\u001B[49m\n",
      "File \u001B[1;32m~\\AppData\\Local\\Programs\\Python\\Python38\\lib\\site-packages\\pandas\\plotting\\_matplotlib\\__init__.py:71\u001B[0m, in \u001B[0;36mplot\u001B[1;34m(data, kind, **kwargs)\u001B[0m\n\u001B[0;32m     69\u001B[0m         kwargs[\u001B[38;5;124m\"\u001B[39m\u001B[38;5;124max\u001B[39m\u001B[38;5;124m\"\u001B[39m] \u001B[38;5;241m=\u001B[39m \u001B[38;5;28mgetattr\u001B[39m(ax, \u001B[38;5;124m\"\u001B[39m\u001B[38;5;124mleft_ax\u001B[39m\u001B[38;5;124m\"\u001B[39m, ax)\n\u001B[0;32m     70\u001B[0m plot_obj \u001B[38;5;241m=\u001B[39m PLOT_CLASSES[kind](data, \u001B[38;5;241m*\u001B[39m\u001B[38;5;241m*\u001B[39mkwargs)\n\u001B[1;32m---> 71\u001B[0m \u001B[43mplot_obj\u001B[49m\u001B[38;5;241;43m.\u001B[39;49m\u001B[43mgenerate\u001B[49m\u001B[43m(\u001B[49m\u001B[43m)\u001B[49m\n\u001B[0;32m     72\u001B[0m plot_obj\u001B[38;5;241m.\u001B[39mdraw()\n\u001B[0;32m     73\u001B[0m \u001B[38;5;28;01mreturn\u001B[39;00m plot_obj\u001B[38;5;241m.\u001B[39mresult\n",
      "File \u001B[1;32m~\\AppData\\Local\\Programs\\Python\\Python38\\lib\\site-packages\\pandas\\plotting\\_matplotlib\\core.py:460\u001B[0m, in \u001B[0;36mMPLPlot.generate\u001B[1;34m(self)\u001B[0m\n\u001B[0;32m    458\u001B[0m \u001B[38;5;28;01mfor\u001B[39;00m ax \u001B[38;5;129;01min\u001B[39;00m \u001B[38;5;28mself\u001B[39m\u001B[38;5;241m.\u001B[39maxes:\n\u001B[0;32m    459\u001B[0m     \u001B[38;5;28mself\u001B[39m\u001B[38;5;241m.\u001B[39m_post_plot_logic_common(ax, \u001B[38;5;28mself\u001B[39m\u001B[38;5;241m.\u001B[39mdata)\n\u001B[1;32m--> 460\u001B[0m     \u001B[38;5;28;43mself\u001B[39;49m\u001B[38;5;241;43m.\u001B[39;49m\u001B[43m_post_plot_logic\u001B[49m\u001B[43m(\u001B[49m\u001B[43max\u001B[49m\u001B[43m,\u001B[49m\u001B[43m \u001B[49m\u001B[38;5;28;43mself\u001B[39;49m\u001B[38;5;241;43m.\u001B[39;49m\u001B[43mdata\u001B[49m\u001B[43m)\u001B[49m\n",
      "File \u001B[1;32m~\\AppData\\Local\\Programs\\Python\\Python38\\lib\\site-packages\\pandas\\plotting\\_matplotlib\\core.py:1734\u001B[0m, in \u001B[0;36mBarPlot._post_plot_logic\u001B[1;34m(self, ax, data)\u001B[0m\n\u001B[0;32m   1731\u001B[0m \u001B[38;5;28;01melse\u001B[39;00m:\n\u001B[0;32m   1732\u001B[0m     str_index \u001B[38;5;241m=\u001B[39m [pprint_thing(key) \u001B[38;5;28;01mfor\u001B[39;00m key \u001B[38;5;129;01min\u001B[39;00m \u001B[38;5;28mrange\u001B[39m(data\u001B[38;5;241m.\u001B[39mshape[\u001B[38;5;241m0\u001B[39m])]\n\u001B[1;32m-> 1734\u001B[0m s_edge \u001B[38;5;241m=\u001B[39m \u001B[38;5;28;43mself\u001B[39;49m\u001B[38;5;241;43m.\u001B[39;49m\u001B[43max_pos\u001B[49m\u001B[43m[\u001B[49m\u001B[38;5;241;43m0\u001B[39;49m\u001B[43m]\u001B[49m \u001B[38;5;241m-\u001B[39m \u001B[38;5;241m0.25\u001B[39m \u001B[38;5;241m+\u001B[39m \u001B[38;5;28mself\u001B[39m\u001B[38;5;241m.\u001B[39mlim_offset\n\u001B[0;32m   1735\u001B[0m e_edge \u001B[38;5;241m=\u001B[39m \u001B[38;5;28mself\u001B[39m\u001B[38;5;241m.\u001B[39max_pos[\u001B[38;5;241m-\u001B[39m\u001B[38;5;241m1\u001B[39m] \u001B[38;5;241m+\u001B[39m \u001B[38;5;241m0.25\u001B[39m \u001B[38;5;241m+\u001B[39m \u001B[38;5;28mself\u001B[39m\u001B[38;5;241m.\u001B[39mbar_width \u001B[38;5;241m+\u001B[39m \u001B[38;5;28mself\u001B[39m\u001B[38;5;241m.\u001B[39mlim_offset\n\u001B[0;32m   1737\u001B[0m \u001B[38;5;28mself\u001B[39m\u001B[38;5;241m.\u001B[39m_decorate_ticks(ax, \u001B[38;5;28mself\u001B[39m\u001B[38;5;241m.\u001B[39m_get_index_name(), str_index, s_edge, e_edge)\n",
      "\u001B[1;31mIndexError\u001B[0m: index 0 is out of bounds for axis 0 with size 0"
     ]
    },
    {
     "data": {
      "text/plain": "<Figure size 640x480 with 1 Axes>",
      "image/png": "[encoded data removed]"
     },
     "metadata": {},
     "output_type": "display_data"
    }
   ],
   "source": [
    "# 감성 표현들의 출현 횟수를 합친 후 결과 제시하기\n",
    "sentiment_result1.plot.bar()"
   ],
   "metadata": {
    "collapsed": false,
    "pycharm": {
     "name": "#%%\n"
    }
   }
  },
  {
   "cell_type": "code",
   "execution_count": 14,
   "outputs": [
    {
     "ename": "NameError",
     "evalue": "name 'lines2' is not defined",
     "output_type": "error",
     "traceback": [
      "\u001B[1;31m---------------------------------------------------------------------------\u001B[0m",
      "\u001B[1;31mNameError\u001B[0m                                 Traceback (most recent call last)",
      "Cell \u001B[1;32mIn [14], line 2\u001B[0m\n\u001B[0;32m      1\u001B[0m \u001B[38;5;66;03m# 감성 표현들의 출현 횟수를 합친 후 결과 제시하기\u001B[39;00m\n\u001B[1;32m----> 2\u001B[0m raw \u001B[38;5;241m=\u001B[39m \u001B[43mlines2\u001B[49m\u001B[38;5;241m.\u001B[39mlower()\n\u001B[0;32m      3\u001B[0m tokens\u001B[38;5;241m.\u001B[39mtokenizer\u001B[38;5;241m.\u001B[39mtokenize(raw)\n\u001B[0;32m      4\u001B[0m stopped_tokens \u001B[38;5;241m=\u001B[39m [i \u001B[38;5;28;01mfor\u001B[39;00m i \u001B[38;5;129;01min\u001B[39;00m tokens \u001B[38;5;28;01mif\u001B[39;00m \u001B[38;5;129;01mnot\u001B[39;00m i \u001B[38;5;129;01min\u001B[39;00m  stop_words]\n",
      "\u001B[1;31mNameError\u001B[0m: name 'lines2' is not defined"
     ]
    }
   ],
   "source": [
    "# 감성 표현들의 출현 횟수를 합친 후 결과 제시하기\n",
    "raw = lines2.lower()\n",
    "tokens.tokenizer.tokenize(raw)\n",
    "stopped_tokens = [i for i in tokens if not i in  stop_words]\n",
    "\n",
    "match_words = [x for x in stopped_tokens if x in list(NRC[0])]"
   ],
   "metadata": {
    "collapsed": false,
    "pycharm": {
     "name": "#%%\n"
    }
   }
  },
  {
   "cell_type": "code",
   "execution_count": 15,
   "outputs": [
    {
     "ename": "NameError",
     "evalue": "name 'match_words' is not defined",
     "output_type": "error",
     "traceback": [
      "\u001B[1;31m---------------------------------------------------------------------------\u001B[0m",
      "\u001B[1;31mNameError\u001B[0m                                 Traceback (most recent call last)",
      "Cell \u001B[1;32mIn [15], line 3\u001B[0m\n\u001B[0;32m      1\u001B[0m \u001B[38;5;66;03m# 감성 표현들의 출현 횟수를 합친 후 결과 제시하기\u001B[39;00m\n\u001B[0;32m      2\u001B[0m emotion \u001B[38;5;241m=\u001B[39m []\n\u001B[1;32m----> 3\u001B[0m \u001B[38;5;28;01mfor\u001B[39;00m i \u001B[38;5;129;01min\u001B[39;00m \u001B[43mmatch_words\u001B[49m:\n\u001B[0;32m      4\u001B[0m     temp \u001B[38;5;241m=\u001B[39m \u001B[38;5;28mlist\u001B[39m(NRC\u001B[38;5;241m.\u001B[39miloc[np\u001B[38;5;241m.\u001B[39mwhere(NRC[\u001B[38;5;241m0\u001B[39m])[\u001B[38;5;241m0\u001B[39m], \u001B[38;5;241m1\u001B[39m])\n\u001B[0;32m      5\u001B[0m     \u001B[38;5;28;01mfor\u001B[39;00m j \u001B[38;5;129;01min\u001B[39;00m temp:\n",
      "\u001B[1;31mNameError\u001B[0m: name 'match_words' is not defined"
     ]
    }
   ],
   "source": [
    "# 감성 표현들의 출현 횟수를 합친 후 결과 제시하기\n",
    "emotion = []\n",
    "for i in match_words:\n",
    "    temp = list(NRC.iloc[np.where(NRC[0])[0], 1])\n",
    "    for j in temp:\n",
    "        emotion.append(j)"
   ],
   "metadata": {
    "collapsed": false,
    "pycharm": {
     "name": "#%%\n"
    }
   }
  },
  {
   "cell_type": "code",
   "execution_count": 16,
   "outputs": [
    {
     "name": "stderr",
     "output_type": "stream",
     "text": [
      "C:\\Users\\student\\AppData\\Local\\Temp\\ipykernel_2856\\3635913031.py:1: FutureWarning: The default dtype for empty Series will be 'object' instead of 'float64' in a future version. Specify a dtype explicitly to silence this warning.\n",
      "  sentiment_result2 = pd.Series(emotion).value_counts()\n"
     ]
    },
    {
     "data": {
      "text/plain": "Series([], dtype: int64)"
     },
     "execution_count": 16,
     "metadata": {},
     "output_type": "execute_result"
    }
   ],
   "source": [
    "sentiment_result2 = pd.Series(emotion).value_counts()\n",
    "sentiment_result2"
   ],
   "metadata": {
    "collapsed": false,
    "pycharm": {
     "name": "#%%\n"
    }
   }
  },
  {
   "cell_type": "code",
   "execution_count": 17,
   "outputs": [
    {
     "ename": "AttributeError",
     "evalue": "'Series' object has no attribute 'plot_bar'",
     "output_type": "error",
     "traceback": [
      "\u001B[1;31m---------------------------------------------------------------------------\u001B[0m",
      "\u001B[1;31mAttributeError\u001B[0m                            Traceback (most recent call last)",
      "Cell \u001B[1;32mIn [17], line 1\u001B[0m\n\u001B[1;32m----> 1\u001B[0m \u001B[43msentiment_result2\u001B[49m\u001B[38;5;241;43m.\u001B[39;49m\u001B[43mplot_bar\u001B[49m()\n",
      "File \u001B[1;32m~\\AppData\\Local\\Programs\\Python\\Python38\\lib\\site-packages\\pandas\\core\\generic.py:5907\u001B[0m, in \u001B[0;36mNDFrame.__getattr__\u001B[1;34m(self, name)\u001B[0m\n\u001B[0;32m   5900\u001B[0m \u001B[38;5;28;01mif\u001B[39;00m (\n\u001B[0;32m   5901\u001B[0m     name \u001B[38;5;129;01mnot\u001B[39;00m \u001B[38;5;129;01min\u001B[39;00m \u001B[38;5;28mself\u001B[39m\u001B[38;5;241m.\u001B[39m_internal_names_set\n\u001B[0;32m   5902\u001B[0m     \u001B[38;5;129;01mand\u001B[39;00m name \u001B[38;5;129;01mnot\u001B[39;00m \u001B[38;5;129;01min\u001B[39;00m \u001B[38;5;28mself\u001B[39m\u001B[38;5;241m.\u001B[39m_metadata\n\u001B[0;32m   5903\u001B[0m     \u001B[38;5;129;01mand\u001B[39;00m name \u001B[38;5;129;01mnot\u001B[39;00m \u001B[38;5;129;01min\u001B[39;00m \u001B[38;5;28mself\u001B[39m\u001B[38;5;241m.\u001B[39m_accessors\n\u001B[0;32m   5904\u001B[0m     \u001B[38;5;129;01mand\u001B[39;00m \u001B[38;5;28mself\u001B[39m\u001B[38;5;241m.\u001B[39m_info_axis\u001B[38;5;241m.\u001B[39m_can_hold_identifiers_and_holds_name(name)\n\u001B[0;32m   5905\u001B[0m ):\n\u001B[0;32m   5906\u001B[0m     \u001B[38;5;28;01mreturn\u001B[39;00m \u001B[38;5;28mself\u001B[39m[name]\n\u001B[1;32m-> 5907\u001B[0m \u001B[38;5;28;01mreturn\u001B[39;00m \u001B[38;5;28;43mobject\u001B[39;49m\u001B[38;5;241;43m.\u001B[39;49m\u001B[38;5;21;43m__getattribute__\u001B[39;49m\u001B[43m(\u001B[49m\u001B[38;5;28;43mself\u001B[39;49m\u001B[43m,\u001B[49m\u001B[43m \u001B[49m\u001B[43mname\u001B[49m\u001B[43m)\u001B[49m\n",
      "\u001B[1;31mAttributeError\u001B[0m: 'Series' object has no attribute 'plot_bar'"
     ]
    }
   ],
   "source": [
    "sentiment_result2.plot_bar()"
   ],
   "metadata": {
    "collapsed": false,
    "pycharm": {
     "name": "#%%\n"
    }
   }
  },
  {
   "cell_type": "markdown",
   "source": [
    "# 지도학습 기반 감성 분석\n",
    "- 텍스트 마이닝에서의 지도학습\n",
    "    - 인간 코더(Coder)가 판단한 긍정 및 부정 라벨이 포함된 텍스트 데이터 중 일부 문서가 학습데이터로 사용됨\n",
    "    - 기계학습 기반 분류 모델을 구성한 후 해당 모델을 이용하여 새로운 평가 데이터가 입력될 때 긍정 및 부정 여부를 판별\n",
    "\n",
    "    - 사전 기반 감성 분석에 비해 세밀하고 특수한 경우의 텍스트에 관한 감성 분석을 할 때 유용할 수 있음\n",
    "\n",
    "# 지도 학습 기반 감성 분석\n",
    "\n",
    "- 감성 분석에서 지도 학습을 적용하려면 훈련 및 평가 데이터의 성격이 동일해야 함\n",
    "    - 텍스트의 주제, 성겨에 따라 유사한 어구라도 긍정 및 부정 여부가 달라질 수 있음\n",
    "    - 지도 학습 모델을 구성하기 위해서는 라벨을 포함한 대량의 훈련 데이터가 필요함"
   ],
   "metadata": {
    "collapsed": false,
    "pycharm": {
     "name": "#%% md\n"
    }
   }
  },
  {
   "cell_type": "code",
   "execution_count": 18,
   "outputs": [],
   "source": [
    "# 관련 랄이브러리 불러오기\n",
    "import pandas as pd\n",
    "import glob\n",
    "from afinn import Afinn\n",
    "from nltk.corpus import stopwords\n",
    "import numpy as np\n",
    "from sklearn.feature_extraction.text import TfidfVectorizer"
   ],
   "metadata": {
    "collapsed": false,
    "pycharm": {
     "name": "#%%\n"
    }
   }
  },
  {
   "cell_type": "code",
   "execution_count": null,
   "outputs": [],
   "source": [
    "# 긍정 리뷰 학습 집합 불러오기\n",
    "pos_review = glob.glob(\"\")\n",
    "lines_pos = []\n",
    "for i in pos_review:\n",
    "    try:\n",
    "        with open(i, \"r\") as f:\n",
    "            temp = f.read()\n"
   ],
   "metadata": {
    "collapsed": false,
    "pycharm": {
     "name": "#%%\n"
    }
   }
  }
 ],
 "metadata": {
  "kernelspec": {
   "display_name": "Python 3",
   "language": "python",
   "name": "python3"
  },
  "language_info": {
   "codemirror_mode": {
    "name": "ipython",
    "version": 2
   },
   "file_extension": ".py",
   "mimetype": "text/x-python",
   "name": "python",
   "nbconvert_exporter": "python",
   "pygments_lexer": "ipython2",
   "version": "2.7.6"
  }
 },
 "nbformat": 4,
 "nbformat_minor": 0
}