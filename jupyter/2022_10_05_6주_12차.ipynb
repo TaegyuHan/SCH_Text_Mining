{
 "cells": [
  {
   "cell_type": "markdown",
   "source": [
    "# SCH 빅데이터 공학과 3학년-2학기 텍스트 마이닝\n",
    "날짜 : 2022-10-05 수요일 15:00 6주 12차시\n",
    "교수 : 문지훈\n",
    "학생 : 한태규"
   ],
   "metadata": {
    "collapsed": false,
    "pycharm": {
     "name": "#%% md\n"
    }
   }
  },
  {
   "cell_type": "markdown",
   "source": [
    "### 텍스트 데이터 전처리의 중요성\n",
    "- 데이터 전처리 : 텍스트 데이터에 직접 대입하여 텍스트 마이닝을 수행하기 위한 필수적인 과정 > 특별한 규칙은 없으며, 본인 입맛과 기술에 따라 수행\n",
    "- 정규 표현식 : 텍스트 문자열의 패턴 파악 및 식별\n",
    "- 사전 처리\n",
    "    - 대소문자 통일, 숫자/문장부호/특수문자/불용어 제거 같은 어근 동일화, N-gram 등\n",
    "- 품사 분석 : 특정 품사만을 수집하여 분석\n",
    "- 단어 빈도분석의 등장 배경과 문서의 단어 빈도를 분석할 수 있다. > 영어 문서, 한글 문서\n",
    "- 문서별 핵심 단어들에 관한 워드 클라우드를 나타낼 수 있다."
   ],
   "metadata": {
    "collapsed": false,
    "pycharm": {
     "name": "#%% md\n"
    }
   }
  },
  {
   "cell_type": "markdown",
   "source": [
    "# 수치 데이터를 분석하는 방법\n",
    "- 데이터의 수, 평균, 표준편차, 최댓값, 최솟값 등"
   ],
   "metadata": {
    "collapsed": false,
    "pycharm": {
     "name": "#%% md\n"
    }
   }
  },
  {
   "cell_type": "markdown",
   "source": [
    "# 1. 단어 빈도분석\n",
    "\n",
    "## 단어 빈도분석 알아보기\n",
    "- 가장 기본적이지만 쉽고 보편적으로 활용되는 방법\n",
    "- 본격적인 데이터 분석 전 데이터에 관한 이해와 흐름을 살펴보기 위한 기초 분석\n",
    "\n",
    "- 전체 문서 또는 문서별 단어 출현 빈도를 보여줌\n",
    "    - 특정 단어가 자주 많이 출현하면 핵심 단어라고 볼 수 있음"
   ],
   "metadata": {
    "collapsed": false,
    "pycharm": {
     "name": "#%% md\n"
    }
   }
  },
  {
   "cell_type": "code",
   "execution_count": 8,
   "outputs": [],
   "source": [
    "# 영어 문서의 단어 빈도분석\n",
    "import pandas as pd\n",
    "import nltk\n",
    "from nltk.stem.porter import PorterStemmer\n",
    "from nltk.corpus import stopwords\n",
    "\n",
    "with open(\"../data/sch.txt\", encoding=\"utf-8\") as f:\n",
    "    lines = f.readlines()[0]"
   ],
   "metadata": {
    "collapsed": false,
    "pycharm": {
     "name": "#%%\n"
    }
   }
  },
  {
   "cell_type": "code",
   "execution_count": 9,
   "outputs": [
    {
     "data": {
      "text/plain": "'A Message from the President My beloved Soonchunhyang students, faculty, staff, and alumni! Soonchunhyang University is a higher educational institution that opened Korea’s first medical corporation. For a half century, we have grown into one of the best and most prestigious private universities. Appointed as president, I am greatly honored and wish to open a new bright future with all of you. As the 9th president of Soonchunhyang University, I will cherish ‘Respect for Humanity’, the founding philosophy of the University and explore a new road by working with all of you in unison and with one mind. Based on the “good” university image of sustainability at Soonchunhyang, I will pursue innovation and excellence in academic performance, to rise as a “great university” that can exert continuous impact across our society. First, I will launch New Normal Blended Learning Innovation at Soonchunhyang. As the TLST (Teaching Less for Self-Teaching) paradigm has demonstrated, educational innovation at Soonchunhyang has been implemented in tandem with global standards, and I am proud that it is now the nation’s best level. Going forward, I will build a New Normal Blended Learning system to support student learning both online and offline, so that in the post-pandemic era, Soonchunhyang can continue leading Korea’s educational innovation. I will establish an “enthusiastic campus platform” to help student seek self-development on campus and a “challenging learning platform” aiming to cultivate student learning ability as an active host. The 2021 admission ceremony of Soonchunhyang was conducted in metaverse where all freshmen participated in tangible virtual reality. Being the world’s first heralds the start of a new normal enthusiastic campus platform and opens a new history in university education paradigm. Second, Soonchunhyang will be the mecca of practical convergence research through the cultivation of a campus R&BD park. Soonchunhyang University has become the top regional private university as its five business groups were selected as the 4th phase BK (Brain Korea) projects in 2020. As was shown in the success stories of global leading universities, practical research has played a pivotal role in promoting profit-oriented university finance and management. I will build a support system so that Soonchunhyang makes a significant contribution to solving social issues by strengthening convergence between biomedicine, information and communications technology, and the humanities. Curriculum and the academic environment will be restructured to ensure that our graduate school will be at the forefront of cultivating research talents. To ensure the early construction of the campus R&BD park, I will foster cooperation between various campus startup infrastructures and promote a collaboration with national and local governments. Third, I will lift our SCH brand value to rank among the top 200 universities in the world, and top 20 in Korea. Today, the brand value of a university is directly related to its competitiveness. Amid the Covid-19 pandemic, university brand has gained increasing importance. I will boost our positive preference by enhancing Soonchunhyang brand recognition and nurturing our reputation. Our goal is to rank among the top 200 in THE impact rankings and the top 100 in QS Asian University Rankings. As for the hospital, our goal is to rank among the top 100 in World’s Best Hospitals by Newsweek. By building on our perceived quality (PQ) which is closely related to university brand value, we will achieve Soonchunhyang brand asset value ranking in the top 20 in Korea and the top 200 in the world. Fourth, I will build our differentiated brand of Soonchunhyang Healthy University (SH3U). The COVID-19 pandemic has completely changed our lives, perception and social structure. University is no exception. The health and safety of university members are considered to be more important than education. Soonchunhyang University has established its image as one of the healthiest universities in Korea, and has built up sufficient capability and attained competitive advantage. During my term, I will be dedicated to further reinforcing a differentiated brand of ‘Healthy Soonchunhyang University.’ Specifically, I will cultivate our “Healthy Campus” to enhance student satisfaction, strengthen “Healthcare Specialization” to promote clinical faculty’s translational research, and realize “Healthy Finance” to overcome the challenges of university finance. My beloved Soonchunhyang family! Management and growth are two pillars in operating an institution. Generally, universities are more focused on their management systems. During my term, however, I will put more weight in growth. This shift of focus will bring about significant changes in our administrative paradigm. I will strive to lay a solid foundation for new growth, building on our accumulated capabilities, enthusiasm and the love of all of us toward our Soonchunhyang community. I firmly believe the philosophy of the founder of Soonchunhyang University, the late Dr. Succ-Jo Suh, that the future of Soonchunhyang is only built on human respect. I will realize a happy and bright university campus where all members respect each other through open communication and mutual support. Listening carefully to the opinions of our Soonchunhyang family, I will do my best to achieve a university culture of trust and harmony through communication across various channels. Thank you. Industry and academics prosper together through splendid performance in innovative research.> Lift our brand to the world by rising as a prestigious specialized university> March 2, 2021 Seungwoo KIM, Ph.D. The 9th President'"
     },
     "execution_count": 9,
     "metadata": {},
     "output_type": "execute_result"
    }
   ],
   "source": [
    "lines"
   ],
   "metadata": {
    "collapsed": false,
    "pycharm": {
     "name": "#%%\n"
    }
   }
  },
  {
   "cell_type": "code",
   "execution_count": 19,
   "outputs": [],
   "source": [
    "from nltk import RegexpTokenizer\n",
    "\n",
    "# 총장님의 말씀을 분석해보자!\n",
    "lines[:100]\n",
    "tokenizer = RegexpTokenizer(\"[\\w]+\")\n",
    "stop_words = set(stopwords.words(\"english\"))\n",
    "words = lines.lower()\n",
    "tokens = tokenizer.tokenize(words)"
   ],
   "metadata": {
    "collapsed": false,
    "pycharm": {
     "name": "#%%\n"
    }
   }
  },
  {
   "cell_type": "code",
   "execution_count": 20,
   "outputs": [
    {
     "data": {
      "text/plain": "{'a',\n 'about',\n 'above',\n 'after',\n 'again',\n 'against',\n 'ain',\n 'all',\n 'am',\n 'an',\n 'and',\n 'any',\n 'are',\n 'aren',\n \"aren't\",\n 'as',\n 'at',\n 'be',\n 'because',\n 'been',\n 'before',\n 'being',\n 'below',\n 'between',\n 'both',\n 'but',\n 'by',\n 'can',\n 'couldn',\n \"couldn't\",\n 'd',\n 'did',\n 'didn',\n \"didn't\",\n 'do',\n 'does',\n 'doesn',\n \"doesn't\",\n 'doing',\n 'don',\n \"don't\",\n 'down',\n 'during',\n 'each',\n 'few',\n 'for',\n 'from',\n 'further',\n 'had',\n 'hadn',\n \"hadn't\",\n 'has',\n 'hasn',\n \"hasn't\",\n 'have',\n 'haven',\n \"haven't\",\n 'having',\n 'he',\n 'her',\n 'here',\n 'hers',\n 'herself',\n 'him',\n 'himself',\n 'his',\n 'how',\n 'i',\n 'if',\n 'in',\n 'into',\n 'is',\n 'isn',\n \"isn't\",\n 'it',\n \"it's\",\n 'its',\n 'itself',\n 'just',\n 'll',\n 'm',\n 'ma',\n 'me',\n 'mightn',\n \"mightn't\",\n 'more',\n 'most',\n 'mustn',\n \"mustn't\",\n 'my',\n 'myself',\n 'needn',\n \"needn't\",\n 'no',\n 'nor',\n 'not',\n 'now',\n 'o',\n 'of',\n 'off',\n 'on',\n 'once',\n 'only',\n 'or',\n 'other',\n 'our',\n 'ours',\n 'ourselves',\n 'out',\n 'over',\n 'own',\n 're',\n 's',\n 'same',\n 'shan',\n \"shan't\",\n 'she',\n \"she's\",\n 'should',\n \"should've\",\n 'shouldn',\n \"shouldn't\",\n 'so',\n 'some',\n 'such',\n 't',\n 'than',\n 'that',\n \"that'll\",\n 'the',\n 'their',\n 'theirs',\n 'them',\n 'themselves',\n 'then',\n 'there',\n 'these',\n 'they',\n 'this',\n 'those',\n 'through',\n 'to',\n 'too',\n 'under',\n 'until',\n 'up',\n 've',\n 'very',\n 'was',\n 'wasn',\n \"wasn't\",\n 'we',\n 'were',\n 'weren',\n \"weren't\",\n 'what',\n 'when',\n 'where',\n 'which',\n 'while',\n 'who',\n 'whom',\n 'why',\n 'will',\n 'with',\n 'won',\n \"won't\",\n 'wouldn',\n \"wouldn't\",\n 'y',\n 'you',\n \"you'd\",\n \"you'll\",\n \"you're\",\n \"you've\",\n 'your',\n 'yours',\n 'yourself',\n 'yourselves'}"
     },
     "execution_count": 20,
     "metadata": {},
     "output_type": "execute_result"
    }
   ],
   "source": [
    "stop_words"
   ],
   "metadata": {
    "collapsed": false,
    "pycharm": {
     "name": "#%%\n"
    }
   }
  },
  {
   "cell_type": "code",
   "execution_count": 16,
   "outputs": [
    {
     "data": {
      "text/plain": "['a',\n 'message',\n 'from',\n 'the',\n 'president',\n 'my',\n 'beloved',\n 'soonchunhyang',\n 'students',\n 'faculty',\n 'staff',\n 'and',\n 'alumni',\n 'soonchunhyang',\n 'university',\n 'is',\n 'a',\n 'higher',\n 'educational',\n 'institution',\n 'that',\n 'opened',\n 'korea',\n 's',\n 'first',\n 'medical',\n 'corporation',\n 'for',\n 'a',\n 'half',\n 'century',\n 'we',\n 'have',\n 'grown',\n 'into',\n 'one',\n 'of',\n 'the',\n 'best',\n 'and',\n 'most',\n 'prestigious',\n 'private',\n 'universities',\n 'appointed',\n 'as',\n 'president',\n 'i',\n 'am',\n 'greatly',\n 'honored',\n 'and',\n 'wish',\n 'to',\n 'open',\n 'a',\n 'new',\n 'bright',\n 'future',\n 'with',\n 'all',\n 'of',\n 'you',\n 'as',\n 'the',\n '9th',\n 'president',\n 'of',\n 'soonchunhyang',\n 'university',\n 'i',\n 'will',\n 'cherish',\n 'respect',\n 'for',\n 'humanity',\n 'the',\n 'founding',\n 'philosophy',\n 'of',\n 'the',\n 'university',\n 'and',\n 'explore',\n 'a',\n 'new',\n 'road',\n 'by',\n 'working',\n 'with',\n 'all',\n 'of',\n 'you',\n 'in',\n 'unison',\n 'and',\n 'with',\n 'one',\n 'mind',\n 'based',\n 'on',\n 'the',\n 'good',\n 'university',\n 'image',\n 'of',\n 'sustainability',\n 'at',\n 'soonchunhyang',\n 'i',\n 'will',\n 'pursue',\n 'innovation',\n 'and',\n 'excellence',\n 'in',\n 'academic',\n 'performance',\n 'to',\n 'rise',\n 'as',\n 'a',\n 'great',\n 'university',\n 'that',\n 'can',\n 'exert',\n 'continuous',\n 'impact',\n 'across',\n 'our',\n 'society',\n 'first',\n 'i',\n 'will',\n 'launch',\n 'new',\n 'normal',\n 'blended',\n 'learning',\n 'innovation',\n 'at',\n 'soonchunhyang',\n 'as',\n 'the',\n 'tlst',\n 'teaching',\n 'less',\n 'for',\n 'self',\n 'teaching',\n 'paradigm',\n 'has',\n 'demonstrated',\n 'educational',\n 'innovation',\n 'at',\n 'soonchunhyang',\n 'has',\n 'been',\n 'implemented',\n 'in',\n 'tandem',\n 'with',\n 'global',\n 'standards',\n 'and',\n 'i',\n 'am',\n 'proud',\n 'that',\n 'it',\n 'is',\n 'now',\n 'the',\n 'nation',\n 's',\n 'best',\n 'level',\n 'going',\n 'forward',\n 'i',\n 'will',\n 'build',\n 'a',\n 'new',\n 'normal',\n 'blended',\n 'learning',\n 'system',\n 'to',\n 'support',\n 'student',\n 'learning',\n 'both',\n 'online',\n 'and',\n 'offline',\n 'so',\n 'that',\n 'in',\n 'the',\n 'post',\n 'pandemic',\n 'era',\n 'soonchunhyang',\n 'can',\n 'continue',\n 'leading',\n 'korea',\n 's',\n 'educational',\n 'innovation',\n 'i',\n 'will',\n 'establish',\n 'an',\n 'enthusiastic',\n 'campus',\n 'platform',\n 'to',\n 'help',\n 'student',\n 'seek',\n 'self',\n 'development',\n 'on',\n 'campus',\n 'and',\n 'a',\n 'challenging',\n 'learning',\n 'platform',\n 'aiming',\n 'to',\n 'cultivate',\n 'student',\n 'learning',\n 'ability',\n 'as',\n 'an',\n 'active',\n 'host',\n 'the',\n '2021',\n 'admission',\n 'ceremony',\n 'of',\n 'soonchunhyang',\n 'was',\n 'conducted',\n 'in',\n 'metaverse',\n 'where',\n 'all',\n 'freshmen',\n 'participated',\n 'in',\n 'tangible',\n 'virtual',\n 'reality',\n 'being',\n 'the',\n 'world',\n 's',\n 'first',\n 'heralds',\n 'the',\n 'start',\n 'of',\n 'a',\n 'new',\n 'normal',\n 'enthusiastic',\n 'campus',\n 'platform',\n 'and',\n 'opens',\n 'a',\n 'new',\n 'history',\n 'in',\n 'university',\n 'education',\n 'paradigm',\n 'second',\n 'soonchunhyang',\n 'will',\n 'be',\n 'the',\n 'mecca',\n 'of',\n 'practical',\n 'convergence',\n 'research',\n 'through',\n 'the',\n 'cultivation',\n 'of',\n 'a',\n 'campus',\n 'r',\n 'bd',\n 'park',\n 'soonchunhyang',\n 'university',\n 'has',\n 'become',\n 'the',\n 'top',\n 'regional',\n 'private',\n 'university',\n 'as',\n 'its',\n 'five',\n 'business',\n 'groups',\n 'were',\n 'selected',\n 'as',\n 'the',\n '4th',\n 'phase',\n 'bk',\n 'brain',\n 'korea',\n 'projects',\n 'in',\n '2020',\n 'as',\n 'was',\n 'shown',\n 'in',\n 'the',\n 'success',\n 'stories',\n 'of',\n 'global',\n 'leading',\n 'universities',\n 'practical',\n 'research',\n 'has',\n 'played',\n 'a',\n 'pivotal',\n 'role',\n 'in',\n 'promoting',\n 'profit',\n 'oriented',\n 'university',\n 'finance',\n 'and',\n 'management',\n 'i',\n 'will',\n 'build',\n 'a',\n 'support',\n 'system',\n 'so',\n 'that',\n 'soonchunhyang',\n 'makes',\n 'a',\n 'significant',\n 'contribution',\n 'to',\n 'solving',\n 'social',\n 'issues',\n 'by',\n 'strengthening',\n 'convergence',\n 'between',\n 'biomedicine',\n 'information',\n 'and',\n 'communications',\n 'technology',\n 'and',\n 'the',\n 'humanities',\n 'curriculum',\n 'and',\n 'the',\n 'academic',\n 'environment',\n 'will',\n 'be',\n 'restructured',\n 'to',\n 'ensure',\n 'that',\n 'our',\n 'graduate',\n 'school',\n 'will',\n 'be',\n 'at',\n 'the',\n 'forefront',\n 'of',\n 'cultivating',\n 'research',\n 'talents',\n 'to',\n 'ensure',\n 'the',\n 'early',\n 'construction',\n 'of',\n 'the',\n 'campus',\n 'r',\n 'bd',\n 'park',\n 'i',\n 'will',\n 'foster',\n 'cooperation',\n 'between',\n 'various',\n 'campus',\n 'startup',\n 'infrastructures',\n 'and',\n 'promote',\n 'a',\n 'collaboration',\n 'with',\n 'national',\n 'and',\n 'local',\n 'governments',\n 'third',\n 'i',\n 'will',\n 'lift',\n 'our',\n 'sch',\n 'brand',\n 'value',\n 'to',\n 'rank',\n 'among',\n 'the',\n 'top',\n '200',\n 'universities',\n 'in',\n 'the',\n 'world',\n 'and',\n 'top',\n '20',\n 'in',\n 'korea',\n 'today',\n 'the',\n 'brand',\n 'value',\n 'of',\n 'a',\n 'university',\n 'is',\n 'directly',\n 'related',\n 'to',\n 'its',\n 'competitiveness',\n 'amid',\n 'the',\n 'covid',\n '19',\n 'pandemic',\n 'university',\n 'brand',\n 'has',\n 'gained',\n 'increasing',\n 'importance',\n 'i',\n 'will',\n 'boost',\n 'our',\n 'positive',\n 'preference',\n 'by',\n 'enhancing',\n 'soonchunhyang',\n 'brand',\n 'recognition',\n 'and',\n 'nurturing',\n 'our',\n 'reputation',\n 'our',\n 'goal',\n 'is',\n 'to',\n 'rank',\n 'among',\n 'the',\n 'top',\n '200',\n 'in',\n 'the',\n 'impact',\n 'rankings',\n 'and',\n 'the',\n 'top',\n '100',\n 'in',\n 'qs',\n 'asian',\n 'university',\n 'rankings',\n 'as',\n 'for',\n 'the',\n 'hospital',\n 'our',\n 'goal',\n 'is',\n 'to',\n 'rank',\n 'among',\n 'the',\n 'top',\n '100',\n 'in',\n 'world',\n 's',\n 'best',\n 'hospitals',\n 'by',\n 'newsweek',\n 'by',\n 'building',\n 'on',\n 'our',\n 'perceived',\n 'quality',\n 'pq',\n 'which',\n 'is',\n 'closely',\n 'related',\n 'to',\n 'university',\n 'brand',\n 'value',\n 'we',\n 'will',\n 'achieve',\n 'soonchunhyang',\n 'brand',\n 'asset',\n 'value',\n 'ranking',\n 'in',\n 'the',\n 'top',\n '20',\n 'in',\n 'korea',\n 'and',\n 'the',\n 'top',\n '200',\n 'in',\n 'the',\n 'world',\n 'fourth',\n 'i',\n 'will',\n 'build',\n 'our',\n 'differentiated',\n 'brand',\n 'of',\n 'soonchunhyang',\n 'healthy',\n 'university',\n 'sh3u',\n 'the',\n 'covid',\n '19',\n 'pandemic',\n 'has',\n 'completely',\n 'changed',\n 'our',\n 'lives',\n 'perception',\n 'and',\n 'social',\n 'structure',\n 'university',\n 'is',\n 'no',\n 'exception',\n 'the',\n 'health',\n 'and',\n 'safety',\n 'of',\n 'university',\n 'members',\n 'are',\n 'considered',\n 'to',\n 'be',\n 'more',\n 'important',\n 'than',\n 'education',\n 'soonchunhyang',\n 'university',\n 'has',\n 'established',\n 'its',\n 'image',\n 'as',\n 'one',\n 'of',\n 'the',\n 'healthiest',\n 'universities',\n 'in',\n 'korea',\n 'and',\n 'has',\n 'built',\n 'up',\n 'sufficient',\n 'capability',\n 'and',\n 'attained',\n 'competitive',\n 'advantage',\n 'during',\n 'my',\n 'term',\n 'i',\n 'will',\n 'be',\n 'dedicated',\n 'to',\n 'further',\n 'reinforcing',\n 'a',\n 'differentiated',\n 'brand',\n 'of',\n 'healthy',\n 'soonchunhyang',\n 'university',\n 'specifically',\n 'i',\n 'will',\n 'cultivate',\n 'our',\n 'healthy',\n 'campus',\n 'to',\n 'enhance',\n 'student',\n 'satisfaction',\n 'strengthen',\n 'healthcare',\n 'specialization',\n 'to',\n 'promote',\n 'clinical',\n 'faculty',\n 's',\n 'translational',\n 'research',\n 'and',\n 'realize',\n 'healthy',\n 'finance',\n 'to',\n 'overcome',\n 'the',\n 'challenges',\n 'of',\n 'university',\n 'finance',\n 'my',\n 'beloved',\n 'soonchunhyang',\n 'family',\n 'management',\n 'and',\n 'growth',\n 'are',\n 'two',\n 'pillars',\n 'in',\n 'operating',\n 'an',\n 'institution',\n 'generally',\n 'universities',\n 'are',\n 'more',\n 'focused',\n 'on',\n 'their',\n 'management',\n 'systems',\n 'during',\n 'my',\n 'term',\n 'however',\n 'i',\n 'will',\n 'put',\n 'more',\n 'weight',\n 'in',\n 'growth',\n 'this',\n 'shift',\n 'of',\n 'focus',\n 'will',\n 'bring',\n 'about',\n 'significant',\n 'changes',\n 'in',\n 'our',\n 'administrative',\n 'paradigm',\n 'i',\n 'will',\n 'strive',\n 'to',\n 'lay',\n 'a',\n 'solid',\n 'foundation',\n 'for',\n 'new',\n 'growth',\n 'building',\n 'on',\n 'our',\n 'accumulated',\n 'capabilities',\n 'enthusiasm',\n 'and',\n 'the',\n 'love',\n 'of',\n 'all',\n 'of',\n 'us',\n 'toward',\n 'our',\n 'soonchunhyang',\n 'community',\n 'i',\n 'firmly',\n 'believe',\n 'the',\n 'philosophy',\n 'of',\n 'the',\n 'founder',\n 'of',\n 'soonchunhyang',\n 'university',\n 'the',\n 'late',\n 'dr',\n 'succ',\n 'jo',\n 'suh',\n 'that',\n 'the',\n 'future',\n 'of',\n 'soonchunhyang',\n 'is',\n 'only',\n 'built',\n 'on',\n 'human',\n 'respect',\n 'i',\n 'will',\n 'realize',\n 'a',\n 'happy',\n 'and',\n 'bright',\n 'university',\n 'campus',\n 'where',\n 'all',\n 'members',\n 'respect',\n 'each',\n 'other',\n 'through',\n 'open',\n 'communication',\n 'and',\n 'mutual',\n 'support',\n 'listening',\n 'carefully',\n 'to',\n 'the',\n 'opinions',\n 'of',\n 'our',\n 'soonchunhyang',\n 'family',\n 'i',\n 'will',\n 'do',\n 'my',\n 'best',\n 'to',\n 'achieve',\n 'a',\n 'university',\n 'culture',\n 'of',\n 'trust',\n 'and',\n 'harmony',\n 'through',\n 'communication',\n 'across',\n 'various',\n 'channels',\n 'thank',\n 'you',\n 'industry',\n 'and',\n 'academics',\n 'prosper',\n 'together',\n 'through',\n 'splendid',\n 'performance',\n 'in',\n 'innovative',\n 'research',\n 'lift',\n 'our',\n 'brand',\n 'to',\n 'the',\n 'world',\n 'by',\n 'rising',\n 'as',\n 'a',\n 'prestigious',\n 'specialized',\n 'university',\n 'march',\n '2',\n '2021',\n 'seungwoo',\n 'kim',\n 'ph',\n 'd',\n 'the',\n '9th',\n 'president']"
     },
     "execution_count": 16,
     "metadata": {},
     "output_type": "execute_result"
    }
   ],
   "source": [
    "tokens"
   ],
   "metadata": {
    "collapsed": false,
    "pycharm": {
     "name": "#%%\n"
    }
   }
  },
  {
   "cell_type": "code",
   "execution_count": 23,
   "outputs": [
    {
     "data": {
      "text/plain": "['message',\n 'president',\n 'beloved',\n 'soonchunhyang',\n 'students',\n 'faculty',\n 'staff',\n 'alumni',\n 'soonchunhyang',\n 'university',\n 'higher',\n 'educational',\n 'institution',\n 'opened',\n 'korea',\n 'first',\n 'medical',\n 'corporation',\n 'half',\n 'century',\n 'grown',\n 'one',\n 'best',\n 'prestigious',\n 'private',\n 'universities',\n 'appointed',\n 'president',\n 'greatly',\n 'honored',\n 'wish',\n 'open',\n 'new',\n 'bright',\n 'future',\n '9th',\n 'president',\n 'soonchunhyang',\n 'university',\n 'cherish',\n 'respect',\n 'humanity',\n 'founding',\n 'philosophy',\n 'university',\n 'explore',\n 'new',\n 'road',\n 'working',\n 'unison',\n 'one',\n 'mind',\n 'based',\n 'good',\n 'university',\n 'image',\n 'sustainability',\n 'soonchunhyang',\n 'pursue',\n 'innovation',\n 'excellence',\n 'academic',\n 'performance',\n 'rise',\n 'great',\n 'university',\n 'exert',\n 'continuous',\n 'impact',\n 'across',\n 'society',\n 'first',\n 'launch',\n 'new',\n 'normal',\n 'blended',\n 'learning',\n 'innovation',\n 'soonchunhyang',\n 'tlst',\n 'teaching',\n 'less',\n 'self',\n 'teaching',\n 'paradigm',\n 'demonstrated',\n 'educational',\n 'innovation',\n 'soonchunhyang',\n 'implemented',\n 'tandem',\n 'global',\n 'standards',\n 'proud',\n 'nation',\n 'best',\n 'level',\n 'going',\n 'forward',\n 'build',\n 'new',\n 'normal',\n 'blended',\n 'learning',\n 'system',\n 'support',\n 'student',\n 'learning',\n 'online',\n 'offline',\n 'post',\n 'pandemic',\n 'era',\n 'soonchunhyang',\n 'continue',\n 'leading',\n 'korea',\n 'educational',\n 'innovation',\n 'establish',\n 'enthusiastic',\n 'campus',\n 'platform',\n 'help',\n 'student',\n 'seek',\n 'self',\n 'development',\n 'campus',\n 'challenging',\n 'learning',\n 'platform',\n 'aiming',\n 'cultivate',\n 'student',\n 'learning',\n 'ability',\n 'active',\n 'host',\n '2021',\n 'admission',\n 'ceremony',\n 'soonchunhyang',\n 'conducted',\n 'metaverse',\n 'freshmen',\n 'participated',\n 'tangible',\n 'virtual',\n 'reality',\n 'world',\n 'first',\n 'heralds',\n 'start',\n 'new',\n 'normal',\n 'enthusiastic',\n 'campus',\n 'platform',\n 'opens',\n 'new',\n 'history',\n 'university',\n 'education',\n 'paradigm',\n 'second',\n 'soonchunhyang',\n 'mecca',\n 'practical',\n 'convergence',\n 'research',\n 'cultivation',\n 'campus',\n 'bd',\n 'park',\n 'soonchunhyang',\n 'university',\n 'become',\n 'top',\n 'regional',\n 'private',\n 'university',\n 'five',\n 'business',\n 'groups',\n 'selected',\n '4th',\n 'phase',\n 'bk',\n 'brain',\n 'korea',\n 'projects',\n '2020',\n 'shown',\n 'success',\n 'stories',\n 'global',\n 'leading',\n 'universities',\n 'practical',\n 'research',\n 'played',\n 'pivotal',\n 'role',\n 'promoting',\n 'profit',\n 'oriented',\n 'university',\n 'finance',\n 'management',\n 'build',\n 'support',\n 'system',\n 'soonchunhyang',\n 'makes',\n 'significant',\n 'contribution',\n 'solving',\n 'social',\n 'issues',\n 'strengthening',\n 'convergence',\n 'biomedicine',\n 'information',\n 'communications',\n 'technology',\n 'humanities',\n 'curriculum',\n 'academic',\n 'environment',\n 'restructured',\n 'ensure',\n 'graduate',\n 'school',\n 'forefront',\n 'cultivating',\n 'research',\n 'talents',\n 'ensure',\n 'early',\n 'construction',\n 'campus',\n 'bd',\n 'park',\n 'foster',\n 'cooperation',\n 'various',\n 'campus',\n 'startup',\n 'infrastructures',\n 'promote',\n 'collaboration',\n 'national',\n 'local',\n 'governments',\n 'third',\n 'lift',\n 'sch',\n 'brand',\n 'value',\n 'rank',\n 'among',\n 'top',\n '200',\n 'universities',\n 'world',\n 'top',\n '20',\n 'korea',\n 'today',\n 'brand',\n 'value',\n 'university',\n 'directly',\n 'related',\n 'competitiveness',\n 'amid',\n 'covid',\n '19',\n 'pandemic',\n 'university',\n 'brand',\n 'gained',\n 'increasing',\n 'importance',\n 'boost',\n 'positive',\n 'preference',\n 'enhancing',\n 'soonchunhyang',\n 'brand',\n 'recognition',\n 'nurturing',\n 'reputation',\n 'goal',\n 'rank',\n 'among',\n 'top',\n '200',\n 'impact',\n 'rankings',\n 'top',\n '100',\n 'qs',\n 'asian',\n 'university',\n 'rankings',\n 'hospital',\n 'goal',\n 'rank',\n 'among',\n 'top',\n '100',\n 'world',\n 'best',\n 'hospitals',\n 'newsweek',\n 'building',\n 'perceived',\n 'quality',\n 'pq',\n 'closely',\n 'related',\n 'university',\n 'brand',\n 'value',\n 'achieve',\n 'soonchunhyang',\n 'brand',\n 'asset',\n 'value',\n 'ranking',\n 'top',\n '20',\n 'korea',\n 'top',\n '200',\n 'world',\n 'fourth',\n 'build',\n 'differentiated',\n 'brand',\n 'soonchunhyang',\n 'healthy',\n 'university',\n 'sh3u',\n 'covid',\n '19',\n 'pandemic',\n 'completely',\n 'changed',\n 'lives',\n 'perception',\n 'social',\n 'structure',\n 'university',\n 'exception',\n 'health',\n 'safety',\n 'university',\n 'members',\n 'considered',\n 'important',\n 'education',\n 'soonchunhyang',\n 'university',\n 'established',\n 'image',\n 'one',\n 'healthiest',\n 'universities',\n 'korea',\n 'built',\n 'sufficient',\n 'capability',\n 'attained',\n 'competitive',\n 'advantage',\n 'term',\n 'dedicated',\n 'reinforcing',\n 'differentiated',\n 'brand',\n 'healthy',\n 'soonchunhyang',\n 'university',\n 'specifically',\n 'cultivate',\n 'healthy',\n 'campus',\n 'enhance',\n 'student',\n 'satisfaction',\n 'strengthen',\n 'healthcare',\n 'specialization',\n 'promote',\n 'clinical',\n 'faculty',\n 'translational',\n 'research',\n 'realize',\n 'healthy',\n 'finance',\n 'overcome',\n 'challenges',\n 'university',\n 'finance',\n 'beloved',\n 'soonchunhyang',\n 'family',\n 'management',\n 'growth',\n 'two',\n 'pillars',\n 'operating',\n 'institution',\n 'generally',\n 'universities',\n 'focused',\n 'management',\n 'systems',\n 'term',\n 'however',\n 'put',\n 'weight',\n 'growth',\n 'shift',\n 'focus',\n 'bring',\n 'significant',\n 'changes',\n 'administrative',\n 'paradigm',\n 'strive',\n 'lay',\n 'solid',\n 'foundation',\n 'new',\n 'growth',\n 'building',\n 'accumulated',\n 'capabilities',\n 'enthusiasm',\n 'love',\n 'us',\n 'toward',\n 'soonchunhyang',\n 'community',\n 'firmly',\n 'believe',\n 'philosophy',\n 'founder',\n 'soonchunhyang',\n 'university',\n 'late',\n 'dr',\n 'succ',\n 'jo',\n 'suh',\n 'future',\n 'soonchunhyang',\n 'built',\n 'human',\n 'respect',\n 'realize',\n 'happy',\n 'bright',\n 'university',\n 'campus',\n 'members',\n 'respect',\n 'open',\n 'communication',\n 'mutual',\n 'support',\n 'listening',\n 'carefully',\n 'opinions',\n 'soonchunhyang',\n 'family',\n 'best',\n 'achieve',\n 'university',\n 'culture',\n 'trust',\n 'harmony',\n 'communication',\n 'across',\n 'various',\n 'channels',\n 'thank',\n 'industry',\n 'academics',\n 'prosper',\n 'together',\n 'splendid',\n 'performance',\n 'innovative',\n 'research',\n 'lift',\n 'brand',\n 'world',\n 'rising',\n 'prestigious',\n 'specialized',\n 'university',\n 'march',\n '2021',\n 'seungwoo',\n 'kim',\n 'ph',\n '9th',\n 'president']"
     },
     "execution_count": 23,
     "metadata": {},
     "output_type": "execute_result"
    }
   ],
   "source": [
    "stopped_tokens = [i for i in tokens if not i in stop_words]\n",
    "stopped_tokens2 = [i for i in stopped_tokens if len(i) > 1]\n",
    "stopped_tokens2"
   ],
   "metadata": {
    "collapsed": false,
    "pycharm": {
     "name": "#%%\n"
    }
   }
  },
  {
   "cell_type": "code",
   "execution_count": 26,
   "outputs": [
    {
     "data": {
      "text/plain": "university       23\nsoonchunhyang    21\nbrand             9\ncampus            8\ntop               8\ndtype: int64"
     },
     "execution_count": 26,
     "metadata": {},
     "output_type": "execute_result"
    }
   ],
   "source": [
    "pd.Series(stopped_tokens2).value_counts().head()"
   ],
   "metadata": {
    "collapsed": false,
    "pycharm": {
     "name": "#%%\n"
    }
   }
  },
  {
   "cell_type": "code",
   "execution_count": 1,
   "outputs": [
    {
     "ename": "AttributeError",
     "evalue": "Java package 'kr.lucypark.jhannanum.comm' is not valid",
     "output_type": "error",
     "traceback": [
      "\u001B[1;31m---------------------------------------------------------------------------\u001B[0m",
      "\u001B[1;31mAttributeError\u001B[0m                            Traceback (most recent call last)",
      "Cell \u001B[1;32mIn [1], line 6\u001B[0m\n\u001B[0;32m      3\u001B[0m \u001B[38;5;28;01mimport\u001B[39;00m \u001B[38;5;21;01mpandas\u001B[39;00m \u001B[38;5;28;01mas\u001B[39;00m \u001B[38;5;21;01mpd\u001B[39;00m\n\u001B[0;32m      4\u001B[0m \u001B[38;5;28;01mfrom\u001B[39;00m \u001B[38;5;21;01mkonlpy\u001B[39;00m\u001B[38;5;21;01m.\u001B[39;00m\u001B[38;5;21;01mtag\u001B[39;00m \u001B[38;5;28;01mimport\u001B[39;00m Hannanum\n\u001B[1;32m----> 6\u001B[0m hannanum \u001B[38;5;241m=\u001B[39m Hannanum()\n\u001B[0;32m      7\u001B[0m \u001B[38;5;28;01mwith\u001B[39;00m \u001B[38;5;28mopen\u001B[39m(file\u001B[38;5;241m=\u001B[39m\u001B[38;5;124m\"\u001B[39m\u001B[38;5;124m../data/hangul.txt\u001B[39m\u001B[38;5;124m\"\u001B[39m,\n\u001B[0;32m      8\u001B[0m           mode\u001B[38;5;241m=\u001B[39m\u001B[38;5;124m\"\u001B[39m\u001B[38;5;124mrt\u001B[39m\u001B[38;5;124m\"\u001B[39m,\n\u001B[0;32m      9\u001B[0m           encoding\u001B[38;5;241m=\u001B[39m\u001B[38;5;124m\"\u001B[39m\u001B[38;5;124mutf-8\u001B[39m\u001B[38;5;124m\"\u001B[39m) \u001B[38;5;28;01mas\u001B[39;00m f:\n\u001B[0;32m     10\u001B[0m     lines \u001B[38;5;241m=\u001B[39m f\u001B[38;5;241m.\u001B[39mreadlines()\n",
      "File \u001B[1;32m~\\Desktop\\텍스트 마이닝\\venv38\\lib\\site-packages\\konlpy\\tag\\_hannanum.py:72\u001B[0m, in \u001B[0;36mHannanum.__init__\u001B[1;34m(self, jvmpath, max_heap_size)\u001B[0m\n\u001B[0;32m     69\u001B[0m     jvm\u001B[38;5;241m.\u001B[39minit_jvm(jvmpath, max_heap_size)\n\u001B[0;32m     71\u001B[0m jhannanumJavaPackage \u001B[38;5;241m=\u001B[39m jpype\u001B[38;5;241m.\u001B[39mJPackage(\u001B[38;5;124m'\u001B[39m\u001B[38;5;124mkr.lucypark.jhannanum.comm\u001B[39m\u001B[38;5;124m'\u001B[39m)\n\u001B[1;32m---> 72\u001B[0m HannanumInterfaceJavaClass \u001B[38;5;241m=\u001B[39m \u001B[43mjhannanumJavaPackage\u001B[49m\u001B[38;5;241;43m.\u001B[39;49m\u001B[43mHannanumInterface\u001B[49m\n\u001B[0;32m     73\u001B[0m \u001B[38;5;28mself\u001B[39m\u001B[38;5;241m.\u001B[39mjhi \u001B[38;5;241m=\u001B[39m HannanumInterfaceJavaClass()  \u001B[38;5;66;03m# Java instance\u001B[39;00m\n\u001B[0;32m     74\u001B[0m \u001B[38;5;28mself\u001B[39m\u001B[38;5;241m.\u001B[39mtagset \u001B[38;5;241m=\u001B[39m utils\u001B[38;5;241m.\u001B[39mread_json(\u001B[38;5;124m'\u001B[39m\u001B[38;5;132;01m%s\u001B[39;00m\u001B[38;5;124m/data/tagset/hannanum.json\u001B[39m\u001B[38;5;124m'\u001B[39m \u001B[38;5;241m%\u001B[39m utils\u001B[38;5;241m.\u001B[39minstallpath)\n",
      "\u001B[1;31mAttributeError\u001B[0m: Java package 'kr.lucypark.jhannanum.comm' is not valid"
     ]
    }
   ],
   "source": [
    "# 한글 문서의 단어 빈도분석\n",
    "# 문지훈 교수의 순천향대학교 자소서를 분석해보자!\n",
    "import pandas as pd\n",
    "from konlpy.tag import Hannanum\n",
    "\n",
    "hannanum = Hannanum()\n",
    "with open(file=\"../data/hangul.txt\",\n",
    "          mode=\"rt\",\n",
    "          encoding=\"utf-8\") as f:\n",
    "    lines = f.readlines()"
   ],
   "metadata": {
    "collapsed": false,
    "pycharm": {
     "name": "#%%\n"
    }
   }
  },
  {
   "cell_type": "code",
   "execution_count": 2,
   "outputs": [
    {
     "ename": "NameError",
     "evalue": "name 'lines' is not defined",
     "output_type": "error",
     "traceback": [
      "\u001B[1;31m---------------------------------------------------------------------------\u001B[0m",
      "\u001B[1;31mNameError\u001B[0m                                 Traceback (most recent call last)",
      "Cell \u001B[1;32mIn [2], line 2\u001B[0m\n\u001B[0;32m      1\u001B[0m temp \u001B[38;5;241m=\u001B[39m []\n\u001B[1;32m----> 2\u001B[0m \u001B[38;5;28;01mfor\u001B[39;00m i \u001B[38;5;129;01min\u001B[39;00m \u001B[38;5;28mrange\u001B[39m(\u001B[38;5;28mlen\u001B[39m(lines)):\n\u001B[0;32m      3\u001B[0m     temp\u001B[38;5;241m.\u001B[39mappend(hannanum\u001B[38;5;241m.\u001B[39mnouns(lines[i]))\n",
      "\u001B[1;31mNameError\u001B[0m: name 'lines' is not defined"
     ]
    }
   ],
   "source": [
    "temp = []\n",
    "for i in range(len(lines)):\n",
    "    temp.append(hannanum.nouns(lines[i]))"
   ],
   "metadata": {
    "collapsed": false,
    "pycharm": {
     "name": "#%%\n"
    }
   }
  },
  {
   "cell_type": "code",
   "execution_count": 3,
   "outputs": [],
   "source": [
    "# 중접 리스트를 하나의 리스트로 변환하는 함수\n",
    "def flatten(data_list):\n",
    "    flat_list = []\n",
    "    for elem in data_list:\n",
    "        if type(elem) == list:\n",
    "            for e in elem:\n",
    "                flat_list.append(e)\n",
    "        else:\n",
    "            flat_list.append(elem)\n",
    "    return flat_list"
   ],
   "metadata": {
    "collapsed": false,
    "pycharm": {
     "name": "#%%\n"
    }
   }
  },
  {
   "cell_type": "code",
   "execution_count": 4,
   "outputs": [],
   "source": [
    "word_list = flatten(temp)"
   ],
   "metadata": {
    "collapsed": false,
    "pycharm": {
     "name": "#%%\n"
    }
   }
  },
  {
   "cell_type": "code",
   "execution_count": 5,
   "outputs": [
    {
     "name": "stderr",
     "output_type": "stream",
     "text": [
      "C:\\Users\\student\\AppData\\Local\\Temp\\ipykernel_12728\\3385591189.py:2: FutureWarning: The default dtype for empty Series will be 'object' instead of 'float64' in a future version. Specify a dtype explicitly to silence this warning.\n",
      "  word_list = pd.Series([x for x in word_list if len(x) > 1])\n"
     ]
    }
   ],
   "source": [
    "# 두 글자 이상인 단어들만 추출\n",
    "word_list = pd.Series([x for x in word_list if len(x) > 1])"
   ],
   "metadata": {
    "collapsed": false,
    "pycharm": {
     "name": "#%%\n"
    }
   }
  },
  {
   "cell_type": "code",
   "execution_count": 6,
   "outputs": [
    {
     "data": {
      "text/plain": "Series([], dtype: int64)"
     },
     "execution_count": 6,
     "metadata": {},
     "output_type": "execute_result"
    }
   ],
   "source": [
    "word_list.value_counts().head(10)"
   ],
   "metadata": {
    "collapsed": false,
    "pycharm": {
     "name": "#%%\n"
    }
   }
  },
  {
   "cell_type": "markdown",
   "source": [
    "# 2. 워드 클라우드"
   ],
   "metadata": {
    "collapsed": false,
    "pycharm": {
     "name": "#%% md\n"
    }
   }
  },
  {
   "cell_type": "code",
   "execution_count": 7,
   "outputs": [
    {
     "ename": "ModuleNotFoundError",
     "evalue": "No module named 'wordcloud'",
     "output_type": "error",
     "traceback": [
      "\u001B[1;31m---------------------------------------------------------------------------\u001B[0m",
      "\u001B[1;31mModuleNotFoundError\u001B[0m                       Traceback (most recent call last)",
      "Input \u001B[1;32mIn [7]\u001B[0m, in \u001B[0;36m<cell line: 2>\u001B[1;34m()\u001B[0m\n\u001B[0;32m      1\u001B[0m \u001B[38;5;66;03m# pip install wordcloud\u001B[39;00m\n\u001B[1;32m----> 2\u001B[0m \u001B[38;5;28;01mfrom\u001B[39;00m \u001B[38;5;21;01mwordcloud\u001B[39;00m \u001B[38;5;28;01mimport\u001B[39;00m WordCloud\n\u001B[0;32m      3\u001B[0m \u001B[38;5;28;01mfrom\u001B[39;00m \u001B[38;5;21;01mcollections\u001B[39;00m \u001B[38;5;28;01mimport\u001B[39;00m Counter\n\u001B[0;32m      4\u001B[0m font_path \u001B[38;5;241m=\u001B[39m \u001B[38;5;124m\"\u001B[39m\u001B[38;5;124mNanumBarunGothic.ttf\u001B[39m\u001B[38;5;124m\"\u001B[39m\n",
      "\u001B[1;31mModuleNotFoundError\u001B[0m: No module named 'wordcloud'"
     ]
    }
   ],
   "source": [
    "# pip install wordcloud\n",
    "from wordcloud import WordCloud\n",
    "from collections import Counter\n",
    "font_path = \"NanumBarunGothic.ttf\""
   ],
   "metadata": {
    "collapsed": false,
    "pycharm": {
     "name": "#%%\n"
    }
   }
  },
  {
   "cell_type": "code",
   "execution_count": 8,
   "outputs": [
    {
     "ename": "NameError",
     "evalue": "name 'WordCloud' is not defined",
     "output_type": "error",
     "traceback": [
      "\u001B[1;31m---------------------------------------------------------------------------\u001B[0m",
      "\u001B[1;31mNameError\u001B[0m                                 Traceback (most recent call last)",
      "Input \u001B[1;32mIn [8]\u001B[0m, in \u001B[0;36m<cell line: 3>\u001B[1;34m()\u001B[0m\n\u001B[0;32m      1\u001B[0m \u001B[38;5;28;01mimport\u001B[39;00m \u001B[38;5;21;01mnumpy\u001B[39;00m \u001B[38;5;28;01mas\u001B[39;00m \u001B[38;5;21;01mnp\u001B[39;00m\n\u001B[1;32m----> 3\u001B[0m word_cloud \u001B[38;5;241m=\u001B[39m \u001B[43mWordCloud\u001B[49m(\n\u001B[0;32m      4\u001B[0m     font_path\u001B[38;5;241m=\u001B[39mfont_path,\n\u001B[0;32m      5\u001B[0m     width\u001B[38;5;241m=\u001B[39m\u001B[38;5;241m800\u001B[39m,\n\u001B[0;32m      6\u001B[0m     height\u001B[38;5;241m=\u001B[39m\u001B[38;5;241m800\u001B[39m,\n\u001B[0;32m      7\u001B[0m     background_color\u001B[38;5;241m=\u001B[39m\u001B[38;5;124m\"\u001B[39m\u001B[38;5;124mwhite\u001B[39m\u001B[38;5;124m\"\u001B[39m,\n\u001B[0;32m      8\u001B[0m )\n\u001B[0;32m     10\u001B[0m count \u001B[38;5;241m=\u001B[39m Counter(stopped_tokens2)\n\u001B[0;32m     11\u001B[0m word_cloud \u001B[38;5;241m=\u001B[39m word_cloud\u001B[38;5;241m.\u001B[39mgenerate_from_frequencies(count)\n",
      "\u001B[1;31mNameError\u001B[0m: name 'WordCloud' is not defined"
     ]
    }
   ],
   "source": [
    "import numpy as np\n",
    "\n",
    "word_cloud = WordCloud(\n",
    "    font_path=font_path,\n",
    "    width=800,\n",
    "    height=800,\n",
    "    background_color=\"white\",\n",
    ")\n",
    "\n",
    "count = Counter(stopped_tokens2)\n",
    "word_cloud = word_cloud.generate_from_frequencies(count)\n",
    "\n",
    "def __array__(self):\n",
    "    \"\"\" Convert to numpy array.\n",
    "\n",
    "    :param self:\n",
    "    :return: image : nd-array size  (width, height, 3)\n",
    "        Word cloud image as numpy matrix.\n",
    "    \"\"\"\n",
    "    return self.to_array()\n",
    "\n",
    "def to_array(self):\n",
    "    \"\"\"Convert to numpyarray.\n",
    "    Returns\n",
    "    -------\n",
    "    image : nd-array size (width, height, 3)\n",
    "        Word cloud image as numpymatrix.\n",
    "    \"\"\"\n",
    "    return np.array(self.to_image())\n",
    "\n",
    "array = word_cloud.to_array()\n",
    "get_ipython().run_line_magic(\"matplotlib\", \"inline\")\n",
    "import matplotlib.pyplot as plt\n",
    "\n",
    "fig = plt.figure(figsize=(10, 10))\n",
    "plt.imshow(array, interpolation=\"bilinear\")\n",
    "plt.show()\n",
    "fig.savefig(\"worldcloud.png\")\n",
    "\n",
    "from PIL import Image\n",
    "sch_mask = np.array(Image.open(\"sch.png\"))\n",
    "\n",
    "plt.figure(figsize=(8, 8))\n",
    "plt.imshow(sch_mask, interpolation=\"bilinear\")\n",
    "plt.show()"
   ],
   "metadata": {
    "collapsed": false,
    "pycharm": {
     "name": "#%%\n"
    }
   }
  },
  {
   "cell_type": "code",
   "execution_count": 9,
   "outputs": [
    {
     "ename": "NameError",
     "evalue": "name 'Counter' is not defined",
     "output_type": "error",
     "traceback": [
      "\u001B[1;31m---------------------------------------------------------------------------\u001B[0m",
      "\u001B[1;31mNameError\u001B[0m                                 Traceback (most recent call last)",
      "Input \u001B[1;32mIn [9]\u001B[0m, in \u001B[0;36m<cell line: 1>\u001B[1;34m()\u001B[0m\n\u001B[1;32m----> 1\u001B[0m count \u001B[38;5;241m=\u001B[39m \u001B[43mCounter\u001B[49m(stopped_tokens2)\n\u001B[0;32m      3\u001B[0m wc_sch \u001B[38;5;241m=\u001B[39m WordCloud(\n\u001B[0;32m      4\u001B[0m     font_path\u001B[38;5;241m=\u001B[39mfont_path,\n\u001B[0;32m      5\u001B[0m     mask\u001B[38;5;241m=\u001B[39msch_mask,\n\u001B[0;32m      6\u001B[0m     background_color\u001B[38;5;241m=\u001B[39m\u001B[38;5;124m\"\u001B[39m\u001B[38;5;124mwhite\u001B[39m\u001B[38;5;124m\"\u001B[39m\n\u001B[0;32m      7\u001B[0m )\n\u001B[0;32m      9\u001B[0m wc_sch \u001B[38;5;241m=\u001B[39m wc_sch\u001B[38;5;241m.\u001B[39mgenerate_from_frequencies(count)\n",
      "\u001B[1;31mNameError\u001B[0m: name 'Counter' is not defined"
     ]
    }
   ],
   "source": [
    "count = Counter(stopped_tokens2)\n",
    "\n",
    "wc_sch = WordCloud(\n",
    "    font_path=font_path,\n",
    "    mask=sch_mask,\n",
    "    background_color=\"white\"\n",
    ")\n",
    "\n",
    "wc_sch = wc_sch.generate_from_frequencies(count)"
   ],
   "metadata": {
    "collapsed": false,
    "pycharm": {
     "name": "#%%\n"
    }
   }
  },
  {
   "cell_type": "code",
   "execution_count": 10,
   "outputs": [
    {
     "ename": "NameError",
     "evalue": "name 'plt' is not defined",
     "output_type": "error",
     "traceback": [
      "\u001B[1;31m---------------------------------------------------------------------------\u001B[0m",
      "\u001B[1;31mNameError\u001B[0m                                 Traceback (most recent call last)",
      "Input \u001B[1;32mIn [10]\u001B[0m, in \u001B[0;36m<cell line: 1>\u001B[1;34m()\u001B[0m\n\u001B[1;32m----> 1\u001B[0m \u001B[43mplt\u001B[49m\u001B[38;5;241m.\u001B[39mfigure(figsize\u001B[38;5;241m=\u001B[39m(\u001B[38;5;241m8\u001B[39m, \u001B[38;5;241m8\u001B[39m))\n\u001B[0;32m      2\u001B[0m plt\u001B[38;5;241m.\u001B[39mimshow(wc_sch, interpolation\u001B[38;5;241m=\u001B[39m\u001B[38;5;124m\"\u001B[39m\u001B[38;5;124mbilinear\u001B[39m\u001B[38;5;124m\"\u001B[39m)\n\u001B[0;32m      3\u001B[0m plt\u001B[38;5;241m.\u001B[39maxis(\u001B[38;5;124m\"\u001B[39m\u001B[38;5;124moff\u001B[39m\u001B[38;5;124m\"\u001B[39m)\n",
      "\u001B[1;31mNameError\u001B[0m: name 'plt' is not defined"
     ]
    }
   ],
   "source": [
    "plt.figure(figsize=(8, 8))\n",
    "plt.imshow(wc_sch, interpolation=\"bilinear\")\n",
    "plt.axis(\"off\")\n",
    "plt.show()"
   ],
   "metadata": {
    "collapsed": false,
    "pycharm": {
     "name": "#%%\n"
    }
   }
  },
  {
   "cell_type": "code",
   "execution_count": 11,
   "outputs": [
    {
     "ename": "ModuleNotFoundError",
     "evalue": "No module named 'worldcloud'",
     "output_type": "error",
     "traceback": [
      "\u001B[1;31m---------------------------------------------------------------------------\u001B[0m",
      "\u001B[1;31mModuleNotFoundError\u001B[0m                       Traceback (most recent call last)",
      "Input \u001B[1;32mIn [11]\u001B[0m, in \u001B[0;36m<cell line: 1>\u001B[1;34m()\u001B[0m\n\u001B[1;32m----> 1\u001B[0m \u001B[38;5;28;01mfrom\u001B[39;00m \u001B[38;5;21;01mworldcloud\u001B[39;00m \u001B[38;5;28;01mimport\u001B[39;00m ImageColorGenerator\n\u001B[0;32m      2\u001B[0m image_colors \u001B[38;5;241m=\u001B[39m ImageColorGenerator(sch_mask)\n\u001B[0;32m      4\u001B[0m plt\u001B[38;5;241m.\u001B[39mfigure(figsize\u001B[38;5;241m=\u001B[39m(\u001B[38;5;241m8\u001B[39m, \u001B[38;5;241m8\u001B[39m))\n",
      "\u001B[1;31mModuleNotFoundError\u001B[0m: No module named 'worldcloud'"
     ]
    }
   ],
   "source": [
    "from worldcloud import ImageColorGenerator\n",
    "image_colors = ImageColorGenerator(sch_mask)\n",
    "\n",
    "plt.figure(figsize=(8, 8))\n",
    "plt.imshow(wc_sch.recolor(color_func=image_colors),\n",
    "           interpolation=\"bilinear\")\n",
    "plt.axis(\"off\")\n",
    "plt.show()"
   ],
   "metadata": {
    "collapsed": false,
    "pycharm": {
     "name": "#%%\n"
    }
   }
  },
  {
   "cell_type": "code",
   "execution_count": null,
   "outputs": [],
   "source": [
    "count = Counter(word_list)\n",
    "worldcloud = worldcloud.generate_from_frequencies(count)\n",
    "array = word_cloud.to_array()\n",
    "get_ipython().run_line_magic(\"matplotlib\", \"inline\")\n",
    "\n",
    "fig = plt.figure(figsize=(10, 10))\n",
    "plt.imshow(array, interpolation=\"bilinear\")\n",
    "plt.show()\n",
    "fig.savefig(\"wordcloud2.png\")"
   ],
   "metadata": {
    "collapsed": false,
    "pycharm": {
     "name": "#%%\n"
    }
   }
  }
 ],
 "metadata": {
  "kernelspec": {
   "display_name": "Python 3",
   "language": "python",
   "name": "python3"
  },
  "language_info": {
   "codemirror_mode": {
    "name": "ipython",
    "version": 2
   },
   "file_extension": ".py",
   "mimetype": "text/x-python",
   "name": "python",
   "nbconvert_exporter": "python",
   "pygments_lexer": "ipython2",
   "version": "2.7.6"
  }
 },
 "nbformat": 4,
 "nbformat_minor": 0
}