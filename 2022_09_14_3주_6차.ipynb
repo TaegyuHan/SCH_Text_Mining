{
 "cells": [
  {
   "cell_type": "markdown",
   "source": [
    "# SCH 빅데이터 공학과 3학년-2학기 텍스트 마이닝\n",
    "날짜 : 2022-09-14 수요일 15:00 3주 6차시\n",
    "교수 : 문지훈\n",
    "학생 : 한태규"
   ],
   "metadata": {
    "collapsed": false,
    "pycharm": {
     "name": "#%% md\n"
    }
   }
  },
  {
   "cell_type": "markdown",
   "source": [
    "### pandas 라이브러리\n",
    "- 파이썬을 이용하여 데이터를 분석할 때 주로 사용하는 라이브러리\n",
    "- `pd`라는 닉네임으로 주로 알려져 있음\n",
    "- DataFrame : 각 행과 열에 관한 고유의 색인을 지니고 있음\n",
    "\n",
    "### numpy 라이브러리\n",
    "- Numerical Python의 줄임말\n",
    "- 고성능의 과학 계산 컴퓨팅과 데이터 분석에 필수적인 라이브러리\n",
    "- 슬라이스 색인 : \"시작점:끝점\" 방식으로 슬라이스를 할 수 있음\n"
   ],
   "metadata": {
    "collapsed": false,
    "pycharm": {
     "name": "#%% md\n"
    }
   }
  },
  {
   "cell_type": "markdown",
   "source": [
    "주피터 단축키\n",
    "\n",
    "**shift-Enter :** run cell, select below\n",
    "**Ctrl-Enter** : run cell\n",
    "**Y** : to code\n",
    "**M** : to markdown\n",
    "**B** : insert cell below\n",
    "**X** : cut selected cell\n",
    "**C** : copy selected cell\n",
    "**D,D** : delete selected cell"
   ],
   "metadata": {
    "collapsed": false,
    "pycharm": {
     "name": "#%% md\n"
    }
   }
  },
  {
   "cell_type": "markdown",
   "source": [
    "# 정규식\n",
    "\n",
    "## 정규식 표현 알아보기\n",
    "### 정규 표현식\n",
    "- 텍스트 문자열의 패턴 파악 및 식별을 위해 주로 사용하는 방법\n",
    "- 문자열이 주어진 규칙에 일치 또는 불일치하는지를 판단할 수 있음\n",
    "- 특정 패턴을 지닌 문자열을 찾을 수 있어 텍스트 데이터 전처리 및 후처리에 사용되는 크롤링(Crawling)에 널리 활용되고 있음\n",
    "\n",
    "### 정규 표현식 예시\n",
    "- 신문기사 텍스트들을 수집 및 분석\n",
    "    - 이메일 주소 문구가 분석에 방해 기사 본문 (중요함), 이메일 주소 (중요하지 않음)\n",
    "\n",
    "참고 URL : [docs.python.org](https://docs.python.org/3/howto/regex.html)\n",
    "참고 URL : [www.w3schools.com](https://www.w3schools.com/python/python_regex.asp)."
   ],
   "metadata": {
    "collapsed": false,
    "pycharm": {
     "name": "#%% md\n"
    }
   }
  },
  {
   "cell_type": "code",
   "execution_count": 17,
   "outputs": [
    {
     "data": {
      "text/plain": "'김해준이부캐카페사장최준을소환해박세리를향한적극적인구애를펼친다. 오늘(22일) 오후9시방송될MBC 안싸우면다행이야에는박세리, 강남, 박태환의내손내잡(내손으로내가잡는다) 이야기가그려진다. 빽토커로는개그맨허경환, 김해준이출연한다. 이날강남, 박태환은박세리의이상형에대해이야기를나눈다. 강남은박세리에누나내년에결혼해야지. 맥주도끊고라며귀여운잔소리를늘어놓고, 박세리는나는내남자친구가소주좀마셨으면좋겠다라고이상형토크에물꼬를튼다. 또그는자연스러운만남을추구한다. 친구같은남자가좋다라고덧붙인다. 스튜디오에서이를지켜본김해준은자신의부캐(부캐릭터)인최준으로돌변, 박세리를향한연하남의직진을보여준다. 골프를통해박세리와자연스럽게만났다고밝힌최준은누나가아닌세리씨라고하겠다. 동생이아닌이성으로만났기때문이다. 또나는소주를두세병씩마신다라며호감을드러내스튜디오를핑크빛으로물들인다. 하지만최준은박세리에게고백을하기도전에차이는상황에놓인다. 박세리가연하는한번도안만나봤다. 나보다무조건한살이라도많아야한다라고밝힌것. 흥미진진해지는전개에붐, 안정환, 허경환은치고나갈수있냐라고묻고, 최준은사랑에대한가치관은변하기마련이라며이승기의내여자라니까를열창해웃음을안긴다. 황소영엔터뉴스팀기자hwang.soyoung@jtbc.co.kr (콘텐트비즈니스본부)'"
     },
     "execution_count": 17,
     "metadata": {},
     "output_type": "execute_result"
    }
   ],
   "source": [
    "# 정규식 포현식 수행하기\n",
    "\n",
    "# 이메일 주소 패턴에 해당하는 문자열을 찾아 삭제\n",
    "string = \"김해준이부캐카페사장최준을소환해박세리를향한적극적인구애를펼친다. 오늘(22일) 오후9시방송될MBC 안싸우면다행이야에는박세리, 강남, 박태환의내손내잡(내손으로내가잡는다) 이야기가그려진다. 빽토커로는개그맨허경환, 김해준이출연한다. 이날강남, 박태환은박세리의이상형에대해이야기를나눈다. 강남은박세리에누나내년에결혼해야지. 맥주도끊고라며귀여운잔소리를늘어놓고, 박세리는나는내남자친구가소주좀마셨으면좋겠다라고이상형토크에물꼬를튼다. 또그는자연스러운만남을추구한다. 친구같은남자가좋다라고덧붙인다. 스튜디오에서이를지켜본김해준은자신의부캐(부캐릭터)인최준으로돌변, 박세리를향한연하남의직진을보여준다. 골프를통해박세리와자연스럽게만났다고밝힌최준은누나가아닌세리씨라고하겠다. 동생이아닌이성으로만났기때문이다. 또나는소주를두세병씩마신다라며호감을드러내스튜디오를핑크빛으로물들인다. 하지만최준은박세리에게고백을하기도전에차이는상황에놓인다. 박세리가연하는한번도안만나봤다. 나보다무조건한살이라도많아야한다라고밝힌것. 흥미진진해지는전개에붐, 안정환, 허경환은치고나갈수있냐라고묻고, 최준은사랑에대한가치관은변하기마련이라며이승기의내여자라니까를열창해웃음을안긴다. 황소영엔터뉴스팀기자hwang.soyoung@jtbc.co.kr (콘텐트비즈니스본부)\"\n",
    "\n",
    "string"
   ],
   "metadata": {
    "collapsed": false,
    "pycharm": {
     "name": "#%%\n"
    }
   }
  },
  {
   "cell_type": "code",
   "execution_count": 18,
   "outputs": [
    {
     "data": {
      "text/plain": "'김해준이부캐카페사장최준을소환해박세리를향한적극적인구애를펼친다. 오늘(22일) 오후9시방송될MBC 안싸우면다행이야에는박세리, 강남, 박태환의내손내잡(내손으로내가잡는다) 이야기가그려진다. 빽토커로는개그맨허경환, 김해준이출연한다. 이날강남, 박태환은박세리의이상형에대해이야기를나눈다. 강남은박세리에누나내년에결혼해야지. 맥주도끊고라며귀여운잔소리를늘어놓고, 박세리는나는내남자친구가소주좀마셨으면좋겠다라고이상형토크에물꼬를튼다. 또그는자연스러운만남을추구한다. 친구같은남자가좋다라고덧붙인다. 스튜디오에서이를지켜본김해준은자신의부캐(부캐릭터)인최준으로돌변, 박세리를향한연하남의직진을보여준다. 골프를통해박세리와자연스럽게만났다고밝힌최준은누나가아닌세리씨라고하겠다. 동생이아닌이성으로만났기때문이다. 또나는소주를두세병씩마신다라며호감을드러내스튜디오를핑크빛으로물들인다. 하지만최준은박세리에게고백을하기도전에차이는상황에놓인다. 박세리가연하는한번도안만나봤다. 나보다무조건한살이라도많아야한다라고밝힌것. 흥미진진해지는전개에붐, 안정환, 허경환은치고나갈수있냐라고묻고, 최준은사랑에대한가치관은변하기마련이라며이승기의내여자라니까를열창해웃음을안긴다. 황소영엔터뉴스팀기자 (콘텐트비즈니스본부)'"
     },
     "execution_count": 18,
     "metadata": {},
     "output_type": "execute_result"
    }
   ],
   "source": [
    "# 이메일 주소 패턴에 해당하는 문자열을 찾아 삭제\n",
    "import re\n",
    "\n",
    "# 문자열 찾아서 삭제\n",
    "re.sub(\"[a-zA-Z0-9_.+-]+@[a-zA-Z0-9-]+\\.[a-zA-Z0-9-.]+\", \"\", string)"
   ],
   "metadata": {
    "collapsed": false,
    "pycharm": {
     "name": "#%%\n"
    }
   }
  },
  {
   "cell_type": "markdown",
   "source": [
    "정규 표현식 수행하기\n",
    "\n",
    "\\\\([a-zA-Z0-9_.+-]+\n",
    "- 이메일 주소가 처음에 괄호로 둘러싸여 있을 때는 특수문자를 원래 의미대로 쓰게 하는 이스케이프 문자 `\\`를 먼저 입력하고, `(`를 입력\n",
    "- 대괄호 `[]`안에 이메일 주소 패턴을 입력\n",
    "    - 대괄호 안에 넣으면 대괄호에 들어있는 것 중 아무거나라는 의미\n",
    "- 알파벳 대소문자, 숫자, 마침표, `_`기호, `+`기호 중 아무거나 하나 들어가 있는 경우를 모두 찾을 수 있음"
   ],
   "metadata": {
    "collapsed": false,
    "pycharm": {
     "name": "#%% md\n"
    }
   }
  },
  {
   "cell_type": "markdown",
   "source": [
    "\\\\([a-zA-Z0-9_.+-]+\n",
    "- 마침표의 경우 특수 문자를 원래 의미로 쓰게 하기 위해 이스케이프 문자 `\\`와 같이 쓰임\n",
    "- 대괄호 다음에 나오는 `+`기호는 바로 앞에 있는 것이 최소 한 번 이상 나와야 한다는 것을 의미"
   ],
   "metadata": {
    "collapsed": false,
    "pycharm": {
     "name": "#%% md\n"
    }
   }
  },
  {
   "cell_type": "markdown",
   "source": [
    "### 문자열 찾아보기\n",
    "re라이브러리의 compile과 findall 함수"
   ],
   "metadata": {
    "collapsed": false,
    "pycharm": {
     "name": "#%% md\n"
    }
   }
  },
  {
   "cell_type": "code",
   "execution_count": 19,
   "outputs": [
    {
     "data": {
      "text/plain": "['aaaa', 'aabb']"
     },
     "execution_count": 19,
     "metadata": {},
     "output_type": "execute_result"
    }
   ],
   "source": [
    "import re\n",
    "\n",
    "# a라는 문자가 1번 이상 나온 다음에\n",
    "# b라는 문자가 0번 이상 나오는 문자열 찾아보기\n",
    "r = re.compile(\"a+b*\")\n",
    "r.findall(\"aaaa, cc, bbbb, aabb\")"
   ],
   "metadata": {
    "collapsed": false,
    "pycharm": {
     "name": "#%%\n"
    }
   }
  },
  {
   "cell_type": "code",
   "execution_count": 20,
   "outputs": [
    {
     "data": {
      "text/plain": "['SOONCHUNHYANG']"
     },
     "execution_count": 20,
     "metadata": {},
     "output_type": "execute_result"
    }
   ],
   "source": [
    "# 대괄호를 이용해 대문자로 구성된 문자열 찾아보기\n",
    "r = re.compile(\"[A-Z]+\")\n",
    "r.findall(\"SOONCHUNHYANG, soonchunhyang\")"
   ],
   "metadata": {
    "collapsed": false,
    "pycharm": {
     "name": "#%%\n"
    }
   }
  },
  {
   "cell_type": "code",
   "execution_count": 21,
   "outputs": [
    {
     "data": {
      "text/plain": "['aes']"
     },
     "execution_count": 21,
     "metadata": {},
     "output_type": "execute_result"
    }
   ],
   "source": [
    "# `^`와 .을 이용하여 맨 앞에 a가 온 다음에 어떠한 형태든 2개의 문자가 오는 문자열 찾아보기\n",
    "r = re.compile(\"^a..\")\n",
    "r.findall(\"aespa, swings\")"
   ],
   "metadata": {
    "collapsed": false,
    "pycharm": {
     "name": "#%%\n"
    }
   }
  },
  {
   "cell_type": "code",
   "execution_count": 22,
   "outputs": [
    {
     "data": {
      "text/plain": "['aab']"
     },
     "execution_count": 22,
     "metadata": {},
     "output_type": "execute_result"
    }
   ],
   "source": [
    "# 중괄호 표현식 {m, n}을 이용하여 해당 무자열이 m번 이상 n번 이하 나타내는 패턴 찾아보기\n",
    "r = re.compile(\"^a..\")\n",
    "r.findall(\"aabb, aaabb, ab, abb\")"
   ],
   "metadata": {
    "collapsed": false,
    "pycharm": {
     "name": "#%%\n"
    }
   }
  },
  {
   "cell_type": "markdown",
   "source": [
    "re 라이브러리의 compile과 search 함수"
   ],
   "metadata": {
    "collapsed": false,
    "pycharm": {
     "name": "#%% md\n"
    }
   }
  },
  {
   "cell_type": "code",
   "execution_count": 23,
   "outputs": [
    {
     "data": {
      "text/plain": "'https:'"
     },
     "execution_count": 23,
     "metadata": {},
     "output_type": "execute_result"
    }
   ],
   "source": [
    "# 지정된 정규 표현식 패턴과 일치하는 문자열 위치를 찾은 다음에 group 메서드를 통해 패턴과 일치하는 문자들을 그룹화하여 추출하기\n",
    "p = re.compile(\".+:\")\n",
    "m = p.search(\"https://home.sch.ac.kr/bigdata/index.jsp\")\n",
    "m.group()"
   ],
   "metadata": {
    "collapsed": false,
    "pycharm": {
     "name": "#%%\n"
    }
   }
  },
  {
   "cell_type": "code",
   "execution_count": 24,
   "outputs": [
    {
     "data": {
      "text/plain": "'최준:우리집으로 가자!'"
     },
     "execution_count": 24,
     "metadata": {},
     "output_type": "execute_result"
    }
   ],
   "source": [
    "# 첫 번째 인수에 바꿀 문자열을 입력한 다음에 두번째 인수에 대상 문자열을 입력하여 문자 변경하기\n",
    "p = re.compile(\"(이준호)\")\n",
    "p.sub(\"최준\", \"이준호:우리집으로 가자!\")"
   ],
   "metadata": {
    "collapsed": false,
    "pycharm": {
     "name": "#%%\n"
    }
   }
  }
 ],
 "metadata": {
  "kernelspec": {
   "display_name": "Python 3",
   "language": "python",
   "name": "python3"
  },
  "language_info": {
   "codemirror_mode": {
    "name": "ipython",
    "version": 2
   },
   "file_extension": ".py",
   "mimetype": "text/x-python",
   "name": "python",
   "nbconvert_exporter": "python",
   "pygments_lexer": "ipython2",
   "version": "2.7.6"
  }
 },
 "nbformat": 4,
 "nbformat_minor": 0
}